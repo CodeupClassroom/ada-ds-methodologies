{
 "cells": [
  {
   "cell_type": "markdown",
   "metadata": {},
   "source": [
    "## Reading From a MySQL Database"
   ]
  },
  {
   "cell_type": "code",
   "execution_count": 1,
   "metadata": {},
   "outputs": [],
   "source": [
    "import pyspark\n",
    "import env"
   ]
  },
  {
   "cell_type": "code",
   "execution_count": 2,
   "metadata": {},
   "outputs": [],
   "source": [
    "MYSQL_CONNECTOR_VERSION = '8.0.16'\n",
    "\n",
    "spark = (pyspark.sql.SparkSession.builder\n",
    " .config('spark.jars.packages', f'mysql:mysql-connector-java:{MYSQL_CONNECTOR_VERSION}')\n",
    " .getOrCreate())"
   ]
  },
  {
   "cell_type": "code",
   "execution_count": 3,
   "metadata": {},
   "outputs": [],
   "source": [
    "db = 'employees'\n",
    "table = 'salaries'\n",
    "\n",
    "df = (spark.read\n",
    " .option('driver', 'com.mysql.jdbc.Driver')\n",
    " .option('url', f'jdbc:mysql://{env.host}/{db}')\n",
    " .option('user', env.user)\n",
    " .option('password', env.password)\n",
    " .option('dbtable', table)\n",
    " .format('jdbc')\n",
    " .load())"
   ]
  },
  {
   "cell_type": "code",
   "execution_count": 7,
   "metadata": {},
   "outputs": [
    {
     "name": "stdout",
     "output_type": "stream",
     "text": [
      "+------+------+----------+----------+\n",
      "|emp_no|salary| from_date|   to_date|\n",
      "+------+------+----------+----------+\n",
      "| 10001| 60117|1986-06-25|1987-06-25|\n",
      "| 10001| 62102|1987-06-25|1988-06-24|\n",
      "| 10001| 66074|1988-06-24|1989-06-24|\n",
      "| 10001| 66596|1989-06-24|1990-06-24|\n",
      "| 10001| 66961|1990-06-24|1991-06-24|\n",
      "| 10001| 71046|1991-06-24|1992-06-23|\n",
      "| 10001| 74333|1992-06-23|1993-06-23|\n",
      "| 10001| 75286|1993-06-23|1994-06-23|\n",
      "| 10001| 75994|1994-06-23|1995-06-23|\n",
      "| 10001| 76884|1995-06-23|1996-06-22|\n",
      "| 10001| 80013|1996-06-22|1997-06-22|\n",
      "| 10001| 81025|1997-06-22|1998-06-22|\n",
      "| 10001| 81097|1998-06-22|1999-06-22|\n",
      "| 10001| 84917|1999-06-22|2000-06-21|\n",
      "| 10001| 85112|2000-06-21|2001-06-21|\n",
      "| 10001| 85097|2001-06-21|2002-06-21|\n",
      "| 10001| 88958|2002-06-21|9998-12-31|\n",
      "| 10002| 65828|1996-08-02|1997-08-02|\n",
      "| 10002| 65909|1997-08-02|1998-08-02|\n",
      "| 10002| 67534|1998-08-02|1999-08-02|\n",
      "+------+------+----------+----------+\n",
      "only showing top 20 rows\n",
      "\n"
     ]
    }
   ],
   "source": [
    "df.show()"
   ]
  },
  {
   "cell_type": "code",
   "execution_count": 21,
   "metadata": {},
   "outputs": [
    {
     "name": "stdout",
     "output_type": "stream",
     "text": [
      "+------------------+\n",
      "|       avg(salary)|\n",
      "+------------------+\n",
      "|63810.744836143705|\n",
      "+------------------+\n",
      "\n"
     ]
    }
   ],
   "source": [
    "from pyspark.sql.functions import avg\n",
    "\n",
    "df.agg(avg('salary')).show()"
   ]
  },
  {
   "cell_type": "code",
   "execution_count": 15,
   "metadata": {},
   "outputs": [
    {
     "name": "stdout",
     "output_type": "stream",
     "text": [
      "+------+------+----------+----------+\n",
      "|emp_no|salary| from_date|   to_date|\n",
      "+------+------+----------+----------+\n",
      "| 10001| 60117|1986-06-25|1987-06-25|\n",
      "| 10001| 62102|1987-06-25|1988-06-24|\n",
      "| 10001| 66074|1988-06-24|1989-06-24|\n",
      "| 10001| 66596|1989-06-24|1990-06-24|\n",
      "| 10001| 66961|1990-06-24|1991-06-24|\n",
      "| 10001| 71046|1991-06-24|1992-06-23|\n",
      "| 10001| 74333|1992-06-23|1993-06-23|\n",
      "| 10001| 75286|1993-06-23|1994-06-23|\n",
      "| 10001| 75994|1994-06-23|1995-06-23|\n",
      "| 10001| 76884|1995-06-23|1996-06-22|\n",
      "| 10001| 80013|1996-06-22|1997-06-22|\n",
      "| 10001| 81025|1997-06-22|1998-06-22|\n",
      "| 10001| 81097|1998-06-22|1999-06-22|\n",
      "| 10001| 84917|1999-06-22|2000-06-21|\n",
      "| 10001| 85112|2000-06-21|2001-06-21|\n",
      "| 10001| 85097|2001-06-21|2002-06-21|\n",
      "| 10001| 88958|2002-06-21|9998-12-31|\n",
      "| 10002| 65828|1996-08-02|1997-08-02|\n",
      "| 10002| 65909|1997-08-02|1998-08-02|\n",
      "| 10002| 67534|1998-08-02|1999-08-02|\n",
      "+------+------+----------+----------+\n",
      "only showing top 20 rows\n",
      "\n"
     ]
    }
   ],
   "source": [
    "df.cache().count()"
   ]
  },
  {
   "cell_type": "code",
   "execution_count": 8,
   "metadata": {},
   "outputs": [
    {
     "name": "stdout",
     "output_type": "stream",
     "text": [
      "+-------+------------------+\n",
      "|dept_no|         dept_name|\n",
      "+-------+------------------+\n",
      "|   d009|  Customer Service|\n",
      "|   d005|       Development|\n",
      "|   d002|           Finance|\n",
      "|   d003|   Human Resources|\n",
      "|   d001|         Marketing|\n",
      "|   d004|        Production|\n",
      "|   d006|Quality Management|\n",
      "|   d008|          Research|\n",
      "|   d007|             Sales|\n",
      "+-------+------------------+\n",
      "\n"
     ]
    }
   ],
   "source": [
    "(spark.read\n",
    " .option('driver', 'com.mysql.jdbc.Driver')\n",
    " .option('url', f'jdbc:mysql://{env.host}/{db}')\n",
    " .option('user', env.user)\n",
    " .option('password', env.password)\n",
    " .option('query', 'SELECT * FROM departments')\n",
    " .format('jdbc')\n",
    " .load()).show()"
   ]
  }
 ],
 "metadata": {
  "kernelspec": {
   "display_name": "Python 3",
   "language": "python",
   "name": "python3"
  },
  "language_info": {
   "codemirror_mode": {
    "name": "ipython",
    "version": 3
   },
   "file_extension": ".py",
   "mimetype": "text/x-python",
   "name": "python",
   "nbconvert_exporter": "python",
   "pygments_lexer": "ipython3",
   "version": "3.7.1"
  }
 },
 "nbformat": 4,
 "nbformat_minor": 2
}
