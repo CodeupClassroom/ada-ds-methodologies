{
 "cells": [
  {
   "cell_type": "code",
   "execution_count": 1,
   "metadata": {},
   "outputs": [],
   "source": [
    "import pyspark"
   ]
  },
  {
   "cell_type": "code",
   "execution_count": 2,
   "metadata": {},
   "outputs": [
    {
     "name": "stdout",
     "output_type": "stream",
     "text": [
      "n,g\r\n",
      "15.0,b\r\n",
      "23.0,c\r\n",
      "6.0,c\r\n",
      "NaN,c\r\n",
      "26.0,b\r\n",
      "12.0,b\r\n",
      "8.0,a\r\n",
      "18.0,c\r\n",
      "14.0,a\r\n",
      "20.0,c\r\n",
      "22.0,a\r\n",
      "21.0,a\r\n",
      "1.0,c\r\n",
      "0.0,a\r\n",
      "17.0,b\r\n",
      "2.0,a\r\n",
      "7.0,a\r\n",
      "16.0,b\r\n",
      "24.0,b\r\n",
      "10.0,a\r\n",
      "4.0,c\r\n",
      "27.0,c\r\n",
      "25.0,b\r\n",
      "NaN,a\r\n",
      "11.0,a\r\n",
      "5.0,a\r\n",
      "19.0,c\r\n",
      "29.0,c\r\n",
      "28.0,a\r\n",
      "13.0,b\r\n"
     ]
    }
   ],
   "source": [
    "!cat example_data.csv"
   ]
  },
  {
   "cell_type": "code",
   "execution_count": 4,
   "metadata": {},
   "outputs": [
    {
     "data": {
      "text/html": [
       "\n",
       "            <div>\n",
       "                <p><b>SparkSession - in-memory</b></p>\n",
       "                \n",
       "        <div>\n",
       "            <p><b>SparkContext</b></p>\n",
       "\n",
       "            <p><a href=\"http://10.10.13.166:4040\">Spark UI</a></p>\n",
       "\n",
       "            <dl>\n",
       "              <dt>Version</dt>\n",
       "                <dd><code>v2.4.1</code></dd>\n",
       "              <dt>Master</dt>\n",
       "                <dd><code>local[*]</code></dd>\n",
       "              <dt>AppName</dt>\n",
       "                <dd><code>pyspark-shell</code></dd>\n",
       "            </dl>\n",
       "        </div>\n",
       "        \n",
       "            </div>\n",
       "        "
      ],
      "text/plain": [
       "<pyspark.sql.session.SparkSession at 0x11ce6f1d0>"
      ]
     },
     "execution_count": 4,
     "metadata": {},
     "output_type": "execute_result"
    }
   ],
   "source": [
    "spark = pyspark.sql.SparkSession.builder.getOrCreate()\n",
    "spark"
   ]
  },
  {
   "cell_type": "code",
   "execution_count": 289,
   "metadata": {},
   "outputs": [],
   "source": [
    "df = spark.read.csv('./example_data.csv', header=True)"
   ]
  },
  {
   "cell_type": "code",
   "execution_count": 17,
   "metadata": {},
   "outputs": [],
   "source": [
    "# 1. infer schema\n",
    "# 2. Specify a schema\n",
    "# 3. Cast\n",
    "\n",
    "df = df.select(df.n.cast('float'), df.g)"
   ]
  },
  {
   "cell_type": "code",
   "execution_count": 18,
   "metadata": {},
   "outputs": [
    {
     "data": {
      "text/plain": [
       "pyspark.sql.dataframe.DataFrame"
      ]
     },
     "execution_count": 18,
     "metadata": {},
     "output_type": "execute_result"
    }
   ],
   "source": [
    "type(df)"
   ]
  },
  {
   "cell_type": "markdown",
   "metadata": {},
   "source": [
    "## More Data Frame Manipulation"
   ]
  },
  {
   "cell_type": "code",
   "execution_count": 22,
   "metadata": {},
   "outputs": [],
   "source": [
    "df = (df\n",
    " .withColumnRenamed('n', 'number')\n",
    " .withColumnRenamed('g', 'group'))"
   ]
  },
  {
   "cell_type": "code",
   "execution_count": 26,
   "metadata": {},
   "outputs": [
    {
     "name": "stdout",
     "output_type": "stream",
     "text": [
      "+------+-----+---------+\n",
      "|number|group|n_is_even|\n",
      "+------+-----+---------+\n",
      "|  15.0|    b|    false|\n",
      "|  23.0|    c|    false|\n",
      "|   6.0|    c|     true|\n",
      "|   NaN|    c|    false|\n",
      "|  26.0|    b|     true|\n",
      "|  12.0|    b|     true|\n",
      "|   8.0|    a|     true|\n",
      "|  18.0|    c|     true|\n",
      "|  14.0|    a|     true|\n",
      "|  20.0|    c|     true|\n",
      "|  22.0|    a|     true|\n",
      "|  21.0|    a|    false|\n",
      "|   1.0|    c|    false|\n",
      "|   0.0|    a|     true|\n",
      "|  17.0|    b|    false|\n",
      "|   2.0|    a|     true|\n",
      "|   7.0|    a|    false|\n",
      "|  16.0|    b|     true|\n",
      "|  24.0|    b|     true|\n",
      "|  10.0|    a|     true|\n",
      "+------+-----+---------+\n",
      "only showing top 20 rows\n",
      "\n"
     ]
    }
   ],
   "source": [
    "df.withColumn('n_is_even', df.number % 2 == 0).show()"
   ]
  },
  {
   "cell_type": "code",
   "execution_count": 27,
   "metadata": {},
   "outputs": [],
   "source": [
    "from pyspark.sql.functions import col, expr"
   ]
  },
  {
   "cell_type": "code",
   "execution_count": 31,
   "metadata": {},
   "outputs": [
    {
     "data": {
      "text/plain": [
       "DataFrame[number: float, group: string, n_is_even: boolean]"
      ]
     },
     "execution_count": 31,
     "metadata": {},
     "output_type": "execute_result"
    }
   ],
   "source": [
    "df.withColumn('n_is_even', col('number') % 2 == 0)"
   ]
  },
  {
   "cell_type": "code",
   "execution_count": 29,
   "metadata": {},
   "outputs": [
    {
     "data": {
      "text/plain": [
       "DataFrame[number: float, group: string, n_is_even: boolean]"
      ]
     },
     "execution_count": 29,
     "metadata": {},
     "output_type": "execute_result"
    }
   ],
   "source": [
    "df.withColumn('n_is_even', expr('number % 2 = 0'))"
   ]
  },
  {
   "cell_type": "code",
   "execution_count": 35,
   "metadata": {},
   "outputs": [
    {
     "name": "stdout",
     "output_type": "stream",
     "text": [
      "+-----------+------------------+\n",
      "|incremented|((number % 2) = 0)|\n",
      "+-----------+------------------+\n",
      "|       16.0|             false|\n",
      "|       24.0|             false|\n",
      "|        7.0|              true|\n",
      "|        NaN|             false|\n",
      "|       27.0|              true|\n",
      "|       13.0|              true|\n",
      "|        9.0|              true|\n",
      "|       19.0|              true|\n",
      "|       15.0|              true|\n",
      "|       21.0|              true|\n",
      "|       23.0|              true|\n",
      "|       22.0|             false|\n",
      "|        2.0|             false|\n",
      "|        1.0|              true|\n",
      "|       18.0|             false|\n",
      "|        3.0|              true|\n",
      "|        8.0|             false|\n",
      "|       17.0|              true|\n",
      "|       25.0|              true|\n",
      "|       11.0|              true|\n",
      "+-----------+------------------+\n",
      "only showing top 20 rows\n",
      "\n"
     ]
    }
   ],
   "source": [
    "df.selectExpr('number + 1 as incremented', 'number % 2 = 0').show()"
   ]
  },
  {
   "cell_type": "code",
   "execution_count": 38,
   "metadata": {},
   "outputs": [
    {
     "name": "stdout",
     "output_type": "stream",
     "text": [
      "+------+-----+--------------+\n",
      "|number|group|number_is_even|\n",
      "+------+-----+--------------+\n",
      "|  15.0|    b|         false|\n",
      "|  23.0|    c|         false|\n",
      "|   6.0|    c|          true|\n",
      "|   NaN|    c|         false|\n",
      "|  26.0|    b|          true|\n",
      "|  12.0|    b|          true|\n",
      "|   8.0|    a|          true|\n",
      "|  18.0|    c|          true|\n",
      "|  14.0|    a|          true|\n",
      "|  20.0|    c|          true|\n",
      "|  22.0|    a|          true|\n",
      "|  21.0|    a|         false|\n",
      "|   1.0|    c|         false|\n",
      "|   0.0|    a|          true|\n",
      "|  17.0|    b|         false|\n",
      "|   2.0|    a|          true|\n",
      "|   7.0|    a|         false|\n",
      "|  16.0|    b|          true|\n",
      "|  24.0|    b|          true|\n",
      "|  10.0|    a|          true|\n",
      "+------+-----+--------------+\n",
      "only showing top 20 rows\n",
      "\n"
     ]
    }
   ],
   "source": [
    "df.selectExpr('*', 'number % 2 = 0 as number_is_even').show()"
   ]
  },
  {
   "cell_type": "code",
   "execution_count": 46,
   "metadata": {},
   "outputs": [
    {
     "name": "stdout",
     "output_type": "stream",
     "text": [
      "+------+\n",
      "|number|\n",
      "+------+\n",
      "|  15.0|\n",
      "|  23.0|\n",
      "|   6.0|\n",
      "|   NaN|\n",
      "|  26.0|\n",
      "|  12.0|\n",
      "|   8.0|\n",
      "|  18.0|\n",
      "|  14.0|\n",
      "|  20.0|\n",
      "|  22.0|\n",
      "|  21.0|\n",
      "|   1.0|\n",
      "|   0.0|\n",
      "|  17.0|\n",
      "|   2.0|\n",
      "|   7.0|\n",
      "|  16.0|\n",
      "|  24.0|\n",
      "|  10.0|\n",
      "+------+\n",
      "only showing top 20 rows\n",
      "\n"
     ]
    }
   ],
   "source": [
    "df.drop('group').show()"
   ]
  },
  {
   "cell_type": "code",
   "execution_count": 48,
   "metadata": {},
   "outputs": [
    {
     "name": "stdout",
     "output_type": "stream",
     "text": [
      "+------+-----+\n",
      "|number|group|\n",
      "+------+-----+\n",
      "|  15.0|    b|\n",
      "|  23.0|    c|\n",
      "|   6.0|    c|\n",
      "|   NaN|    c|\n",
      "|  26.0|    b|\n",
      "|  12.0|    b|\n",
      "|   8.0|    a|\n",
      "|  18.0|    c|\n",
      "|  14.0|    a|\n",
      "|  20.0|    c|\n",
      "+------+-----+\n",
      "\n"
     ]
    }
   ],
   "source": [
    "df.limit(10).show()"
   ]
  },
  {
   "cell_type": "code",
   "execution_count": 50,
   "metadata": {},
   "outputs": [
    {
     "name": "stdout",
     "output_type": "stream",
     "text": [
      "+------+-----+\n",
      "|number|group|\n",
      "+------+-----+\n",
      "|   6.0|    c|\n",
      "|   8.0|    a|\n",
      "|   1.0|    c|\n",
      "|   0.0|    a|\n",
      "|   2.0|    a|\n",
      "|   7.0|    a|\n",
      "|   4.0|    c|\n",
      "|   5.0|    a|\n",
      "+------+-----+\n",
      "\n"
     ]
    }
   ],
   "source": [
    "df.where(df.number < 10).show()"
   ]
  },
  {
   "cell_type": "code",
   "execution_count": 53,
   "metadata": {},
   "outputs": [
    {
     "name": "stdout",
     "output_type": "stream",
     "text": [
      "+------+-----+\n",
      "|number|group|\n",
      "+------+-----+\n",
      "|   6.0|    c|\n",
      "|   8.0|    a|\n",
      "|   7.0|    a|\n",
      "|   5.0|    a|\n",
      "+------+-----+\n",
      "\n"
     ]
    }
   ],
   "source": [
    "df.where('number < 10').where(col('number') > 4).show()"
   ]
  },
  {
   "cell_type": "code",
   "execution_count": 58,
   "metadata": {},
   "outputs": [
    {
     "name": "stdout",
     "output_type": "stream",
     "text": [
      "+------+-----+\n",
      "|number|group|\n",
      "+------+-----+\n",
      "|   6.0|    c|\n",
      "|   8.0|    a|\n",
      "|   7.0|    a|\n",
      "|  10.0|    a|\n",
      "|   4.0|    c|\n",
      "|   5.0|    a|\n",
      "+------+-----+\n",
      "\n"
     ]
    }
   ],
   "source": [
    "df.where(df.number.between(4, 10)).show()"
   ]
  },
  {
   "cell_type": "code",
   "execution_count": 60,
   "metadata": {},
   "outputs": [
    {
     "name": "stdout",
     "output_type": "stream",
     "text": [
      "+------+-----+\n",
      "|number|group|\n",
      "+------+-----+\n",
      "|  23.0|    c|\n",
      "|   NaN|    c|\n",
      "|  18.0|    c|\n",
      "|  20.0|    c|\n",
      "|  27.0|    c|\n",
      "|  19.0|    c|\n",
      "|  29.0|    c|\n",
      "+------+-----+\n",
      "\n"
     ]
    }
   ],
   "source": [
    "df.filter(df.group == 'c').filter(df.number > 10).show()"
   ]
  },
  {
   "cell_type": "code",
   "execution_count": 66,
   "metadata": {},
   "outputs": [
    {
     "name": "stdout",
     "output_type": "stream",
     "text": [
      "+------+-----+\n",
      "|number|group|\n",
      "+------+-----+\n",
      "|  15.0|    b|\n",
      "|  23.0|    c|\n",
      "|   6.0|    c|\n",
      "|   NaN|    c|\n",
      "|  26.0|    b|\n",
      "|   8.0|    a|\n",
      "|  18.0|    c|\n",
      "|  14.0|    a|\n",
      "|  20.0|    c|\n",
      "|  21.0|    a|\n",
      "|   1.0|    c|\n",
      "|   0.0|    a|\n",
      "|  17.0|    b|\n",
      "|   2.0|    a|\n",
      "|  16.0|    b|\n",
      "|  24.0|    b|\n",
      "|   4.0|    c|\n",
      "|  27.0|    c|\n",
      "|  25.0|    b|\n",
      "|   5.0|    a|\n",
      "+------+-----+\n",
      "only showing top 20 rows\n",
      "\n"
     ]
    }
   ],
   "source": [
    "df.sample(.6).show()"
   ]
  },
  {
   "cell_type": "code",
   "execution_count": 67,
   "metadata": {},
   "outputs": [
    {
     "name": "stdout",
     "output_type": "stream",
     "text": [
      "+------+-----+\n",
      "|number|group|\n",
      "+------+-----+\n",
      "|   0.0|    a|\n",
      "|   1.0|    c|\n",
      "|   2.0|    a|\n",
      "|   4.0|    c|\n",
      "|   5.0|    a|\n",
      "|   6.0|    c|\n",
      "|   7.0|    a|\n",
      "|   8.0|    a|\n",
      "|  10.0|    a|\n",
      "|  11.0|    a|\n",
      "|  12.0|    b|\n",
      "|  13.0|    b|\n",
      "|  14.0|    a|\n",
      "|  15.0|    b|\n",
      "|  16.0|    b|\n",
      "|  17.0|    b|\n",
      "|  18.0|    c|\n",
      "|  19.0|    c|\n",
      "|  20.0|    c|\n",
      "|  21.0|    a|\n",
      "+------+-----+\n",
      "only showing top 20 rows\n",
      "\n"
     ]
    }
   ],
   "source": [
    "df.sort(df.number).show()"
   ]
  },
  {
   "cell_type": "code",
   "execution_count": 70,
   "metadata": {},
   "outputs": [
    {
     "name": "stdout",
     "output_type": "stream",
     "text": [
      "+------+-----+\n",
      "|number|group|\n",
      "+------+-----+\n",
      "|   0.0|    a|\n",
      "|   2.0|    a|\n",
      "|   5.0|    a|\n",
      "|   7.0|    a|\n",
      "|   8.0|    a|\n",
      "|  10.0|    a|\n",
      "|  11.0|    a|\n",
      "|  14.0|    a|\n",
      "|  21.0|    a|\n",
      "|  22.0|    a|\n",
      "|  28.0|    a|\n",
      "|   NaN|    a|\n",
      "|  12.0|    b|\n",
      "|  13.0|    b|\n",
      "|  15.0|    b|\n",
      "|  16.0|    b|\n",
      "|  17.0|    b|\n",
      "|  24.0|    b|\n",
      "|  25.0|    b|\n",
      "|  26.0|    b|\n",
      "+------+-----+\n",
      "only showing top 20 rows\n",
      "\n"
     ]
    }
   ],
   "source": [
    "df.orderBy(df.group, df.number).show()"
   ]
  },
  {
   "cell_type": "code",
   "execution_count": 74,
   "metadata": {},
   "outputs": [
    {
     "name": "stdout",
     "output_type": "stream",
     "text": [
      "+------+-----+\n",
      "|number|group|\n",
      "+------+-----+\n",
      "|   NaN|    c|\n",
      "|  29.0|    c|\n",
      "|  27.0|    c|\n",
      "|  23.0|    c|\n",
      "|  20.0|    c|\n",
      "|  19.0|    c|\n",
      "|  18.0|    c|\n",
      "|   6.0|    c|\n",
      "|   4.0|    c|\n",
      "|   1.0|    c|\n",
      "|  26.0|    b|\n",
      "|  25.0|    b|\n",
      "|  24.0|    b|\n",
      "|  17.0|    b|\n",
      "|  16.0|    b|\n",
      "|  15.0|    b|\n",
      "|  13.0|    b|\n",
      "|  12.0|    b|\n",
      "|   NaN|    a|\n",
      "|  28.0|    a|\n",
      "+------+-----+\n",
      "only showing top 20 rows\n",
      "\n"
     ]
    }
   ],
   "source": [
    "from pyspark.sql.functions import desc\n",
    "\n",
    "df.orderBy(df.group.desc(), desc('number')).show()"
   ]
  },
  {
   "cell_type": "code",
   "execution_count": 81,
   "metadata": {},
   "outputs": [
    {
     "name": "stdout",
     "output_type": "stream",
     "text": [
      "+------+-----+\n",
      "|number|group|\n",
      "+------+-----+\n",
      "|   NaN|    c|\n",
      "|   NaN|    a|\n",
      "|  29.0|    c|\n",
      "|  28.0|    a|\n",
      "|  27.0|    c|\n",
      "|  26.0|    b|\n",
      "|  25.0|    b|\n",
      "|  24.0|    b|\n",
      "|  23.0|    c|\n",
      "|  22.0|    a|\n",
      "|  21.0|    a|\n",
      "|  20.0|    c|\n",
      "|  19.0|    c|\n",
      "|  18.0|    c|\n",
      "|  17.0|    b|\n",
      "|  16.0|    b|\n",
      "|  15.0|    b|\n",
      "|  14.0|    a|\n",
      "|  13.0|    b|\n",
      "|  12.0|    b|\n",
      "+------+-----+\n",
      "only showing top 20 rows\n",
      "\n"
     ]
    }
   ],
   "source": [
    "df.orderBy(df.number.desc()).show()"
   ]
  },
  {
   "cell_type": "code",
   "execution_count": 83,
   "metadata": {},
   "outputs": [
    {
     "name": "stdout",
     "output_type": "stream",
     "text": [
      "+------+-----+\n",
      "|number|group|\n",
      "+------+-----+\n",
      "|   NaN|    c|\n",
      "|   NaN|    a|\n",
      "|  29.0|    c|\n",
      "|  28.0|    a|\n",
      "|  27.0|    c|\n",
      "|  26.0|    b|\n",
      "|  25.0|    b|\n",
      "|  24.0|    b|\n",
      "|  23.0|    c|\n",
      "|  22.0|    a|\n",
      "|  21.0|    a|\n",
      "|  20.0|    c|\n",
      "|  19.0|    c|\n",
      "|  18.0|    c|\n",
      "|  17.0|    b|\n",
      "|  16.0|    b|\n",
      "|  15.0|    b|\n",
      "|  14.0|    a|\n",
      "|  13.0|    b|\n",
      "|  12.0|    b|\n",
      "+------+-----+\n",
      "only showing top 20 rows\n",
      "\n"
     ]
    }
   ],
   "source": [
    "df.sort('number', ascending=False).show()"
   ]
  },
  {
   "cell_type": "code",
   "execution_count": 87,
   "metadata": {},
   "outputs": [
    {
     "name": "stdout",
     "output_type": "stream",
     "text": [
      "+------+-----+\n",
      "|number|group|\n",
      "+------+-----+\n",
      "|  15.0|    b|\n",
      "|  23.0|    c|\n",
      "|   6.0|    c|\n",
      "|   NaN|    c|\n",
      "|  26.0|    b|\n",
      "|  12.0|    b|\n",
      "|   8.0|    a|\n",
      "|  18.0|    c|\n",
      "|  14.0|    a|\n",
      "|  20.0|    c|\n",
      "|  22.0|    a|\n",
      "|  21.0|    a|\n",
      "|   1.0|    c|\n",
      "|   0.0|    a|\n",
      "|  17.0|    b|\n",
      "|   2.0|    a|\n",
      "|   7.0|    a|\n",
      "|  16.0|    b|\n",
      "|  24.0|    b|\n",
      "|  10.0|    a|\n",
      "+------+-----+\n",
      "only showing top 20 rows\n",
      "\n"
     ]
    }
   ],
   "source": [
    "df.replace('a', 'D', ['number']).show()"
   ]
  },
  {
   "cell_type": "code",
   "execution_count": 90,
   "metadata": {},
   "outputs": [
    {
     "name": "stdout",
     "output_type": "stream",
     "text": [
      "+------+-----+\n",
      "|number|group|\n",
      "+------+-----+\n",
      "|  15.0|    B|\n",
      "|  23.0|    c|\n",
      "|   6.0|    c|\n",
      "|   NaN|    c|\n",
      "|  26.0|    B|\n",
      "|  12.0|    B|\n",
      "|   8.0|    A|\n",
      "|  18.0|    c|\n",
      "|  14.0|    A|\n",
      "|  20.0|    c|\n",
      "|  22.0|    A|\n",
      "|  21.0|    A|\n",
      "|   1.0|    c|\n",
      "|   0.0|    A|\n",
      "|  17.0|    B|\n",
      "|   2.0|    A|\n",
      "|   7.0|    A|\n",
      "|  16.0|    B|\n",
      "|  24.0|    B|\n",
      "|  10.0|    A|\n",
      "+------+-----+\n",
      "only showing top 20 rows\n",
      "\n"
     ]
    }
   ],
   "source": [
    "df.replace(['a', 'b'], ['A', 'B'], ['group']).show()"
   ]
  },
  {
   "cell_type": "code",
   "execution_count": 97,
   "metadata": {},
   "outputs": [
    {
     "data": {
      "text/plain": [
       "(30, 28)"
      ]
     },
     "execution_count": 97,
     "metadata": {},
     "output_type": "execute_result"
    }
   ],
   "source": [
    "df.count(), df.na.drop().count()"
   ]
  },
  {
   "cell_type": "code",
   "execution_count": 101,
   "metadata": {},
   "outputs": [
    {
     "name": "stdout",
     "output_type": "stream",
     "text": [
      "+------+-----+\n",
      "|number|group|\n",
      "+------+-----+\n",
      "|  15.0|    b|\n",
      "|  23.0|    c|\n",
      "|   6.0|    c|\n",
      "|   0.0|    c|\n",
      "|  26.0|    b|\n",
      "|  12.0|    b|\n",
      "|   8.0|    a|\n",
      "|  18.0|    c|\n",
      "|  14.0|    a|\n",
      "|  20.0|    c|\n",
      "|  22.0|    a|\n",
      "|  21.0|    a|\n",
      "|   1.0|    c|\n",
      "|   0.0|    a|\n",
      "|  17.0|    b|\n",
      "|   2.0|    a|\n",
      "|   7.0|    a|\n",
      "|  16.0|    b|\n",
      "|  24.0|    b|\n",
      "|  10.0|    a|\n",
      "+------+-----+\n",
      "only showing top 20 rows\n",
      "\n"
     ]
    }
   ],
   "source": [
    "df.na.fill(0, ['number']).show()"
   ]
  },
  {
   "cell_type": "code",
   "execution_count": 127,
   "metadata": {},
   "outputs": [],
   "source": [
    "# fill nas with the average of the column\n",
    "\n",
    "row = df.na.drop().agg(expr('avg(number)')).first()\n",
    "\n",
    "the_average = row['avg(number)']"
   ]
  },
  {
   "cell_type": "code",
   "execution_count": 131,
   "metadata": {},
   "outputs": [
    {
     "name": "stdout",
     "output_type": "stream",
     "text": [
      "+---------+-----+\n",
      "|   number|group|\n",
      "+---------+-----+\n",
      "|      0.0|    a|\n",
      "|      1.0|    c|\n",
      "|      2.0|    a|\n",
      "|      4.0|    c|\n",
      "|      5.0|    a|\n",
      "|      6.0|    c|\n",
      "|      7.0|    a|\n",
      "|      8.0|    a|\n",
      "|     10.0|    a|\n",
      "|     11.0|    a|\n",
      "|     12.0|    b|\n",
      "|     13.0|    b|\n",
      "|     14.0|    a|\n",
      "|     15.0|    b|\n",
      "|15.107142|    c|\n",
      "|15.107142|    a|\n",
      "|     16.0|    b|\n",
      "|     17.0|    b|\n",
      "|     18.0|    c|\n",
      "|     19.0|    c|\n",
      "+---------+-----+\n",
      "only showing top 20 rows\n",
      "\n"
     ]
    }
   ],
   "source": [
    "df.na.fill(the_average, ['number']).sort('number').show()"
   ]
  },
  {
   "cell_type": "code",
   "execution_count": 135,
   "metadata": {},
   "outputs": [
    {
     "name": "stdout",
     "output_type": "stream",
     "text": [
      "type(row): <class 'pyspark.sql.types.Row'>\n",
      "type(row.group): <class 'str'>\n",
      "row.group: b\n",
      "---\n",
      "type(row): <class 'pyspark.sql.types.Row'>\n",
      "type(row.group): <class 'str'>\n",
      "row.group: c\n",
      "---\n",
      "type(row): <class 'pyspark.sql.types.Row'>\n",
      "type(row.group): <class 'str'>\n",
      "row.group: c\n",
      "---\n",
      "type(row): <class 'pyspark.sql.types.Row'>\n",
      "type(row.group): <class 'str'>\n",
      "row.group: c\n",
      "---\n",
      "type(row): <class 'pyspark.sql.types.Row'>\n",
      "type(row.group): <class 'str'>\n",
      "row.group: b\n",
      "---\n"
     ]
    }
   ],
   "source": [
    "for row in df.head(5):\n",
    "    print('type(row): {}'.format(type(row)))\n",
    "    print('type(row.group): {}'.format(type(row.group)))\n",
    "    print('row.group:', row.group)\n",
    "    print('---')"
   ]
  },
  {
   "cell_type": "markdown",
   "metadata": {},
   "source": [
    "## Built-in Functions"
   ]
  },
  {
   "cell_type": "code",
   "execution_count": 148,
   "metadata": {},
   "outputs": [],
   "source": [
    "# Note that this will override some built-in python functions\n",
    "from pyspark.sql.functions import *\n",
    "import pyspark.sql.functions as F"
   ]
  },
  {
   "cell_type": "code",
   "execution_count": 223,
   "metadata": {},
   "outputs": [],
   "source": [
    "df = spark.read.csv('./sa311/case.csv', header=True, inferSchema=True)"
   ]
  },
  {
   "cell_type": "code",
   "execution_count": 142,
   "metadata": {},
   "outputs": [
    {
     "name": "stdout",
     "output_type": "stream",
     "text": [
      "root\n",
      " |-- case_id: integer (nullable = true)\n",
      " |-- case_opened_date: string (nullable = true)\n",
      " |-- case_closed_date: string (nullable = true)\n",
      " |-- SLA_due_date: string (nullable = true)\n",
      " |-- case_late: string (nullable = true)\n",
      " |-- num_days_late: double (nullable = true)\n",
      " |-- case_closed: string (nullable = true)\n",
      " |-- dept_division: string (nullable = true)\n",
      " |-- service_request_type: string (nullable = true)\n",
      " |-- SLA_days: double (nullable = true)\n",
      " |-- case_status: string (nullable = true)\n",
      " |-- source_id: string (nullable = true)\n",
      " |-- request_address: string (nullable = true)\n",
      " |-- council_district: integer (nullable = true)\n",
      "\n"
     ]
    }
   ],
   "source": [
    "df.printSchema()"
   ]
  },
  {
   "cell_type": "code",
   "execution_count": 168,
   "metadata": {},
   "outputs": [
    {
     "name": "stdout",
     "output_type": "stream",
     "text": [
      "+----------+\n",
      "|  district|\n",
      "+----------+\n",
      "|0000000010|\n",
      "|0000000010|\n",
      "|0000000010|\n",
      "|0000000010|\n",
      "|0000000010|\n",
      "|0000000010|\n",
      "|0000000010|\n",
      "|0000000010|\n",
      "|0000000010|\n",
      "|0000000010|\n",
      "|0000000010|\n",
      "|0000000010|\n",
      "|0000000010|\n",
      "|0000000010|\n",
      "|0000000010|\n",
      "|0000000010|\n",
      "|0000000010|\n",
      "|0000000010|\n",
      "|0000000010|\n",
      "|0000000010|\n",
      "+----------+\n",
      "only showing top 20 rows\n",
      "\n"
     ]
    }
   ],
   "source": [
    "formatted_district = format_string('%010d', df.council_district)\n",
    "\n",
    "(df\n",
    " .select(df.council_district)\n",
    " .orderBy(df.council_district.desc())\n",
    " .select(formatted_district.alias('district'))\n",
    " .show())"
   ]
  },
  {
   "cell_type": "code",
   "execution_count": 181,
   "metadata": {},
   "outputs": [
    {
     "name": "stdout",
     "output_type": "stream",
     "text": [
      "-RECORD 0-------------------------------------------------------\n",
      " upper(request_address) | 2315  EL PASO ST, SAN ANTONIO, 78207  \n",
      " lower(request_address) | 2315  el paso st, san antonio, 78207  \n",
      "-RECORD 1-------------------------------------------------------\n",
      " upper(request_address) | 2215  GOLIAD RD, SAN ANTONIO, 78223   \n",
      " lower(request_address) | 2215  goliad rd, san antonio, 78223   \n",
      "-RECORD 2-------------------------------------------------------\n",
      " upper(request_address) | 102  PALFREY ST W, SAN ANTONIO, 78223 \n",
      " lower(request_address) | 102  palfrey st w, san antonio, 78223 \n",
      "only showing top 3 rows\n",
      "\n"
     ]
    }
   ],
   "source": [
    "(df\n",
    " .select(upper(col('request_address')),\n",
    "         expr('lower(request_address)'))\n",
    " .show(3, truncate=False, vertical=True))"
   ]
  },
  {
   "cell_type": "code",
   "execution_count": 191,
   "metadata": {},
   "outputs": [
    {
     "name": "stdout",
     "output_type": "stream",
     "text": [
      "+-------------------------------------+--------------------------------+\n",
      "|request_address                      |substring(request_address, 8, 6)|\n",
      "+-------------------------------------+--------------------------------+\n",
      "|2315  EL PASO ST, San Antonio, 78207 |L PASO                          |\n",
      "|2215  GOLIAD RD, San Antonio, 78223  |OLIAD                           |\n",
      "|102  PALFREY ST W, San Antonio, 78223|LFREY                           |\n",
      "+-------------------------------------+--------------------------------+\n",
      "only showing top 3 rows\n",
      "\n"
     ]
    }
   ],
   "source": [
    "(df\n",
    " # starting index, length\n",
    " .select(df.request_address, substring(df.request_address, 8, 6))\n",
    " .show(3, truncate=False))"
   ]
  },
  {
   "cell_type": "code",
   "execution_count": 204,
   "metadata": {},
   "outputs": [
    {
     "name": "stdout",
     "output_type": "stream",
     "text": [
      "+----------------------------------------+-----------+-----+\n",
      "|request_address                         |city       |zip  |\n",
      "+----------------------------------------+-----------+-----+\n",
      "|2315  EL PASO ST, San Antonio, 78207    |San Antonio|78207|\n",
      "|2215  GOLIAD RD, San Antonio, 78223     |San Antonio|78223|\n",
      "|102  PALFREY ST W, San Antonio, 78223   |San Antonio|78223|\n",
      "|114  LA GARDE ST, San Antonio, 78223    |San Antonio|78223|\n",
      "|734  CLEARVIEW DR, San Antonio, 78228   |San Antonio|78228|\n",
      "|BANDERA RD and BRESNAHAN                |           |     |\n",
      "|10133  FIGARO CANYON, San Antonio, 78251|San Antonio|78251|\n",
      "|10133  FIGARO CANYON, San Antonio, 78251|San Antonio|78251|\n",
      "|10133  FIGARO CANYON, San Antonio, 78251|San Antonio|78251|\n",
      "|10133  FIGARO CANYON, San Antonio, 78251|San Antonio|78251|\n",
      "|10133  FIGARO CANYON, San Antonio, 78251|San Antonio|78251|\n",
      "|10133  FIGARO CANYON, San Antonio, 78251|San Antonio|78251|\n",
      "|10129  BOXING PASS, San Antonio, 78251  |San Antonio|78251|\n",
      "|10129  BOXING PASS, San Antonio, 78251  |San Antonio|78251|\n",
      "|10129  BOXING PASS, San Antonio, 78251  |San Antonio|78251|\n",
      "|834  BARREL POINT, San Antonio, 78251   |San Antonio|78251|\n",
      "|834  BARREL POINT, San Antonio, 78251   |San Antonio|78251|\n",
      "|834  BARREL POINT, San Antonio, 78251   |San Antonio|78251|\n",
      "|834  BARREL POINT, San Antonio, 78251   |San Antonio|78251|\n",
      "|834  BARREL POINT, San Antonio, 78251   |San Antonio|78251|\n",
      "+----------------------------------------+-----------+-----+\n",
      "only showing top 20 rows\n",
      "\n"
     ]
    }
   ],
   "source": [
    "address_re = r'^.+,\\s(.+),\\s+(\\d+)$'\n",
    "\n",
    "(df\n",
    " .select(df.request_address,\n",
    "         regexp_extract(df.request_address, address_re, 1).alias('city'),\n",
    "         regexp_extract(df.request_address, address_re, 2).alias('zip'))\n",
    " .show(truncate=False))"
   ]
  },
  {
   "cell_type": "code",
   "execution_count": 210,
   "metadata": {},
   "outputs": [
    {
     "name": "stdout",
     "output_type": "stream",
     "text": [
      "+----------------+\n",
      "|case_opened_date|\n",
      "+----------------+\n",
      "|     1/1/18 0:42|\n",
      "|     1/1/18 0:46|\n",
      "|     1/1/18 0:48|\n",
      "|     1/1/18 1:29|\n",
      "|     1/1/18 1:34|\n",
      "|     1/1/18 6:28|\n",
      "|     1/1/18 6:57|\n",
      "|     1/1/18 6:58|\n",
      "|     1/1/18 6:58|\n",
      "|     1/1/18 6:59|\n",
      "|     1/1/18 7:00|\n",
      "|     1/1/18 7:02|\n",
      "|     1/1/18 7:02|\n",
      "|     1/1/18 7:03|\n",
      "|     1/1/18 7:04|\n",
      "|     1/1/18 7:04|\n",
      "|     1/1/18 7:05|\n",
      "|     1/1/18 7:06|\n",
      "|     1/1/18 7:06|\n",
      "|     1/1/18 7:07|\n",
      "+----------------+\n",
      "only showing top 20 rows\n",
      "\n"
     ]
    }
   ],
   "source": [
    "(df\n",
    " .select(df.case_opened_date)\n",
    " .show())"
   ]
  },
  {
   "cell_type": "code",
   "execution_count": 224,
   "metadata": {},
   "outputs": [
    {
     "name": "stdout",
     "output_type": "stream",
     "text": [
      "+-------------------+\n",
      "|          timestamp|\n",
      "+-------------------+\n",
      "|2018-01-01 00:42:00|\n",
      "|2018-01-01 00:46:00|\n",
      "|2018-01-01 00:48:00|\n",
      "|2018-01-01 01:29:00|\n",
      "|2018-01-01 01:34:00|\n",
      "|2018-01-01 06:28:00|\n",
      "|2018-01-01 06:57:00|\n",
      "|2018-01-01 06:58:00|\n",
      "|2018-01-01 06:58:00|\n",
      "|2018-01-01 06:59:00|\n",
      "|2018-01-01 07:00:00|\n",
      "|2018-01-01 07:02:00|\n",
      "|2018-01-01 07:02:00|\n",
      "|2018-01-01 07:03:00|\n",
      "|2018-01-01 07:04:00|\n",
      "|2018-01-01 07:04:00|\n",
      "|2018-01-01 07:05:00|\n",
      "|2018-01-01 07:06:00|\n",
      "|2018-01-01 07:06:00|\n",
      "|2018-01-01 07:07:00|\n",
      "+-------------------+\n",
      "only showing top 20 rows\n",
      "\n"
     ]
    }
   ],
   "source": [
    "(df\n",
    " .select(to_timestamp(df.case_opened_date, 'M/d/y H:mm').alias('timestamp'))\n",
    " .show())"
   ]
  },
  {
   "cell_type": "code",
   "execution_count": 227,
   "metadata": {},
   "outputs": [
    {
     "name": "stdout",
     "output_type": "stream",
     "text": [
      "+-------------------+--------------+\n",
      "|          timestamp|days_since_now|\n",
      "+-------------------+--------------+\n",
      "|2018-01-01 00:42:00|           499|\n",
      "|2018-01-01 00:46:00|           499|\n",
      "|2018-01-01 00:48:00|           499|\n",
      "|2018-01-01 01:29:00|           499|\n",
      "|2018-01-01 01:34:00|           499|\n",
      "|2018-01-01 06:28:00|           499|\n",
      "|2018-01-01 06:57:00|           499|\n",
      "|2018-01-01 06:58:00|           499|\n",
      "|2018-01-01 06:58:00|           499|\n",
      "|2018-01-01 06:59:00|           499|\n",
      "|2018-01-01 07:00:00|           499|\n",
      "|2018-01-01 07:02:00|           499|\n",
      "|2018-01-01 07:02:00|           499|\n",
      "|2018-01-01 07:03:00|           499|\n",
      "|2018-01-01 07:04:00|           499|\n",
      "|2018-01-01 07:04:00|           499|\n",
      "|2018-01-01 07:05:00|           499|\n",
      "|2018-01-01 07:06:00|           499|\n",
      "|2018-01-01 07:06:00|           499|\n",
      "|2018-01-01 07:07:00|           499|\n",
      "+-------------------+--------------+\n",
      "only showing top 20 rows\n",
      "\n"
     ]
    }
   ],
   "source": [
    "(df\n",
    " .select(to_timestamp(df.case_opened_date, 'M/d/y H:mm').alias('timestamp'))\n",
    " .select(col('timestamp'),\n",
    "     datediff(current_timestamp(), col('timestamp')).alias('days_since_now'))\n",
    " .show())"
   ]
  },
  {
   "cell_type": "code",
   "execution_count": 233,
   "metadata": {},
   "outputs": [
    {
     "name": "stdout",
     "output_type": "stream",
     "text": [
      "+------------------------------------------------------------+\n",
      "|CASE WHEN (num_days_late >= 0) THEN num_days_late ELSE 0 END|\n",
      "+------------------------------------------------------------+\n",
      "|                                                         0.0|\n",
      "|                                                         0.0|\n",
      "|                                                         0.0|\n",
      "|                                                         0.0|\n",
      "|                                         0.37216435200000003|\n",
      "|                                                         0.0|\n",
      "|                                                         0.0|\n",
      "|                                                         0.0|\n",
      "|                                                         0.0|\n",
      "|                                                         0.0|\n",
      "|                                                         0.0|\n",
      "|                                                         0.0|\n",
      "|                                                         0.0|\n",
      "|                                                         0.0|\n",
      "|                                                         0.0|\n",
      "|                                                         0.0|\n",
      "|                                                         0.0|\n",
      "|                                                         0.0|\n",
      "|                                                         0.0|\n",
      "|                                                         0.0|\n",
      "+------------------------------------------------------------+\n",
      "only showing top 20 rows\n",
      "\n"
     ]
    }
   ],
   "source": [
    "my_col = when(df.num_days_late >= 0, df.num_days_late).otherwise(0)\n",
    "\n",
    "(df\n",
    " .select(df.num_days_late)\n",
    " .select(my_col)\n",
    " .show())"
   ]
  },
  {
   "cell_type": "code",
   "execution_count": 234,
   "metadata": {},
   "outputs": [
    {
     "name": "stdout",
     "output_type": "stream",
     "text": [
      "+-----------------------------------------------------------+\n",
      "|CASE WHEN (num_days_late < 0) THEN 0 ELSE num_days_late END|\n",
      "+-----------------------------------------------------------+\n",
      "|                                                        0.0|\n",
      "|                                                        0.0|\n",
      "|                                                        0.0|\n",
      "|                                                        0.0|\n",
      "|                                        0.37216435200000003|\n",
      "|                                                        0.0|\n",
      "|                                                        0.0|\n",
      "|                                                        0.0|\n",
      "|                                                        0.0|\n",
      "|                                                        0.0|\n",
      "|                                                        0.0|\n",
      "|                                                        0.0|\n",
      "|                                                        0.0|\n",
      "|                                                        0.0|\n",
      "|                                                        0.0|\n",
      "|                                                        0.0|\n",
      "|                                                        0.0|\n",
      "|                                                        0.0|\n",
      "|                                                        0.0|\n",
      "|                                                        0.0|\n",
      "+-----------------------------------------------------------+\n",
      "only showing top 20 rows\n",
      "\n"
     ]
    }
   ],
   "source": [
    "my_col = when(df.num_days_late < 0, 0).otherwise(df.num_days_late)\n",
    "\n",
    "(df\n",
    " .select(df.num_days_late)\n",
    " .select(my_col)\n",
    " .show())"
   ]
  },
  {
   "cell_type": "code",
   "execution_count": 248,
   "metadata": {},
   "outputs": [
    {
     "name": "stdout",
     "output_type": "stream",
     "text": [
      "+-----------+---------+-------------------+\n",
      "|case_closed|case_late|      num_days_late|\n",
      "+-----------+---------+-------------------+\n",
      "|       true|     true|0.37216435200000003|\n",
      "|       true|     true|         0.03150463|\n",
      "|       true|     true|        80.74537037|\n",
      "|       true|     true|0.38280092600000004|\n",
      "|       true|     true|        0.376655093|\n",
      "|       true|     true|        46.41153935|\n",
      "|       true|     true|        0.048368056|\n",
      "|       true|     true|         36.1630787|\n",
      "|       true|     true|        25.36005787|\n",
      "|       true|     true| 1.8262268519999998|\n",
      "|       true|     true|         46.3819213|\n",
      "|       true|     true|        46.38175926|\n",
      "|       true|     true|        72.39403935|\n",
      "|       true|     true| 113.73300929999999|\n",
      "|       true|     true|        79.13157407|\n",
      "|       true|     true|        3.450983796|\n",
      "|       true|     true|        73.16055556|\n",
      "|       true|     true|        1.339675926|\n",
      "|       true|     true|        68.02585648|\n",
      "|       true|     true|        72.37243056|\n",
      "+-----------+---------+-------------------+\n",
      "only showing top 20 rows\n",
      "\n"
     ]
    }
   ],
   "source": [
    "(df\n",
    " .select(df.case_closed, df.case_late, df.num_days_late)\n",
    " .select((df.case_closed == 'YES').alias('case_closed'),\n",
    "         (df.case_late == 'YES').alias('case_late'),\n",
    "         df.num_days_late)\n",
    " .filter(col('case_late'))\n",
    " .show())"
   ]
  },
  {
   "cell_type": "code",
   "execution_count": 253,
   "metadata": {},
   "outputs": [
    {
     "name": "stdout",
     "output_type": "stream",
     "text": [
      "+-----------+---------+-------------------+\n",
      "|case_closed|case_late|      num_days_late|\n",
      "+-----------+---------+-------------------+\n",
      "|       true|    false| -998.5087616000001|\n",
      "|       true|    false|-2.0126041669999997|\n",
      "|       true|    false|       -3.022337963|\n",
      "|       true|    false|       -15.01148148|\n",
      "|       true|     true|0.37216435200000003|\n",
      "|       true|    false|       -29.74398148|\n",
      "|       true|    false|       -14.70673611|\n",
      "|       true|    false|       -14.70662037|\n",
      "|       true|    false|       -14.70662037|\n",
      "|       true|    false|       -14.70649306|\n",
      "|       true|    false|       -14.70649306|\n",
      "|       true|    false|       -14.70636574|\n",
      "|       true|    false|          -14.70625|\n",
      "|       true|    false|       -14.70636574|\n",
      "|       true|    false|       -14.70623843|\n",
      "|       true|    false|-14.705891199999998|\n",
      "|       true|    false|       -14.70600694|\n",
      "|       true|    false|       -14.70576389|\n",
      "|       true|    false|       -14.70576389|\n",
      "|       true|    false|       -14.70564815|\n",
      "+-----------+---------+-------------------+\n",
      "only showing top 20 rows\n",
      "\n"
     ]
    }
   ],
   "source": [
    "(df\n",
    " .select(df.case_closed, df.case_late, df.num_days_late)\n",
    " .withColumn('case_closed', df.case_closed == 'YES')\n",
    " .withColumn('case_late', df.case_late == 'YES')\n",
    " .filter(col('case_late') | col('case_closed'))\n",
    " .show())"
   ]
  },
  {
   "cell_type": "code",
   "execution_count": 257,
   "metadata": {},
   "outputs": [
    {
     "name": "stdout",
     "output_type": "stream",
     "text": [
      "+-----------+---------+-------------------+\n",
      "|case_closed|case_late|      num_days_late|\n",
      "+-----------+---------+-------------------+\n",
      "|       true|    false| -998.5087616000001|\n",
      "|       true|    false|-2.0126041669999997|\n",
      "|       true|    false|       -3.022337963|\n",
      "|       true|    false|       -15.01148148|\n",
      "|       true|     true|0.37216435200000003|\n",
      "|       true|    false|       -29.74398148|\n",
      "|       true|    false|       -14.70673611|\n",
      "|       true|    false|       -14.70662037|\n",
      "|       true|    false|       -14.70662037|\n",
      "|       true|    false|       -14.70649306|\n",
      "|       true|    false|       -14.70649306|\n",
      "|       true|    false|       -14.70636574|\n",
      "|       true|    false|          -14.70625|\n",
      "|       true|    false|       -14.70636574|\n",
      "|       true|    false|       -14.70623843|\n",
      "|       true|    false|-14.705891199999998|\n",
      "|       true|    false|       -14.70600694|\n",
      "|       true|    false|       -14.70576389|\n",
      "|       true|    false|       -14.70576389|\n",
      "|       true|    false|       -14.70564815|\n",
      "+-----------+---------+-------------------+\n",
      "only showing top 20 rows\n",
      "\n"
     ]
    }
   ],
   "source": [
    "(df\n",
    " .select(df.case_closed, df.case_late, df.num_days_late)\n",
    " .withColumn('case_closed', df.case_closed == 'YES')\n",
    " .withColumn('case_late', df.case_late == 'YES')\n",
    " .filter(col('case_late') | col('case_closed'))\n",
    " .show())"
   ]
  },
  {
   "cell_type": "markdown",
   "metadata": {},
   "source": [
    "## Joining"
   ]
  },
  {
   "cell_type": "code",
   "execution_count": 258,
   "metadata": {},
   "outputs": [],
   "source": [
    "users = spark.read.csv('./users.csv', header=True, inferSchema=True)\n",
    "roles = spark.read.csv('./roles.csv', header=True, inferSchema=True)"
   ]
  },
  {
   "cell_type": "code",
   "execution_count": 260,
   "metadata": {},
   "outputs": [
    {
     "name": "stdout",
     "output_type": "stream",
     "text": [
      "+---+-----+-----------------+-------+\n",
      "| id| name|            email|role_id|\n",
      "+---+-----+-----------------+-------+\n",
      "|  1|  bob|  bob@example.com|      1|\n",
      "|  2|  joe|  joe@example.com|      2|\n",
      "|  3|sally|sally@example.com|      3|\n",
      "|  4| adam| adam@example.com|      3|\n",
      "|  5| jane| jane@example.com|   NULL|\n",
      "|  6| mike| mike@example.com|   NULL|\n",
      "+---+-----+-----------------+-------+\n",
      "\n",
      "+---+---------+\n",
      "| id|     name|\n",
      "+---+---------+\n",
      "|  1|    admin|\n",
      "|  2|   author|\n",
      "|  3| reviewer|\n",
      "|  4|commenter|\n",
      "+---+---------+\n",
      "\n"
     ]
    }
   ],
   "source": [
    "users.show()\n",
    "roles.show()"
   ]
  },
  {
   "cell_type": "code",
   "execution_count": 269,
   "metadata": {},
   "outputs": [
    {
     "name": "stdout",
     "output_type": "stream",
     "text": [
      "+---+----+----------------+-------+\n",
      "| id|name|           email|role_id|\n",
      "+---+----+----------------+-------+\n",
      "|  5|jane|jane@example.com|   NULL|\n",
      "|  6|mike|mike@example.com|   NULL|\n",
      "+---+----+----------------+-------+\n",
      "\n"
     ]
    }
   ],
   "source": [
    "how = 'left_anti'# one of left, right, inner, outter, etc\n",
    "\n",
    "users.join(roles, users.role_id == roles.id, how).show()"
   ]
  },
  {
   "cell_type": "code",
   "execution_count": 273,
   "metadata": {},
   "outputs": [
    {
     "name": "stdout",
     "output_type": "stream",
     "text": [
      "+---+-----+-----------------+-------+---+---------+\n",
      "| id| name|            email|role_id| id|     name|\n",
      "+---+-----+-----------------+-------+---+---------+\n",
      "|  1|  bob|  bob@example.com|      1|  1|    admin|\n",
      "|  1|  bob|  bob@example.com|      1|  2|   author|\n",
      "|  1|  bob|  bob@example.com|      1|  3| reviewer|\n",
      "|  1|  bob|  bob@example.com|      1|  4|commenter|\n",
      "|  2|  joe|  joe@example.com|      2|  1|    admin|\n",
      "|  2|  joe|  joe@example.com|      2|  2|   author|\n",
      "|  2|  joe|  joe@example.com|      2|  3| reviewer|\n",
      "|  2|  joe|  joe@example.com|      2|  4|commenter|\n",
      "|  3|sally|sally@example.com|      3|  1|    admin|\n",
      "|  3|sally|sally@example.com|      3|  2|   author|\n",
      "|  3|sally|sally@example.com|      3|  3| reviewer|\n",
      "|  3|sally|sally@example.com|      3|  4|commenter|\n",
      "|  4| adam| adam@example.com|      3|  1|    admin|\n",
      "|  4| adam| adam@example.com|      3|  2|   author|\n",
      "|  4| adam| adam@example.com|      3|  3| reviewer|\n",
      "|  4| adam| adam@example.com|      3|  4|commenter|\n",
      "|  5| jane| jane@example.com|   NULL|  1|    admin|\n",
      "|  5| jane| jane@example.com|   NULL|  2|   author|\n",
      "|  5| jane| jane@example.com|   NULL|  3| reviewer|\n",
      "|  5| jane| jane@example.com|   NULL|  4|commenter|\n",
      "+---+-----+-----------------+-------+---+---------+\n",
      "only showing top 20 rows\n",
      "\n"
     ]
    }
   ],
   "source": [
    "users.crossJoin(roles).show()"
   ]
  },
  {
   "cell_type": "code",
   "execution_count": 277,
   "metadata": {},
   "outputs": [
    {
     "name": "stdout",
     "output_type": "stream",
     "text": [
      "+---+-----+-----------------+-------+\n",
      "| id| name|            email|role_id|\n",
      "+---+-----+-----------------+-------+\n",
      "|  1|  bob|  bob@example.com|      1|\n",
      "|  2|  joe|  joe@example.com|      2|\n",
      "|  3|sally|sally@example.com|      3|\n",
      "|  4| adam| adam@example.com|      3|\n",
      "|  5| jane| jane@example.com|   NULL|\n",
      "|  6| mike| mike@example.com|   NULL|\n",
      "|  1|  bob|  bob@example.com|      1|\n",
      "|  2|  joe|  joe@example.com|      2|\n",
      "|  3|sally|sally@example.com|      3|\n",
      "|  4| adam| adam@example.com|      3|\n",
      "|  5| jane| jane@example.com|   NULL|\n",
      "|  6| mike| mike@example.com|   NULL|\n",
      "+---+-----+-----------------+-------+\n",
      "\n"
     ]
    }
   ],
   "source": [
    "users.union(users).show()"
   ]
  },
  {
   "cell_type": "code",
   "execution_count": 280,
   "metadata": {},
   "outputs": [],
   "source": [
    "train, test = df.randomSplit([.6, .4], seed=123)"
   ]
  },
  {
   "cell_type": "code",
   "execution_count": 282,
   "metadata": {},
   "outputs": [
    {
     "data": {
      "text/plain": [
       "(505179, 168491, 168034)"
      ]
     },
     "execution_count": 282,
     "metadata": {},
     "output_type": "execute_result"
    }
   ],
   "source": [
    "train, validate, test = df.randomSplit([.6, .2, .2], seed=3)\n",
    "\n",
    "(train.count(), validate.count(), test.count())"
   ]
  },
  {
   "cell_type": "code",
   "execution_count": 287,
   "metadata": {},
   "outputs": [
    {
     "data": {
      "text/plain": [
       "(631392, 210312)"
      ]
     },
     "execution_count": 287,
     "metadata": {},
     "output_type": "execute_result"
    }
   ],
   "source": [
    "train, test = df.randomSplit([.00003, .00001], seed=2)\n",
    "\n",
    "(train.count(), test.count())"
   ]
  },
  {
   "cell_type": "markdown",
   "metadata": {},
   "source": [
    "## Aggregating"
   ]
  },
  {
   "cell_type": "code",
   "execution_count": 291,
   "metadata": {},
   "outputs": [
    {
     "name": "stdout",
     "output_type": "stream",
     "text": [
      "+----+---+\n",
      "|   n|  g|\n",
      "+----+---+\n",
      "|15.0|  b|\n",
      "|23.0|  c|\n",
      "| 6.0|  c|\n",
      "| NaN|  c|\n",
      "|26.0|  b|\n",
      "|12.0|  b|\n",
      "| 8.0|  a|\n",
      "|18.0|  c|\n",
      "|14.0|  a|\n",
      "|20.0|  c|\n",
      "|22.0|  a|\n",
      "|21.0|  a|\n",
      "| 1.0|  c|\n",
      "| 0.0|  a|\n",
      "|17.0|  b|\n",
      "| 2.0|  a|\n",
      "| 7.0|  a|\n",
      "|16.0|  b|\n",
      "|24.0|  b|\n",
      "|10.0|  a|\n",
      "+----+---+\n",
      "only showing top 20 rows\n",
      "\n"
     ]
    }
   ],
   "source": [
    "df = spark.read.csv('./example_data.csv', header=True, inferSchema=True)\n",
    "\n",
    "df.show()"
   ]
  },
  {
   "cell_type": "code",
   "execution_count": 302,
   "metadata": {},
   "outputs": [
    {
     "name": "stdout",
     "output_type": "stream",
     "text": [
      "+------+\n",
      "|sum(n)|\n",
      "+------+\n",
      "| 423.0|\n",
      "+------+\n",
      "\n"
     ]
    }
   ],
   "source": [
    "df = df.na.drop()\n",
    "# df.describe().show()\n",
    "\n",
    "df.agg(sum(df.n)).show()"
   ]
  },
  {
   "cell_type": "code",
   "execution_count": 311,
   "metadata": {},
   "outputs": [
    {
     "name": "stdout",
     "output_type": "stream",
     "text": [
      "+---+--------+------+------------------+------------------+\n",
      "|  g|count(n)|sum(n)|    stddev_samp(n)|            avg(n)|\n",
      "+---+--------+------+------------------+------------------+\n",
      "|  c|       9| 147.0|10.222524150130436|16.333333333333332|\n",
      "|  b|       8| 148.0| 5.631543812693435|              18.5|\n",
      "|  a|      11| 128.0| 8.823522281637047|11.636363636363637|\n",
      "+---+--------+------+------------------+------------------+\n",
      "\n"
     ]
    }
   ],
   "source": [
    "# df.groupBy('g').agg(count(df.n)).show()\n",
    "(df.groupBy('g')\n",
    " .agg(expr('count(n)'),\n",
    "      expr('sum(n)'),\n",
    "      stddev(col('n')),\n",
    "      avg(df.n))\n",
    " .show())"
   ]
  },
  {
   "cell_type": "code",
   "execution_count": 312,
   "metadata": {},
   "outputs": [],
   "source": [
    "df = spark.read.csv('./sa311/case.csv', header=True, inferSchema=True)"
   ]
  },
  {
   "cell_type": "code",
   "execution_count": 316,
   "metadata": {},
   "outputs": [
    {
     "name": "stdout",
     "output_type": "stream",
     "text": [
      "+---------+-----------+-------------------+\n",
      "|case_late|case_closed|      num_days_late|\n",
      "+---------+-----------+-------------------+\n",
      "|       NO|        YES| -998.5087616000001|\n",
      "|       NO|        YES|-2.0126041669999997|\n",
      "|       NO|        YES|       -3.022337963|\n",
      "|       NO|        YES|       -15.01148148|\n",
      "|      YES|        YES|0.37216435200000003|\n",
      "|       NO|        YES|       -29.74398148|\n",
      "|       NO|        YES|       -14.70673611|\n",
      "|       NO|        YES|       -14.70662037|\n",
      "|       NO|        YES|       -14.70662037|\n",
      "|       NO|        YES|       -14.70649306|\n",
      "|       NO|        YES|       -14.70649306|\n",
      "|       NO|        YES|       -14.70636574|\n",
      "|       NO|        YES|          -14.70625|\n",
      "|       NO|        YES|       -14.70636574|\n",
      "|       NO|        YES|       -14.70623843|\n",
      "|       NO|        YES|-14.705891199999998|\n",
      "|       NO|        YES|       -14.70600694|\n",
      "|       NO|        YES|       -14.70576389|\n",
      "|       NO|        YES|       -14.70576389|\n",
      "|       NO|        YES|       -14.70564815|\n",
      "+---------+-----------+-------------------+\n",
      "only showing top 20 rows\n",
      "\n"
     ]
    }
   ],
   "source": [
    "(df\n",
    " .select('case_late', 'case_closed', 'num_days_late')\n",
    " .show())"
   ]
  },
  {
   "cell_type": "code",
   "execution_count": 317,
   "metadata": {},
   "outputs": [
    {
     "name": "stdout",
     "output_type": "stream",
     "text": [
      "+---------------------+-----+------+\n",
      "|case_late_case_closed|   NO|   YES|\n",
      "+---------------------+-----+------+\n",
      "|                  YES| 6525| 87978|\n",
      "|                   NO|11585|735616|\n",
      "+---------------------+-----+------+\n",
      "\n"
     ]
    }
   ],
   "source": [
    "(df\n",
    " .select('case_late', 'case_closed', 'num_days_late')\n",
    " .crosstab('case_late', 'case_closed')\n",
    " .show())"
   ]
  },
  {
   "cell_type": "code",
   "execution_count": 320,
   "metadata": {},
   "outputs": [
    {
     "name": "stdout",
     "output_type": "stream",
     "text": [
      "+---------+---------------------+---------------------+----------------------+----------------------+\n",
      "|case_late|NO_avg(num_days_late)|NO_sum(num_days_late)|YES_avg(num_days_late)|YES_sum(num_days_late)|\n",
      "+---------+---------------------+---------------------+----------------------+----------------------+\n",
      "|      YES|    70.02952998931131|   456942.68318025634|    22.111760411319306|    1945348.4574670498|\n",
      "|       NO|   -53.77566981441837|   -621431.6403754187|    -58.57130168391447|  -4.308575237430769E7|\n",
      "+---------+---------------------+---------------------+----------------------+----------------------+\n",
      "\n"
     ]
    }
   ],
   "source": [
    "(df\n",
    " .select('case_late', 'case_closed', 'num_days_late')\n",
    " .groupBy('case_late') # rows\n",
    " .pivot('case_closed') # columns\n",
    " .agg(avg(col('num_days_late')), sum(col('num_days_late'))) # values\n",
    " .show())"
   ]
  },
  {
   "cell_type": "code",
   "execution_count": 323,
   "metadata": {},
   "outputs": [],
   "source": [
    "df = spark.read.csv('/Users/zach/ds/data/fitbit-activities.csv', header=True)"
   ]
  },
  {
   "cell_type": "code",
   "execution_count": 340,
   "metadata": {},
   "outputs": [
    {
     "name": "stdout",
     "output_type": "stream",
     "text": [
      "+------------------------------------------+-----------+----------+\n",
      "|week                                      |total_steps|mean_steps|\n",
      "+------------------------------------------+-----------+----------+\n",
      "|[2018-04-25 19:00:00, 2018-05-02 19:00:00]|23338      |3334.0    |\n",
      "|[2018-05-02 19:00:00, 2018-05-09 19:00:00]|7512       |1073.14   |\n",
      "|[2018-05-09 19:00:00, 2018-05-16 19:00:00]|23854      |3407.71   |\n",
      "|[2018-05-16 19:00:00, 2018-05-23 19:00:00]|53499      |7642.71   |\n",
      "|[2018-05-23 19:00:00, 2018-05-30 19:00:00]|34140      |4877.14   |\n",
      "|[2018-05-30 19:00:00, 2018-06-06 19:00:00]|33204      |4743.43   |\n",
      "|[2018-06-06 19:00:00, 2018-06-13 19:00:00]|22967      |3281.0    |\n",
      "|[2018-06-13 19:00:00, 2018-06-20 19:00:00]|44824      |6403.43   |\n",
      "|[2018-06-20 19:00:00, 2018-06-27 19:00:00]|24300      |3471.43   |\n",
      "|[2018-06-27 19:00:00, 2018-07-04 19:00:00]|4886       |698.0     |\n",
      "|[2018-07-04 19:00:00, 2018-07-11 19:00:00]|32940      |4705.71   |\n",
      "|[2018-07-11 19:00:00, 2018-07-18 19:00:00]|58700      |8385.71   |\n",
      "|[2018-07-18 19:00:00, 2018-07-25 19:00:00]|65945      |9420.71   |\n",
      "|[2018-07-25 19:00:00, 2018-08-01 19:00:00]|64105      |9157.86   |\n",
      "|[2018-08-01 19:00:00, 2018-08-08 19:00:00]|84050      |12007.14  |\n",
      "|[2018-08-08 19:00:00, 2018-08-15 19:00:00]|89538      |12791.14  |\n",
      "|[2018-08-15 19:00:00, 2018-08-22 19:00:00]|69354      |9907.71   |\n",
      "|[2018-08-22 19:00:00, 2018-08-29 19:00:00]|55867      |7981.0    |\n",
      "|[2018-08-29 19:00:00, 2018-09-05 19:00:00]|49259      |7037.0    |\n",
      "|[2018-09-05 19:00:00, 2018-09-12 19:00:00]|56299      |8042.71   |\n",
      "+------------------------------------------+-----------+----------+\n",
      "only showing top 20 rows\n",
      "\n"
     ]
    }
   ],
   "source": [
    "(df\n",
    " .select(col('Date').alias('date'), col('Steps').alias('steps'))\n",
    " .withColumn('date', col('date').cast('date'))\n",
    " .withColumn('steps', regexp_replace(col('steps'), r',', ''))\n",
    " .withColumn('steps', col('steps').cast('integer'))\n",
    " .orderBy('date')\n",
    " .groupBy(window(col('date'), '7 days').alias('week'))\n",
    " .agg(expr('sum(steps) as total_steps'), expr('avg(steps) as mean_steps'))\n",
    " .withColumn('mean_steps', round(col('mean_steps'), 2))\n",
    " .sort(col('window'))\n",
    " .show(truncate=False))"
   ]
  }
 ],
 "metadata": {
  "kernelspec": {
   "display_name": "Python 3",
   "language": "python",
   "name": "python3"
  },
  "language_info": {
   "codemirror_mode": {
    "name": "ipython",
    "version": 3
   },
   "file_extension": ".py",
   "mimetype": "text/x-python",
   "name": "python",
   "nbconvert_exporter": "python",
   "pygments_lexer": "ipython3",
   "version": "3.7.1"
  }
 },
 "nbformat": 4,
 "nbformat_minor": 2
}
