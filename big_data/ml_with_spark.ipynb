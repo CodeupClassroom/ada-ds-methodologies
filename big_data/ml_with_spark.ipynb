{
 "cells": [
  {
   "cell_type": "code",
   "execution_count": 2,
   "metadata": {},
   "outputs": [],
   "source": [
    "import pyspark\n",
    "import pyspark.ml\n",
    "\n",
    "spark = pyspark.sql.SparkSession.builder.getOrCreate()"
   ]
  },
  {
   "cell_type": "code",
   "execution_count": 13,
   "metadata": {},
   "outputs": [
    {
     "name": "stdout",
     "output_type": "stream",
     "text": [
      "+---------+-----------+-----------+---------+--------+----------------+\n",
      "|fertility|agriculture|examination|education|catholic|infant_mortality|\n",
      "+---------+-----------+-----------+---------+--------+----------------+\n",
      "|     80.2|       17.0|         15|       12|    9.96|            22.2|\n",
      "|     83.1|       45.1|          6|        9|   84.84|            22.2|\n",
      "|     92.5|       39.7|          5|        5|    93.4|            20.2|\n",
      "|     85.8|       36.5|         12|        7|   33.77|            20.3|\n",
      "|     76.9|       43.5|         17|       15|    5.16|            20.6|\n",
      "|     76.1|       35.3|          9|        7|   90.57|            26.6|\n",
      "|     83.8|       70.2|         16|        7|   92.85|            23.6|\n",
      "|     92.4|       67.8|         14|        8|   97.16|            24.9|\n",
      "|     82.4|       53.3|         12|        7|   97.67|            21.0|\n",
      "|     82.9|       45.2|         16|       13|   91.38|            24.4|\n",
      "|     87.1|       64.5|         14|        6|   98.61|            24.5|\n",
      "|     64.1|       62.0|         21|       12|    8.52|            16.5|\n",
      "|     66.9|       67.5|         14|        7|    2.27|            19.1|\n",
      "|     68.9|       60.7|         19|       12|    4.43|            22.7|\n",
      "|     61.7|       69.3|         22|        5|    2.82|            18.7|\n",
      "|     68.3|       72.6|         18|        2|    24.2|            21.2|\n",
      "|     71.7|       34.0|         17|        8|     3.3|            20.0|\n",
      "|     55.7|       19.4|         26|       28|   12.11|            20.2|\n",
      "|     54.3|       15.2|         31|       20|    2.15|            10.8|\n",
      "|     65.1|       73.0|         19|        9|    2.84|            20.0|\n",
      "+---------+-----------+-----------+---------+--------+----------------+\n",
      "only showing top 20 rows\n",
      "\n"
     ]
    }
   ],
   "source": [
    "swiss = spark.read.csv('swiss.csv', header=True, inferSchema=True)\n",
    "swiss.show()"
   ]
  },
  {
   "cell_type": "code",
   "execution_count": 14,
   "metadata": {},
   "outputs": [],
   "source": [
    "from pyspark.sql.functions import *\n",
    "\n",
    "swiss = (swiss\n",
    " .withColumn('is_catholic', when(swiss.catholic > 60, 'Catholic').otherwise('Not Catholic'))\n",
    " .drop('catholic'))\n"
   ]
  },
  {
   "cell_type": "code",
   "execution_count": 16,
   "metadata": {},
   "outputs": [
    {
     "name": "stdout",
     "output_type": "stream",
     "text": [
      "+---------+-----------+-----------+---------+----------------+------------+\n",
      "|fertility|agriculture|examination|education|infant_mortality| is_catholic|\n",
      "+---------+-----------+-----------+---------+----------------+------------+\n",
      "|     80.2|       17.0|         15|       12|            22.2|Not Catholic|\n",
      "|     83.1|       45.1|          6|        9|            22.2|    Catholic|\n",
      "|     92.5|       39.7|          5|        5|            20.2|    Catholic|\n",
      "|     85.8|       36.5|         12|        7|            20.3|Not Catholic|\n",
      "|     76.9|       43.5|         17|       15|            20.6|Not Catholic|\n",
      "|     76.1|       35.3|          9|        7|            26.6|    Catholic|\n",
      "|     83.8|       70.2|         16|        7|            23.6|    Catholic|\n",
      "|     92.4|       67.8|         14|        8|            24.9|    Catholic|\n",
      "|     82.4|       53.3|         12|        7|            21.0|    Catholic|\n",
      "|     82.9|       45.2|         16|       13|            24.4|    Catholic|\n",
      "|     87.1|       64.5|         14|        6|            24.5|    Catholic|\n",
      "|     64.1|       62.0|         21|       12|            16.5|Not Catholic|\n",
      "|     66.9|       67.5|         14|        7|            19.1|Not Catholic|\n",
      "|     68.9|       60.7|         19|       12|            22.7|Not Catholic|\n",
      "|     61.7|       69.3|         22|        5|            18.7|Not Catholic|\n",
      "|     68.3|       72.6|         18|        2|            21.2|Not Catholic|\n",
      "|     71.7|       34.0|         17|        8|            20.0|Not Catholic|\n",
      "|     55.7|       19.4|         26|       28|            20.2|Not Catholic|\n",
      "|     54.3|       15.2|         31|       20|            10.8|Not Catholic|\n",
      "|     65.1|       73.0|         19|        9|            20.0|Not Catholic|\n",
      "+---------+-----------+-----------+---------+----------------+------------+\n",
      "only showing top 20 rows\n",
      "\n"
     ]
    }
   ],
   "source": [
    "swiss.show()"
   ]
  },
  {
   "cell_type": "code",
   "execution_count": 28,
   "metadata": {},
   "outputs": [],
   "source": [
    "from pyspark.ml.feature import RFormula\n",
    "\n",
    "rf = RFormula(formula='is_catholic ~ agriculture + examination')\n",
    "\n",
    "df = rf.fit(swiss).transform(swiss).select('features', 'label')"
   ]
  },
  {
   "cell_type": "code",
   "execution_count": 29,
   "metadata": {},
   "outputs": [
    {
     "name": "stdout",
     "output_type": "stream",
     "text": [
      "+-----------+-----+\n",
      "|   features|label|\n",
      "+-----------+-----+\n",
      "|[17.0,15.0]|  0.0|\n",
      "| [45.1,6.0]|  1.0|\n",
      "| [39.7,5.0]|  1.0|\n",
      "|[36.5,12.0]|  0.0|\n",
      "|[43.5,17.0]|  0.0|\n",
      "| [35.3,9.0]|  1.0|\n",
      "|[70.2,16.0]|  1.0|\n",
      "|[67.8,14.0]|  1.0|\n",
      "|[53.3,12.0]|  1.0|\n",
      "|[45.2,16.0]|  1.0|\n",
      "|[64.5,14.0]|  1.0|\n",
      "|[62.0,21.0]|  0.0|\n",
      "|[67.5,14.0]|  0.0|\n",
      "|[60.7,19.0]|  0.0|\n",
      "|[69.3,22.0]|  0.0|\n",
      "|[72.6,18.0]|  0.0|\n",
      "|[34.0,17.0]|  0.0|\n",
      "|[19.4,26.0]|  0.0|\n",
      "|[15.2,31.0]|  0.0|\n",
      "|[73.0,19.0]|  0.0|\n",
      "+-----------+-----+\n",
      "only showing top 20 rows\n",
      "\n"
     ]
    }
   ],
   "source": [
    "df.show()"
   ]
  },
  {
   "cell_type": "code",
   "execution_count": 22,
   "metadata": {},
   "outputs": [],
   "source": [
    "from pyspark.ml.classification import LogisticRegression"
   ]
  },
  {
   "cell_type": "code",
   "execution_count": 38,
   "metadata": {},
   "outputs": [
    {
     "name": "stdout",
     "output_type": "stream",
     "text": [
      "+-----------+-----+--------------------+--------------------+----------+---------------+\n",
      "|   features|label|       rawPrediction|         probability|prediction|we_got_it_right|\n",
      "+-----------+-----+--------------------+--------------------+----------+---------------+\n",
      "|[17.0,15.0]|  0.0|[2.61081360006245...|[0.93155429036120...|       0.0|           true|\n",
      "| [45.1,6.0]|  1.0|[-1.9844861732885...|[0.12084142107894...|       1.0|           true|\n",
      "| [39.7,5.0]|  1.0|[-2.1417946363626...|[0.10510047647313...|       1.0|           true|\n",
      "|[36.5,12.0]|  0.0|[0.65897957038476...|[0.65903112585454...|       0.0|           true|\n",
      "|[43.5,17.0]|  0.0|[2.27460235659845...|[0.90675166037879...|       0.0|           true|\n",
      "| [35.3,9.0]|  1.0|[-0.4347561719699...|[0.39299117537033...|       1.0|           true|\n",
      "|[70.2,16.0]|  1.0|[0.78661973782068...|[0.68710506231533...|       0.0|          false|\n",
      "|[67.8,14.0]|  1.0|[0.12378901391833...|[0.53090779502300...|       0.0|          false|\n",
      "|[53.3,12.0]|  1.0|[-0.0374480251237...|[0.49063908763669...|       1.0|           true|\n",
      "|[45.2,16.0]|  1.0|[1.82297032637498...|[0.86092216106892...|       0.0|          false|\n",
      "|[64.5,14.0]|  1.0|[0.26058729160750...|[0.56478065560428...|       0.0|          false|\n",
      "|[62.0,21.0]|  0.0|[3.03234368187538...|[0.95401410256316...|       0.0|           true|\n",
      "|[67.5,14.0]|  0.0|[0.13622522098098...|[0.53400373667603...|       0.0|           true|\n",
      "|[60.7,19.0]|  0.0|[2.32391353207665...|[0.91083827750503...|       0.0|           true|\n",
      "|[69.3,22.0]|  0.0|[3.11088950021931...|[0.95733969810871...|       0.0|           true|\n",
      "|[72.6,18.0]|  0.0|[1.44945046172302...|[0.80991384510220...|       0.0|           true|\n",
      "|[34.0,17.0]|  0.0|[2.66841558024908...|[0.93513699338295...|       0.0|           true|\n",
      "|[19.4,26.0]|  0.0|[6.70408603578081...|[0.99877560835859...|       0.0|           true|\n",
      "|[15.2,31.0]|  0.0|[8.78399388566683...|[0.99984685831802...|       0.0|           true|\n",
      "|[73.0,19.0]|  0.0|[1.81402904250793...|[0.85984811580963...|       0.0|           true|\n",
      "+-----------+-----+--------------------+--------------------+----------+---------------+\n",
      "only showing top 20 rows\n",
      "\n"
     ]
    }
   ],
   "source": [
    "lr = LogisticRegression()\n",
    "lr_fit = lr.fit(df)\n",
    "(lr_fit.transform(df)\n",
    " .withColumn('we_got_it_right', col('label') == col('prediction'))).show()"
   ]
  },
  {
   "cell_type": "code",
   "execution_count": 33,
   "metadata": {},
   "outputs": [],
   "source": [
    "training_summary = lr_fit.summary"
   ]
  },
  {
   "cell_type": "code",
   "execution_count": 34,
   "metadata": {},
   "outputs": [
    {
     "data": {
      "text/plain": [
       "0.9314516129032259"
      ]
     },
     "execution_count": 34,
     "metadata": {},
     "output_type": "execute_result"
    }
   ],
   "source": [
    "training_summary.areaUnderROC"
   ]
  },
  {
   "cell_type": "code",
   "execution_count": 36,
   "metadata": {},
   "outputs": [
    {
     "data": {
      "text/plain": [
       "0.8723404255319149"
      ]
     },
     "execution_count": 36,
     "metadata": {},
     "output_type": "execute_result"
    }
   ],
   "source": [
    "training_summary.accuracy"
   ]
  },
  {
   "cell_type": "markdown",
   "metadata": {},
   "source": [
    "## Regression"
   ]
  },
  {
   "cell_type": "code",
   "execution_count": 40,
   "metadata": {},
   "outputs": [
    {
     "name": "stdout",
     "output_type": "stream",
     "text": [
      "+---------+-----------+-----------+---------+--------+----------------+\n",
      "|fertility|agriculture|examination|education|catholic|infant_mortality|\n",
      "+---------+-----------+-----------+---------+--------+----------------+\n",
      "|     80.2|       17.0|         15|       12|    9.96|            22.2|\n",
      "|     83.1|       45.1|          6|        9|   84.84|            22.2|\n",
      "|     92.5|       39.7|          5|        5|    93.4|            20.2|\n",
      "|     85.8|       36.5|         12|        7|   33.77|            20.3|\n",
      "|     76.9|       43.5|         17|       15|    5.16|            20.6|\n",
      "|     76.1|       35.3|          9|        7|   90.57|            26.6|\n",
      "|     83.8|       70.2|         16|        7|   92.85|            23.6|\n",
      "|     92.4|       67.8|         14|        8|   97.16|            24.9|\n",
      "|     82.4|       53.3|         12|        7|   97.67|            21.0|\n",
      "|     82.9|       45.2|         16|       13|   91.38|            24.4|\n",
      "|     87.1|       64.5|         14|        6|   98.61|            24.5|\n",
      "|     64.1|       62.0|         21|       12|    8.52|            16.5|\n",
      "|     66.9|       67.5|         14|        7|    2.27|            19.1|\n",
      "|     68.9|       60.7|         19|       12|    4.43|            22.7|\n",
      "|     61.7|       69.3|         22|        5|    2.82|            18.7|\n",
      "|     68.3|       72.6|         18|        2|    24.2|            21.2|\n",
      "|     71.7|       34.0|         17|        8|     3.3|            20.0|\n",
      "|     55.7|       19.4|         26|       28|   12.11|            20.2|\n",
      "|     54.3|       15.2|         31|       20|    2.15|            10.8|\n",
      "|     65.1|       73.0|         19|        9|    2.84|            20.0|\n",
      "+---------+-----------+-----------+---------+--------+----------------+\n",
      "only showing top 20 rows\n",
      "\n"
     ]
    }
   ],
   "source": [
    "swiss = spark.read.csv('swiss.csv', header=True, inferSchema=True)\n",
    "\n",
    "swiss.show()"
   ]
  },
  {
   "cell_type": "code",
   "execution_count": 50,
   "metadata": {},
   "outputs": [
    {
     "name": "stdout",
     "output_type": "stream",
     "text": [
      "+------------+-----+\n",
      "|    features|label|\n",
      "+------------+-----+\n",
      "| [9.96,15.0]| 80.2|\n",
      "| [84.84,6.0]| 83.1|\n",
      "|  [93.4,5.0]| 92.5|\n",
      "|[33.77,12.0]| 85.8|\n",
      "| [5.16,17.0]| 76.9|\n",
      "+------------+-----+\n",
      "only showing top 5 rows\n",
      "\n"
     ]
    }
   ],
   "source": [
    "rf = RFormula(formula='fertility ~ catholic + examination')\n",
    "\n",
    "df = (rf.fit(swiss)\n",
    " .transform(swiss)\n",
    " .select('features', 'label'))\n",
    "\n",
    "df.show(5)"
   ]
  },
  {
   "cell_type": "code",
   "execution_count": 54,
   "metadata": {},
   "outputs": [
    {
     "name": "stdout",
     "output_type": "stream",
     "text": [
      "+------------+-----+-----------------+\n",
      "|    features|label|       prediction|\n",
      "+------------+-----+-----------------+\n",
      "| [9.96,15.0]| 80.2|70.15912634852639|\n",
      "| [84.84,6.0]| 83.1|81.26429130386857|\n",
      "|  [93.4,5.0]| 92.5|82.50822893852232|\n",
      "|[33.77,12.0]| 85.8| 73.8127855836299|\n",
      "| [5.16,17.0]| 76.9|68.18614583875217|\n",
      "| [90.57,9.0]| 76.1|78.84520927628235|\n",
      "|[92.85,16.0]| 83.8|72.73719567485625|\n",
      "|[97.16,14.0]| 92.4|74.68969741578539|\n",
      "|[97.67,12.0]| 82.4|76.48338421465071|\n",
      "|[91.38,16.0]| 82.9|72.67575936832102|\n",
      "|[98.61,14.0]| 87.1|74.75029785420449|\n",
      "| [8.52,21.0]| 64.1|64.78182735845301|\n",
      "| [2.27,14.0]| 66.9| 70.7239211388282|\n",
      "| [4.43,19.0]| 68.9|66.38326449060946|\n",
      "| [2.82,22.0]| 61.7| 63.6574188644052|\n",
      "| [24.2,18.0]| 68.3|68.09570620435153|\n",
      "|  [3.3,17.0]| 71.7| 68.1084101039525|\n",
      "|[12.11,26.0]| 55.7|60.50093528053725|\n",
      "| [2.15,31.0]| 54.3| 55.6537425539465|\n",
      "| [2.84,19.0]| 65.1| 66.3168129753775|\n",
      "+------------+-----+-----------------+\n",
      "only showing top 20 rows\n",
      "\n"
     ]
    }
   ],
   "source": [
    "from pyspark.ml.regression import LinearRegression\n",
    "\n",
    "lr = LinearRegression()\n",
    "lr_fit = lr.fit(df)\n",
    "lr_fit.transform(df).show()"
   ]
  },
  {
   "cell_type": "code",
   "execution_count": 72,
   "metadata": {},
   "outputs": [
    {
     "data": {
      "text/plain": [
       "(0.43024705652222606, 9.328132841820988)"
      ]
     },
     "execution_count": 72,
     "metadata": {},
     "output_type": "execute_result"
    }
   ],
   "source": [
    "training_summary = lr_fit.summary\n",
    "training_summary.r2, training_summary.rootMeanSquaredError"
   ]
  }
 ],
 "metadata": {
  "kernelspec": {
   "display_name": "Python 3",
   "language": "python",
   "name": "python3"
  },
  "language_info": {
   "codemirror_mode": {
    "name": "ipython",
    "version": 3
   },
   "file_extension": ".py",
   "mimetype": "text/x-python",
   "name": "python",
   "nbconvert_exporter": "python",
   "pygments_lexer": "ipython3",
   "version": "3.7.1"
  }
 },
 "nbformat": 4,
 "nbformat_minor": 2
}
