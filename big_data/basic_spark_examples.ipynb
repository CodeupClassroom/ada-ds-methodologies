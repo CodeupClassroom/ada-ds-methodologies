{
 "cells": [
  {
   "cell_type": "code",
   "execution_count": 2,
   "metadata": {},
   "outputs": [
    {
     "data": {
      "text/html": [
       "\n",
       "            <div>\n",
       "                <p><b>SparkSession - in-memory</b></p>\n",
       "                \n",
       "        <div>\n",
       "            <p><b>SparkContext</b></p>\n",
       "\n",
       "            <p><a href=\"http://10.10.13.166:4041\">Spark UI</a></p>\n",
       "\n",
       "            <dl>\n",
       "              <dt>Version</dt>\n",
       "                <dd><code>v2.4.1</code></dd>\n",
       "              <dt>Master</dt>\n",
       "                <dd><code>local[*]</code></dd>\n",
       "              <dt>AppName</dt>\n",
       "                <dd><code>pyspark-shell</code></dd>\n",
       "            </dl>\n",
       "        </div>\n",
       "        \n",
       "            </div>\n",
       "        "
      ],
      "text/plain": [
       "<pyspark.sql.session.SparkSession at 0x1138a1278>"
      ]
     },
     "execution_count": 2,
     "metadata": {},
     "output_type": "execute_result"
    }
   ],
   "source": [
    "import pyspark\n",
    "\n",
    "spark = pyspark.sql.SparkSession.builder.getOrCreate()\n",
    "\n",
    "spark"
   ]
  },
  {
   "cell_type": "code",
   "execution_count": 6,
   "metadata": {},
   "outputs": [],
   "source": [
    "import pandas as pd\n",
    "import numpy as np\n",
    "\n",
    "pandas_dataframe = pd.DataFrame(dict(n=np.arange(100), group=np.random.choice(list('abc'), 100)))"
   ]
  },
  {
   "cell_type": "code",
   "execution_count": 14,
   "metadata": {},
   "outputs": [
    {
     "name": "stdout",
     "output_type": "stream",
     "text": [
      "+---+-----+\n",
      "|  n|group|\n",
      "+---+-----+\n",
      "|  0|    a|\n",
      "|  1|    a|\n",
      "|  2|    b|\n",
      "|  3|    c|\n",
      "|  4|    a|\n",
      "|  5|    c|\n",
      "|  6|    a|\n",
      "|  7|    c|\n",
      "|  8|    b|\n",
      "|  9|    c|\n",
      "| 10|    b|\n",
      "| 11|    c|\n",
      "| 12|    a|\n",
      "| 13|    c|\n",
      "| 14|    c|\n",
      "| 15|    a|\n",
      "| 16|    c|\n",
      "| 17|    b|\n",
      "| 18|    a|\n",
      "| 19|    b|\n",
      "+---+-----+\n",
      "only showing top 20 rows\n",
      "\n"
     ]
    }
   ],
   "source": [
    "df = spark.createDataFrame(pandas_dataframe)\n",
    "df.show()"
   ]
  },
  {
   "cell_type": "code",
   "execution_count": 11,
   "metadata": {},
   "outputs": [],
   "source": [
    "df.createOrReplaceTempView('numbers')"
   ]
  },
  {
   "cell_type": "code",
   "execution_count": 26,
   "metadata": {},
   "outputs": [
    {
     "name": "stdout",
     "output_type": "stream",
     "text": [
      "+-----+------------------+\n",
      "|group|            avg(n)|\n",
      "+-----+------------------+\n",
      "|    c|46.285714285714285|\n",
      "|    b| 50.72727272727273|\n",
      "|    a|             51.75|\n",
      "+-----+------------------+\n",
      "\n"
     ]
    }
   ],
   "source": [
    "from pyspark.sql.functions import expr, avg\n",
    "\n",
    "df.groupBy('group').agg(expr('avg(n)')).show()"
   ]
  },
  {
   "cell_type": "code",
   "execution_count": 28,
   "metadata": {},
   "outputs": [
    {
     "name": "stdout",
     "output_type": "stream",
     "text": [
      "+-----+------------------+\n",
      "|group|            avg(n)|\n",
      "+-----+------------------+\n",
      "|    c|46.285714285714285|\n",
      "|    b| 50.72727272727273|\n",
      "|    a|             51.75|\n",
      "+-----+------------------+\n",
      "\n"
     ]
    }
   ],
   "source": [
    "df.groupBy(df.group).agg(avg(df.n)).show()"
   ]
  },
  {
   "cell_type": "code",
   "execution_count": 29,
   "metadata": {},
   "outputs": [
    {
     "name": "stdout",
     "output_type": "stream",
     "text": [
      "+-----+------------------+\n",
      "|group|              mean|\n",
      "+-----+------------------+\n",
      "|    c|46.285714285714285|\n",
      "|    b| 50.72727272727273|\n",
      "|    a|             51.75|\n",
      "+-----+------------------+\n",
      "\n"
     ]
    }
   ],
   "source": [
    "another_pandas_dataframe = spark.sql('''\n",
    "SELECT group, avg(n) as mean\n",
    "FROM numbers\n",
    "GROUP BY group\n",
    "''').show()"
   ]
  },
  {
   "cell_type": "code",
   "execution_count": 33,
   "metadata": {},
   "outputs": [],
   "source": [
    "df2 = df.select('n', expr('n + 1 as incremented'))"
   ]
  },
  {
   "cell_type": "code",
   "execution_count": 36,
   "metadata": {},
   "outputs": [
    {
     "name": "stdout",
     "output_type": "stream",
     "text": [
      "== Physical Plan ==\n",
      "*(2) HashAggregate(keys=[], functions=[sum(x#201)])\n",
      "+- Exchange SinglePartition\n",
      "   +- *(1) HashAggregate(keys=[], functions=[partial_sum(x#201)])\n",
      "      +- *(1) Project [(cast((n#26L + 1) as double) / 2.0) AS x#201]\n",
      "         +- Scan ExistingRDD[n#26L,group#27]\n"
     ]
    }
   ],
   "source": [
    "df2.select(expr('incremented / 2 as x')).agg(expr('sum(x)')).explain()"
   ]
  },
  {
   "cell_type": "code",
   "execution_count": 32,
   "metadata": {},
   "outputs": [
    {
     "name": "stdout",
     "output_type": "stream",
     "text": [
      "+---+-----------+\n",
      "|  n|incremented|\n",
      "+---+-----------+\n",
      "|  0|          1|\n",
      "|  1|          2|\n",
      "|  2|          3|\n",
      "|  3|          4|\n",
      "|  4|          5|\n",
      "|  5|          6|\n",
      "|  6|          7|\n",
      "|  7|          8|\n",
      "|  8|          9|\n",
      "|  9|         10|\n",
      "| 10|         11|\n",
      "| 11|         12|\n",
      "| 12|         13|\n",
      "| 13|         14|\n",
      "| 14|         15|\n",
      "| 15|         16|\n",
      "| 16|         17|\n",
      "| 17|         18|\n",
      "| 18|         19|\n",
      "| 19|         20|\n",
      "+---+-----------+\n",
      "only showing top 20 rows\n",
      "\n"
     ]
    }
   ],
   "source": [
    "df.select(df.n, (df.n + 1).alias('incremented')).show()"
   ]
  },
  {
   "cell_type": "code",
   "execution_count": 25,
   "metadata": {},
   "outputs": [
    {
     "data": {
      "text/html": [
       "<div>\n",
       "<style scoped>\n",
       "    .dataframe tbody tr th:only-of-type {\n",
       "        vertical-align: middle;\n",
       "    }\n",
       "\n",
       "    .dataframe tbody tr th {\n",
       "        vertical-align: top;\n",
       "    }\n",
       "\n",
       "    .dataframe thead th {\n",
       "        text-align: right;\n",
       "    }\n",
       "</style>\n",
       "<table border=\"1\" class=\"dataframe\">\n",
       "  <thead>\n",
       "    <tr style=\"text-align: right;\">\n",
       "      <th></th>\n",
       "      <th>group</th>\n",
       "      <th>mean</th>\n",
       "    </tr>\n",
       "  </thead>\n",
       "  <tbody>\n",
       "    <tr>\n",
       "      <th>0</th>\n",
       "      <td>c</td>\n",
       "      <td>46.285714</td>\n",
       "    </tr>\n",
       "    <tr>\n",
       "      <th>1</th>\n",
       "      <td>b</td>\n",
       "      <td>50.727273</td>\n",
       "    </tr>\n",
       "    <tr>\n",
       "      <th>2</th>\n",
       "      <td>a</td>\n",
       "      <td>51.750000</td>\n",
       "    </tr>\n",
       "  </tbody>\n",
       "</table>\n",
       "</div>"
      ],
      "text/plain": [
       "  group       mean\n",
       "0     c  46.285714\n",
       "1     b  50.727273\n",
       "2     a  51.750000"
      ]
     },
     "execution_count": 25,
     "metadata": {},
     "output_type": "execute_result"
    }
   ],
   "source": [
    "another_pandas_dataframe"
   ]
  },
  {
   "cell_type": "code",
   "execution_count": 41,
   "metadata": {},
   "outputs": [
    {
     "name": "stdout",
     "output_type": "stream",
     "text": [
      "+---+-----+\n",
      "|  n|group|\n",
      "+---+-----+\n",
      "|  0|    a|\n",
      "|  1|    a|\n",
      "|  2|    b|\n",
      "|  3|    c|\n",
      "|  4|    a|\n",
      "|  5|    c|\n",
      "|  6|    a|\n",
      "|  7|    c|\n",
      "|  8|    b|\n",
      "|  9|    c|\n",
      "| 10|    b|\n",
      "| 11|    c|\n",
      "| 12|    a|\n",
      "| 13|    c|\n",
      "| 14|    c|\n",
      "| 15|    a|\n",
      "| 16|    c|\n",
      "| 17|    b|\n",
      "| 18|    a|\n",
      "| 19|    b|\n",
      "+---+-----+\n",
      "only showing top 20 rows\n",
      "\n"
     ]
    }
   ],
   "source": [
    "df.show()"
   ]
  },
  {
   "cell_type": "code",
   "execution_count": 55,
   "metadata": {},
   "outputs": [],
   "source": [
    "from pyspark.sql.functions import col, column, expr"
   ]
  },
  {
   "cell_type": "code",
   "execution_count": 66,
   "metadata": {},
   "outputs": [
    {
     "name": "stdout",
     "output_type": "stream",
     "text": [
      "+--------+\n",
      "|quantity|\n",
      "+--------+\n",
      "|      48|\n",
      "|      51|\n",
      "|      54|\n",
      "|      57|\n",
      "|      60|\n",
      "|      63|\n",
      "|      66|\n",
      "|      69|\n",
      "|      72|\n",
      "|      75|\n",
      "|      78|\n",
      "|      81|\n",
      "|      84|\n",
      "|      87|\n",
      "|      90|\n",
      "|      93|\n",
      "|      96|\n",
      "|      99|\n",
      "|     102|\n",
      "|     105|\n",
      "+--------+\n",
      "only showing top 20 rows\n",
      "\n"
     ]
    }
   ],
   "source": [
    "my_column = (col('n') + 16) * 3\n",
    "\n",
    "df.select(my_column.alias('quantity')).show()"
   ]
  },
  {
   "cell_type": "code",
   "execution_count": 79,
   "metadata": {},
   "outputs": [
    {
     "name": "stdout",
     "output_type": "stream",
     "text": [
      "+--------------+\n",
      "|(quantity + 1)|\n",
      "+--------------+\n",
      "|            49|\n",
      "|            52|\n",
      "|            55|\n",
      "|            58|\n",
      "|            61|\n",
      "|            64|\n",
      "|            67|\n",
      "|            70|\n",
      "|            73|\n",
      "|            76|\n",
      "|            79|\n",
      "|            82|\n",
      "|            85|\n",
      "|            88|\n",
      "|            91|\n",
      "|            94|\n",
      "|            97|\n",
      "|           100|\n",
      "|           103|\n",
      "|           106|\n",
      "+--------------+\n",
      "only showing top 20 rows\n",
      "\n"
     ]
    }
   ],
   "source": [
    "df.select(((df.n + 16) * 3).alias('quantity')).select(col('quantity') + 1).show()"
   ]
  },
  {
   "cell_type": "code",
   "execution_count": 81,
   "metadata": {},
   "outputs": [
    {
     "name": "stdout",
     "output_type": "stream",
     "text": [
      "+--------+\n",
      "|quantity|\n",
      "+--------+\n",
      "|      48|\n",
      "|      51|\n",
      "|      54|\n",
      "|      57|\n",
      "|      60|\n",
      "|      63|\n",
      "|      66|\n",
      "|      69|\n",
      "|      72|\n",
      "|      75|\n",
      "|      78|\n",
      "|      81|\n",
      "|      84|\n",
      "|      87|\n",
      "|      90|\n",
      "|      93|\n",
      "|      96|\n",
      "|      99|\n",
      "|     102|\n",
      "|     105|\n",
      "+--------+\n",
      "only showing top 20 rows\n",
      "\n"
     ]
    }
   ],
   "source": [
    "df.select(expr('(n + 16) * 3 AS quantity')).show()"
   ]
  },
  {
   "cell_type": "code",
   "execution_count": 83,
   "metadata": {},
   "outputs": [
    {
     "data": {
      "text/plain": [
       "DataFrame[n: string]"
      ]
     },
     "execution_count": 83,
     "metadata": {},
     "output_type": "execute_result"
    }
   ],
   "source": [
    "df.select(df.n.cast('string'))"
   ]
  },
  {
   "cell_type": "code",
   "execution_count": 86,
   "metadata": {},
   "outputs": [],
   "source": [
    "from pyspark.sql.functions import sum"
   ]
  },
  {
   "cell_type": "code",
   "execution_count": 89,
   "metadata": {},
   "outputs": [
    {
     "name": "stdout",
     "output_type": "stream",
     "text": [
      "+-------+----+---+\n",
      "|the_sum|mean|min|\n",
      "+-------+----+---+\n",
      "|   4950|49.5|  0|\n",
      "+-------+----+---+\n",
      "\n"
     ]
    }
   ],
   "source": [
    "df.select(sum(df.n).alias('the_sum'), expr('avg(n) as mean'), expr('min(n) as min')).show()"
   ]
  },
  {
   "cell_type": "code",
   "execution_count": 85,
   "metadata": {},
   "outputs": [
    {
     "name": "stdout",
     "output_type": "stream",
     "text": [
      "+------+\n",
      "|sum(n)|\n",
      "+------+\n",
      "|  4950|\n",
      "+------+\n",
      "\n"
     ]
    }
   ],
   "source": [
    "df.select(expr('sum(n)')).show()"
   ]
  }
 ],
 "metadata": {
  "kernelspec": {
   "display_name": "Python 3",
   "language": "python",
   "name": "python3"
  },
  "language_info": {
   "codemirror_mode": {
    "name": "ipython",
    "version": 3
   },
   "file_extension": ".py",
   "mimetype": "text/x-python",
   "name": "python",
   "nbconvert_exporter": "python",
   "pygments_lexer": "ipython3",
   "version": "3.7.1"
  }
 },
 "nbformat": 4,
 "nbformat_minor": 2
}
