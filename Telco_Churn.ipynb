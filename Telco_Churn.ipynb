{
 "cells": [
  {
   "cell_type": "markdown",
   "metadata": {},
   "source": [
    "# Churn, Baby, Churn\n",
    "\n",
    "What's driving customer churn? Can we predict it?"
   ]
  },
  {
   "cell_type": "markdown",
   "metadata": {},
   "source": [
    "## Getting and Cleaning the Data\n",
    "\n",
    "We'll start with some standard imports"
   ]
  },
  {
   "cell_type": "code",
   "execution_count": 213,
   "metadata": {},
   "outputs": [],
   "source": [
    "import pandas as pd\n",
    "import itertools as it\n",
    "\n",
    "%matplotlib inline\n",
    "import matplotlib.pyplot as plt\n",
    "import seaborn as sns\n",
    "\n",
    "from scipy.stats import ttest_ind\n",
    "\n",
    "from sklearn.model_selection import train_test_split\n",
    "from sklearn.preprocessing import MinMaxScaler\n",
    "\n",
    "# ignore warning\n",
    "import warnings\n",
    "warnings.filterwarnings(\"ignore\")"
   ]
  },
  {
   "cell_type": "markdown",
   "metadata": {},
   "source": [
    "We'll acquire our data from a mysql database, credentials are stored (and hidden) in a separate `.py` file."
   ]
  },
  {
   "cell_type": "code",
   "execution_count": 214,
   "metadata": {},
   "outputs": [],
   "source": [
    "import env\n",
    "\n",
    "url = f'mysql+pymysql://{env.user}:{env.password}@{env.host}/telco_churn'\n",
    "query = 'SELECT * FROM customers'\n",
    "df = pd.read_sql(query, url)"
   ]
  },
  {
   "cell_type": "code",
   "execution_count": 215,
   "metadata": {},
   "outputs": [
    {
     "data": {
      "text/plain": [
       "customer_id                  object\n",
       "gender                       object\n",
       "senior_citizen                int64\n",
       "partner                      object\n",
       "dependents                   object\n",
       "tenure                        int64\n",
       "phone_service                object\n",
       "multiple_lines               object\n",
       "internet_service_type_id      int64\n",
       "online_security              object\n",
       "online_backup                object\n",
       "device_protection            object\n",
       "tech_support                 object\n",
       "streaming_tv                 object\n",
       "streaming_movies             object\n",
       "contract_type_id              int64\n",
       "paperless_billing            object\n",
       "payment_type_id               int64\n",
       "monthly_charges             float64\n",
       "total_charges                object\n",
       "churn                        object\n",
       "dtype: object"
      ]
     },
     "execution_count": 215,
     "metadata": {},
     "output_type": "execute_result"
    }
   ],
   "source": [
    "df.dtypes"
   ]
  },
  {
   "cell_type": "markdown",
   "metadata": {},
   "source": [
    "Let's take a quick look at all the data together:"
   ]
  },
  {
   "cell_type": "code",
   "execution_count": 216,
   "metadata": {},
   "outputs": [
    {
     "name": "stdout",
     "output_type": "stream",
     "text": [
      "- Shape\n",
      "(7043, 21)\n",
      "- Head and Tail\n",
      "     customer_id  gender  senior_citizen partner dependents  tenure  \\\n",
      "0     0002-ORFBO  Female               0     Yes        Yes       9   \n",
      "1     0003-MKNFE    Male               0      No         No       9   \n",
      "2     0004-TLHLJ    Male               0      No         No       4   \n",
      "3     0011-IGKFF    Male               1     Yes         No      13   \n",
      "4     0013-EXCHZ  Female               1     Yes         No       3   \n",
      "7038  9987-LUTYD  Female               0      No         No      13   \n",
      "7039  9992-RRAMN    Male               0     Yes         No      22   \n",
      "7040  9992-UJOEL    Male               0      No         No       2   \n",
      "7041  9993-LHIEB    Male               0     Yes        Yes      67   \n",
      "7042  9995-HOTOH    Male               0     Yes        Yes      63   \n",
      "\n",
      "     phone_service    multiple_lines  internet_service_type_id  \\\n",
      "0              Yes                No                         1   \n",
      "1              Yes               Yes                         1   \n",
      "2              Yes                No                         2   \n",
      "3              Yes                No                         2   \n",
      "4              Yes                No                         2   \n",
      "7038           Yes                No                         1   \n",
      "7039           Yes               Yes                         2   \n",
      "7040           Yes                No                         1   \n",
      "7041           Yes                No                         1   \n",
      "7042            No  No phone service                         1   \n",
      "\n",
      "     online_security  ...  device_protection tech_support streaming_tv  \\\n",
      "0                 No  ...                 No          Yes          Yes   \n",
      "1                 No  ...                 No           No           No   \n",
      "2                 No  ...                Yes           No           No   \n",
      "3                 No  ...                Yes           No          Yes   \n",
      "4                 No  ...                 No          Yes          Yes   \n",
      "7038             Yes  ...                 No          Yes           No   \n",
      "7039              No  ...                 No           No           No   \n",
      "7040              No  ...                 No           No           No   \n",
      "7041             Yes  ...                Yes          Yes           No   \n",
      "7042             Yes  ...                Yes           No          Yes   \n",
      "\n",
      "     streaming_movies contract_type_id  paperless_billing payment_type_id  \\\n",
      "0                  No                2                Yes               2   \n",
      "1                 Yes                1                 No               2   \n",
      "2                  No                1                Yes               1   \n",
      "3                 Yes                1                Yes               1   \n",
      "4                  No                1                Yes               2   \n",
      "7038               No                2                 No               2   \n",
      "7039              Yes                1                Yes               1   \n",
      "7040               No                1                Yes               2   \n",
      "7041              Yes                3                 No               2   \n",
      "7042              Yes                3                 No               1   \n",
      "\n",
      "      monthly_charges  total_charges churn  \n",
      "0           65.600000          593.3    No  \n",
      "1           59.900000          542.4    No  \n",
      "2           73.900000         280.85   Yes  \n",
      "3           98.000000        1237.85   Yes  \n",
      "4           83.900000          267.4   Yes  \n",
      "7038        55.150000          742.9    No  \n",
      "7039        85.100000         1873.7   Yes  \n",
      "7040        50.300000          92.75    No  \n",
      "7041        67.850000        4627.65    No  \n",
      "7042        59.000000         3707.6    No  \n",
      "\n",
      "[10 rows x 21 columns]\n",
      "- Numeric Vars\n",
      "       senior_citizen      tenure  internet_service_type_id  contract_type_id  \\\n",
      "count     7043.000000 7043.000000               7043.000000       7043.000000   \n",
      "mean         0.162147   32.371149                  1.872923          1.690473   \n",
      "std          0.368612   24.559481                  0.737796          0.833755   \n",
      "min          0.000000    0.000000                  1.000000          1.000000   \n",
      "25%          0.000000    9.000000                  1.000000          1.000000   \n",
      "50%          0.000000   29.000000                  2.000000          1.000000   \n",
      "75%          0.000000   55.000000                  2.000000          2.000000   \n",
      "max          1.000000   72.000000                  3.000000          3.000000   \n",
      "\n",
      "       payment_type_id  monthly_charges  \n",
      "count      7043.000000      7043.000000  \n",
      "mean          2.315633        64.761692  \n",
      "std           1.148907        30.090047  \n",
      "min           1.000000        18.250000  \n",
      "25%           1.000000        35.500000  \n",
      "50%           2.000000        70.350000  \n",
      "75%           3.000000        89.850000  \n",
      "max           4.000000       118.750000  \n",
      "- String Columns\n",
      "--- customer_id\n",
      "9496-IVVRP    1\n",
      "2058-DCJBE    1\n",
      "4415-WNGVR    1\n",
      "1697-LYYYX    1\n",
      "3301-VKTGC    1\n",
      "Name: customer_id, dtype: int64\n",
      "--- gender\n",
      "Male      3555\n",
      "Female    3488\n",
      "Name: gender, dtype: int64\n",
      "--- partner\n",
      "No     3641\n",
      "Yes    3402\n",
      "Name: partner, dtype: int64\n",
      "--- dependents\n",
      "No     4933\n",
      "Yes    2110\n",
      "Name: dependents, dtype: int64\n",
      "--- phone_service\n",
      "Yes    6361\n",
      "No      682\n",
      "Name: phone_service, dtype: int64\n",
      "--- multiple_lines\n",
      "No                  3390\n",
      "Yes                 2971\n",
      "No phone service     682\n",
      "Name: multiple_lines, dtype: int64\n",
      "--- online_security\n",
      "No                     3498\n",
      "Yes                    2019\n",
      "No internet service    1526\n",
      "Name: online_security, dtype: int64\n",
      "--- online_backup\n",
      "No                     3088\n",
      "Yes                    2429\n",
      "No internet service    1526\n",
      "Name: online_backup, dtype: int64\n",
      "--- device_protection\n",
      "No                     3095\n",
      "Yes                    2422\n",
      "No internet service    1526\n",
      "Name: device_protection, dtype: int64\n",
      "--- tech_support\n",
      "No                     3473\n",
      "Yes                    2044\n",
      "No internet service    1526\n",
      "Name: tech_support, dtype: int64\n",
      "--- streaming_tv\n",
      "No                     2810\n",
      "Yes                    2707\n",
      "No internet service    1526\n",
      "Name: streaming_tv, dtype: int64\n",
      "--- streaming_movies\n",
      "No                     2785\n",
      "Yes                    2732\n",
      "No internet service    1526\n",
      "Name: streaming_movies, dtype: int64\n",
      "--- paperless_billing\n",
      "Yes    4171\n",
      "No     2872\n",
      "Name: paperless_billing, dtype: int64\n",
      "--- total_charges\n",
      "         11\n",
      "20.2     11\n",
      "19.75     9\n",
      "19.65     8\n",
      "19.9      8\n",
      "Name: total_charges, dtype: int64\n",
      "--- churn\n",
      "No     5174\n",
      "Yes    1869\n",
      "Name: churn, dtype: int64\n"
     ]
    }
   ],
   "source": [
    "def peekatdata(df: pd.DataFrame):\n",
    "    print('- Shape')\n",
    "    print(df.shape)\n",
    "    print('- Head and Tail')\n",
    "    print(pd.concat([df.head(), df.tail()]))\n",
    "    print('- Numeric Vars')\n",
    "    print(df.describe())\n",
    "    print('- String Columns')\n",
    "    for col in df.select_dtypes('object'):\n",
    "        print('--- {}'.format(col))\n",
    "        print(df[col].value_counts().head())\n",
    "\n",
    "peekatdata(df)"
   ]
  },
  {
   "cell_type": "markdown",
   "metadata": {},
   "source": [
    "It looks like customer id is a numeric id that uniquely identifies each row, let's verify this, and if it is unique, we can use it as our index."
   ]
  },
  {
   "cell_type": "code",
   "execution_count": 217,
   "metadata": {},
   "outputs": [
    {
     "data": {
      "text/plain": [
       "1.0"
      ]
     },
     "execution_count": 217,
     "metadata": {},
     "output_type": "execute_result"
    }
   ],
   "source": [
    "df.customer_id.value_counts().mean()"
   ]
  },
  {
   "cell_type": "code",
   "execution_count": 218,
   "metadata": {},
   "outputs": [],
   "source": [
    "df.set_index('customer_id', inplace=True)"
   ]
  },
  {
   "cell_type": "markdown",
   "metadata": {},
   "source": [
    "It looks like pandas thinks the `total_charges` column is a string, let's investigate this further."
   ]
  },
  {
   "cell_type": "code",
   "execution_count": 219,
   "metadata": {},
   "outputs": [
    {
     "data": {
      "text/plain": [
       "11"
      ]
     },
     "execution_count": 219,
     "metadata": {},
     "output_type": "execute_result"
    }
   ],
   "source": [
    "(df.total_charges.str.strip() == '').sum()"
   ]
  },
  {
   "cell_type": "markdown",
   "metadata": {},
   "source": [
    "It looks as though there are some rows that have an empty string or a space in them.\n",
    "\n",
    "Since there's such a small number of rows, we'll just drop them."
   ]
  },
  {
   "cell_type": "code",
   "execution_count": 220,
   "metadata": {},
   "outputs": [],
   "source": [
    "df = df[~ (df.total_charges.str.strip() == '')]"
   ]
  },
  {
   "cell_type": "markdown",
   "metadata": {},
   "source": [
    "And go ahead and correct the data type of the column."
   ]
  },
  {
   "cell_type": "code",
   "execution_count": 221,
   "metadata": {},
   "outputs": [],
   "source": [
    "df.total_charges = df.total_charges.astype('float')"
   ]
  },
  {
   "cell_type": "markdown",
   "metadata": {},
   "source": [
    "Let's take a closer look at our numeric columns:"
   ]
  },
  {
   "cell_type": "code",
   "execution_count": 222,
   "metadata": {},
   "outputs": [
    {
     "name": "stdout",
     "output_type": "stream",
     "text": [
      "\n",
      "- senior_citizen\n",
      "(-0.002, 0.25]    5890\n",
      "(0.75, 1.0]       1142\n",
      "(0.5, 0.75]          0\n",
      "(0.25, 0.5]          0\n",
      "Name: senior_citizen, dtype: int64\n",
      "\n",
      "- tenure\n",
      "(0.928, 18.75]    2723\n",
      "(54.25, 72.0]     1819\n",
      "(18.75, 36.5]     1308\n",
      "(36.5, 54.25]     1182\n",
      "Name: tenure, dtype: int64\n",
      "\n",
      "- internet_service_type_id\n",
      "(1.5, 2.0]      3096\n",
      "(0.997, 1.5]    2416\n",
      "(2.5, 3.0]      1520\n",
      "(2.0, 2.5]         0\n",
      "Name: internet_service_type_id, dtype: int64\n",
      "\n",
      "- contract_type_id\n",
      "(0.997, 1.5]    3875\n",
      "(2.5, 3.0]      1685\n",
      "(1.5, 2.0]      1472\n",
      "(2.0, 2.5]         0\n",
      "Name: contract_type_id, dtype: int64\n",
      "\n",
      "- payment_type_id\n",
      "(0.996, 1.75]    2365\n",
      "(1.75, 2.5]      1604\n",
      "(2.5, 3.25]      1542\n",
      "(3.25, 4.0]      1521\n",
      "Name: payment_type_id, dtype: int64\n",
      "\n",
      "- monthly_charges\n",
      "(68.5, 93.625]                  2288\n",
      "(18.148999999999997, 43.375]    1893\n",
      "(93.625, 118.75]                1477\n",
      "(43.375, 68.5]                  1374\n",
      "Name: monthly_charges, dtype: int64\n",
      "\n",
      "- total_charges\n",
      "(10.133000000000001, 2185.3]    4305\n",
      "(2185.3, 4351.8]                1265\n",
      "(4351.8, 6518.3]                 970\n",
      "(6518.3, 8684.8]                 492\n",
      "Name: total_charges, dtype: int64\n"
     ]
    }
   ],
   "source": [
    "for col in df.select_dtypes('number'):\n",
    "    print(f'\\n- {col}')\n",
    "    print(df[col].value_counts(bins=4))"
   ]
  },
  {
   "cell_type": "markdown",
   "metadata": {},
   "source": [
    "It doesn't look like there's any outliers we need to handle here."
   ]
  },
  {
   "cell_type": "markdown",
   "metadata": {},
   "source": [
    "Let's see if there's any null values:"
   ]
  },
  {
   "cell_type": "code",
   "execution_count": 223,
   "metadata": {},
   "outputs": [
    {
     "data": {
      "text/plain": [
       "gender                      0\n",
       "senior_citizen              0\n",
       "partner                     0\n",
       "dependents                  0\n",
       "tenure                      0\n",
       "phone_service               0\n",
       "multiple_lines              0\n",
       "internet_service_type_id    0\n",
       "online_security             0\n",
       "online_backup               0\n",
       "device_protection           0\n",
       "tech_support                0\n",
       "streaming_tv                0\n",
       "streaming_movies            0\n",
       "contract_type_id            0\n",
       "paperless_billing           0\n",
       "payment_type_id             0\n",
       "monthly_charges             0\n",
       "total_charges               0\n",
       "churn                       0\n",
       "dtype: int64"
      ]
     },
     "execution_count": 223,
     "metadata": {},
     "output_type": "execute_result"
    }
   ],
   "source": [
    "df.isna().sum()"
   ]
  },
  {
   "cell_type": "markdown",
   "metadata": {},
   "source": [
    "Looks good!"
   ]
  },
  {
   "cell_type": "markdown",
   "metadata": {},
   "source": [
    "Lastly, let's encode churn so that we can treat it as a number."
   ]
  },
  {
   "cell_type": "code",
   "execution_count": 224,
   "metadata": {},
   "outputs": [],
   "source": [
    "df.churn = (df.churn.str.lower() == 'yes').astype('int')"
   ]
  },
  {
   "cell_type": "markdown",
   "metadata": {},
   "source": [
    "### Feature Engineering"
   ]
  },
  {
   "cell_type": "markdown",
   "metadata": {},
   "source": [
    "It looks like there is redundant information in the `phone_service` and `multiple_lines` columns. Let's combine them into a single feature."
   ]
  },
  {
   "cell_type": "code",
   "execution_count": 225,
   "metadata": {},
   "outputs": [
    {
     "data": {
      "text/html": [
       "<div>\n",
       "<style scoped>\n",
       "    .dataframe tbody tr th:only-of-type {\n",
       "        vertical-align: middle;\n",
       "    }\n",
       "\n",
       "    .dataframe tbody tr th {\n",
       "        vertical-align: top;\n",
       "    }\n",
       "\n",
       "    .dataframe thead th {\n",
       "        text-align: right;\n",
       "    }\n",
       "</style>\n",
       "<table border=\"1\" class=\"dataframe\">\n",
       "  <thead>\n",
       "    <tr style=\"text-align: right;\">\n",
       "      <th></th>\n",
       "      <th>phone_service</th>\n",
       "      <th>multiple_lines</th>\n",
       "    </tr>\n",
       "    <tr>\n",
       "      <th>customer_id</th>\n",
       "      <th></th>\n",
       "      <th></th>\n",
       "    </tr>\n",
       "  </thead>\n",
       "  <tbody>\n",
       "    <tr>\n",
       "      <th>0002-ORFBO</th>\n",
       "      <td>Yes</td>\n",
       "      <td>No</td>\n",
       "    </tr>\n",
       "    <tr>\n",
       "      <th>0003-MKNFE</th>\n",
       "      <td>Yes</td>\n",
       "      <td>Yes</td>\n",
       "    </tr>\n",
       "    <tr>\n",
       "      <th>0004-TLHLJ</th>\n",
       "      <td>Yes</td>\n",
       "      <td>No</td>\n",
       "    </tr>\n",
       "    <tr>\n",
       "      <th>0011-IGKFF</th>\n",
       "      <td>Yes</td>\n",
       "      <td>No</td>\n",
       "    </tr>\n",
       "    <tr>\n",
       "      <th>0013-EXCHZ</th>\n",
       "      <td>Yes</td>\n",
       "      <td>No</td>\n",
       "    </tr>\n",
       "  </tbody>\n",
       "</table>\n",
       "</div>"
      ],
      "text/plain": [
       "            phone_service multiple_lines\n",
       "customer_id                             \n",
       "0002-ORFBO            Yes             No\n",
       "0003-MKNFE            Yes            Yes\n",
       "0004-TLHLJ            Yes             No\n",
       "0011-IGKFF            Yes             No\n",
       "0013-EXCHZ            Yes             No"
      ]
     },
     "execution_count": 225,
     "metadata": {},
     "output_type": "execute_result"
    }
   ],
   "source": [
    "df[['phone_service', 'multiple_lines']].head()"
   ]
  },
  {
   "cell_type": "markdown",
   "metadata": {},
   "source": [
    "We'll use the following values for our transformation:\n",
    "\n",
    "- 0: no phone service\n",
    "- 1: phone service\n",
    "- 2: phone service and multiple lines\n",
    "\n",
    "First a quick sanity check; there shouldn't be any customers that have multiple lines but no phone service:"
   ]
  },
  {
   "cell_type": "code",
   "execution_count": 226,
   "metadata": {},
   "outputs": [
    {
     "data": {
      "text/html": [
       "<div>\n",
       "<style scoped>\n",
       "    .dataframe tbody tr th:only-of-type {\n",
       "        vertical-align: middle;\n",
       "    }\n",
       "\n",
       "    .dataframe tbody tr th {\n",
       "        vertical-align: top;\n",
       "    }\n",
       "\n",
       "    .dataframe thead th {\n",
       "        text-align: right;\n",
       "    }\n",
       "</style>\n",
       "<table border=\"1\" class=\"dataframe\">\n",
       "  <thead>\n",
       "    <tr style=\"text-align: right;\">\n",
       "      <th>multiple_lines</th>\n",
       "      <th>No</th>\n",
       "      <th>No phone service</th>\n",
       "      <th>Yes</th>\n",
       "    </tr>\n",
       "    <tr>\n",
       "      <th>phone_service</th>\n",
       "      <th></th>\n",
       "      <th></th>\n",
       "      <th></th>\n",
       "    </tr>\n",
       "  </thead>\n",
       "  <tbody>\n",
       "    <tr>\n",
       "      <th>No</th>\n",
       "      <td>0</td>\n",
       "      <td>680</td>\n",
       "      <td>0</td>\n",
       "    </tr>\n",
       "    <tr>\n",
       "      <th>Yes</th>\n",
       "      <td>3385</td>\n",
       "      <td>0</td>\n",
       "      <td>2967</td>\n",
       "    </tr>\n",
       "  </tbody>\n",
       "</table>\n",
       "</div>"
      ],
      "text/plain": [
       "multiple_lines    No  No phone service   Yes\n",
       "phone_service                               \n",
       "No                 0               680     0\n",
       "Yes             3385                 0  2967"
      ]
     },
     "execution_count": 226,
     "metadata": {},
     "output_type": "execute_result"
    }
   ],
   "source": [
    "pd.crosstab(df.phone_service, df.multiple_lines)"
   ]
  },
  {
   "cell_type": "markdown",
   "metadata": {},
   "source": [
    "Good! Let's apply the transformation and drop the old columns."
   ]
  },
  {
   "cell_type": "code",
   "execution_count": 227,
   "metadata": {},
   "outputs": [],
   "source": [
    "df['phone_id'] = (df.phone_service == 'Yes').astype('int') + (df.multiple_lines == 'Yes').astype('int')\n",
    "df.drop(['phone_service', 'multiple_lines'], axis=1, inplace=True)"
   ]
  },
  {
   "cell_type": "markdown",
   "metadata": {},
   "source": [
    "Let's see if we can combine the `partner` and `dependents` columns, it seems like there might be some redundant information there."
   ]
  },
  {
   "cell_type": "code",
   "execution_count": 228,
   "metadata": {},
   "outputs": [
    {
     "data": {
      "text/html": [
       "<div>\n",
       "<style scoped>\n",
       "    .dataframe tbody tr th:only-of-type {\n",
       "        vertical-align: middle;\n",
       "    }\n",
       "\n",
       "    .dataframe tbody tr th {\n",
       "        vertical-align: top;\n",
       "    }\n",
       "\n",
       "    .dataframe thead th {\n",
       "        text-align: right;\n",
       "    }\n",
       "</style>\n",
       "<table border=\"1\" class=\"dataframe\">\n",
       "  <thead>\n",
       "    <tr style=\"text-align: right;\">\n",
       "      <th>dependents</th>\n",
       "      <th>No</th>\n",
       "      <th>Yes</th>\n",
       "    </tr>\n",
       "    <tr>\n",
       "      <th>partner</th>\n",
       "      <th></th>\n",
       "      <th></th>\n",
       "    </tr>\n",
       "  </thead>\n",
       "  <tbody>\n",
       "    <tr>\n",
       "      <th>No</th>\n",
       "      <td>3280</td>\n",
       "      <td>359</td>\n",
       "    </tr>\n",
       "    <tr>\n",
       "      <th>Yes</th>\n",
       "      <td>1653</td>\n",
       "      <td>1740</td>\n",
       "    </tr>\n",
       "  </tbody>\n",
       "</table>\n",
       "</div>"
      ],
      "text/plain": [
       "dependents    No   Yes\n",
       "partner               \n",
       "No          3280   359\n",
       "Yes         1653  1740"
      ]
     },
     "execution_count": 228,
     "metadata": {},
     "output_type": "execute_result"
    }
   ],
   "source": [
    "pd.crosstab(df.partner, df.dependents)"
   ]
  },
  {
   "cell_type": "markdown",
   "metadata": {},
   "source": [
    "While technically we're losing a little bit of information, we'll follow a similar encoding pattern here. A high value indicates a partner and dependents, 0 indicates none. Specifically:\n",
    "\n",
    "- 0: no partner or dependents\n",
    "- 1: either a partner or dependents\n",
    "- 2: both a partner and dependents"
   ]
  },
  {
   "cell_type": "code",
   "execution_count": 229,
   "metadata": {},
   "outputs": [],
   "source": [
    "df['household_type'] = (df.partner == 'Yes').astype('int') + (df.dependents == 'Yes').astype('int')\n",
    "df.drop(['dependents', 'partner'], axis=1, inplace=True)"
   ]
  },
  {
   "cell_type": "markdown",
   "metadata": {},
   "source": [
    "We can do another similar transformation for both streaming services and online security and backups"
   ]
  },
  {
   "cell_type": "code",
   "execution_count": 230,
   "metadata": {},
   "outputs": [],
   "source": [
    "df['streaming_services'] = (df.streaming_tv == 'Yes').astype('int') + (df.streaming_movies == 'Yes').astype('int')\n",
    "df.drop(['streaming_tv', 'streaming_movies'], axis=1, inplace=True)\n",
    "\n",
    "df['cloud_services'] = (df.online_backup == 'Yes').astype('int') + (df.online_security == 'Yes').astype('int')\n",
    "df.drop(['online_backup', 'online_security'], axis=1, inplace=True)"
   ]
  },
  {
   "cell_type": "markdown",
   "metadata": {},
   "source": [
    "### Train Test Split"
   ]
  },
  {
   "cell_type": "code",
   "execution_count": 231,
   "metadata": {},
   "outputs": [],
   "source": [
    "train, test = train_test_split(df, train_size=.7, test_size=.3, random_state=42)"
   ]
  },
  {
   "cell_type": "markdown",
   "metadata": {},
   "source": [
    "We'll do some min-max scaling on `montly_charges` and `total_charges` so that they will play nicer with our logistic regression model later on."
   ]
  },
  {
   "cell_type": "code",
   "execution_count": 232,
   "metadata": {},
   "outputs": [],
   "source": [
    "cols = ['monthly_charges', 'total_charges']\n",
    "\n",
    "scaler = MinMaxScaler()\n",
    "scaler.fit(train[cols])\n",
    "\n",
    "train.loc[:, cols] = scaler.transform(train[cols])\n",
    "test.loc[:, cols] = scaler.transform(test[cols])"
   ]
  },
  {
   "cell_type": "markdown",
   "metadata": {},
   "source": [
    "## Exploration"
   ]
  },
  {
   "cell_type": "markdown",
   "metadata": {},
   "source": [
    "Does tenure influence the rate of churn?"
   ]
  },
  {
   "cell_type": "code",
   "execution_count": 233,
   "metadata": {},
   "outputs": [
    {
     "data": {
      "text/plain": [
       "Text(0.5, 0, 'Months w/ Company')"
      ]
     },
     "execution_count": 233,
     "metadata": {},
     "output_type": "execute_result"
    },
    {
     "data": {
      "image/png": "[encoded data removed]",
      "text/plain": [
       "<Figure size 432x288 with 1 Axes>"
      ]
     },
     "metadata": {},
     "output_type": "display_data"
    }
   ],
   "source": [
    "train[['tenure', 'churn']].groupby('tenure').mean().plot()\n",
    "plt.title('Customer Churn by number of years w/ company')\n",
    "plt.ylabel('Churn Rate')\n",
    "plt.xlabel('Months w/ Company')"
   ]
  },
  {
   "cell_type": "markdown",
   "metadata": {},
   "source": [
    "Seems like there's a trend there. Let's smooth out the data and look at tenure by years instead of by months."
   ]
  },
  {
   "cell_type": "code",
   "execution_count": 234,
   "metadata": {},
   "outputs": [
    {
     "data": {
      "text/plain": [
       "Text(0.5, 0, 'Years w/ Company')"
      ]
     },
     "execution_count": 234,
     "metadata": {},
     "output_type": "execute_result"
    },
    {
     "data": {
      "image/png": "[encoded data removed]",
      "text/plain": [
       "<Figure size 432x288 with 1 Axes>"
      ]
     },
     "metadata": {},
     "output_type": "display_data"
    }
   ],
   "source": [
    "train['tenure_years'] = (train.tenure / 12).astype(int)\n",
    "\n",
    "train[['tenure_years', 'churn']].groupby('tenure_years').mean().plot()\n",
    "plt.title('Customer Churn by number of years w/ company')\n",
    "plt.ylabel('Churn Rate')\n",
    "plt.xlabel('Years w/ Company')"
   ]
  },
  {
   "cell_type": "markdown",
   "metadata": {},
   "source": [
    "Is there any one feature that indicates whether or not the customer will churn?\n",
    "\n",
    "We can write some code that will give us the churn rate for every group, as well as performing a chi-squared test comparing the churn rate in each group."
   ]
  },
  {
   "cell_type": "code",
   "execution_count": 375,
   "metadata": {},
   "outputs": [
    {
     "data": {
      "text/plain": [
       "internet_service_type_id  device_protection    phone_id  churn\n",
       "1                         No                   0         0       0.190568\n",
       "                                                         1       0.158505\n",
       "                                               1         0       0.378731\n",
       "                                                         1       0.331446\n",
       "                                               2         0       0.458289\n",
       "                                                         1       0.396971\n",
       "                          Yes                  0         0       0.314186\n",
       "                                                         1       0.268864\n",
       "                                               1         0       0.496372\n",
       "                                                         1       0.418892\n",
       "                                               2         0       0.609595\n",
       "                                                         1       0.550284\n",
       "2                         No                   1         0       0.638353\n",
       "                                                         1       0.607887\n",
       "                                               2         0       0.719786\n",
       "                                                         1       0.692174\n",
       "                          Yes                  1         0       0.746988\n",
       "                                                         1       0.709447\n",
       "                                               2         0       0.843786\n",
       "                                                         1       0.815765\n",
       "3                         No internet service  1         0       0.017074\n",
       "                                                         1       0.016418\n",
       "                                               2         0       0.066406\n",
       "                                                         1       0.064117\n",
       "Name: monthly_charges, dtype: float64"
      ]
     },
     "execution_count": 375,
     "metadata": {},
     "output_type": "execute_result"
    }
   ],
   "source": [
    "train.head()\n",
    "train.groupby(['internet_service_type_id', 'device_protection','phone_id', 'churn'])\n",
    "                ['monthly_charges'].mean()"
   ]
  },
  {
   "cell_type": "code",
   "execution_count": 355,
   "metadata": {},
   "outputs": [],
   "source": [
    "categorical_cols = train.drop(['churn', 'tenure', 'tenure_years', 'monthly_charges', 'total_charges'], axis=1).columns"
   ]
  },
  {
   "cell_type": "code",
   "execution_count": 376,
   "metadata": {},
   "outputs": [],
   "source": [
    "from scipy.stats import chisquare, chi2_contingency\n",
    "\n",
    "def chi2(df, categorical_columns):\n",
    "    p_val = []\n",
    "    for i, col in enumerate(categorical_cols):\n",
    "        col_churn = pd.crosstab(df[col], df['churn'], margins=False).reset_index()\n",
    "        col_churn.columns = [col, 'no_churn', 'yes_churn']\n",
    "        chi2, p, dof, expected = chi2_contingency(col_churn.drop(columns=[col]))\n",
    "        p_val.append(p)\n",
    "    all_cats = pd.DataFrame({'Category': categorical_cols, 'P_Value': p_val})\n",
    "    return all_cats"
   ]
  },
  {
   "cell_type": "code",
   "execution_count": 377,
   "metadata": {},
   "outputs": [
    {
     "data": {
      "text/html": [
       "<div>\n",
       "<style scoped>\n",
       "    .dataframe tbody tr th:only-of-type {\n",
       "        vertical-align: middle;\n",
       "    }\n",
       "\n",
       "    .dataframe tbody tr th {\n",
       "        vertical-align: top;\n",
       "    }\n",
       "\n",
       "    .dataframe thead th {\n",
       "        text-align: right;\n",
       "    }\n",
       "</style>\n",
       "<table border=\"1\" class=\"dataframe\">\n",
       "  <thead>\n",
       "    <tr style=\"text-align: right;\">\n",
       "      <th></th>\n",
       "      <th>Category</th>\n",
       "      <th>P_Value</th>\n",
       "    </tr>\n",
       "  </thead>\n",
       "  <tbody>\n",
       "    <tr>\n",
       "      <th>0</th>\n",
       "      <td>gender</td>\n",
       "      <td>0.508050</td>\n",
       "    </tr>\n",
       "  </tbody>\n",
       "</table>\n",
       "</div>"
      ],
      "text/plain": [
       "  Category  P_Value\n",
       "0   gender 0.508050"
      ]
     },
     "execution_count": 377,
     "metadata": {},
     "output_type": "execute_result"
    }
   ],
   "source": [
    "all_cats = chi2(train, categorical_cols) \n",
    "all_cats[all_cats['P_Value']>.05]"
   ]
  },
  {
   "cell_type": "code",
   "execution_count": 378,
   "metadata": {},
   "outputs": [
    {
     "data": {
      "text/html": [
       "<div>\n",
       "<style scoped>\n",
       "    .dataframe tbody tr th:only-of-type {\n",
       "        vertical-align: middle;\n",
       "    }\n",
       "\n",
       "    .dataframe tbody tr th {\n",
       "        vertical-align: top;\n",
       "    }\n",
       "\n",
       "    .dataframe thead th {\n",
       "        text-align: right;\n",
       "    }\n",
       "</style>\n",
       "<table border=\"1\" class=\"dataframe\">\n",
       "  <thead>\n",
       "    <tr style=\"text-align: right;\">\n",
       "      <th></th>\n",
       "      <th>Category</th>\n",
       "      <th>P_Value</th>\n",
       "    </tr>\n",
       "  </thead>\n",
       "  <tbody>\n",
       "    <tr>\n",
       "      <th>1</th>\n",
       "      <td>senior_citizen</td>\n",
       "      <td>0.000000</td>\n",
       "    </tr>\n",
       "    <tr>\n",
       "      <th>2</th>\n",
       "      <td>internet_service_type_id</td>\n",
       "      <td>0.000000</td>\n",
       "    </tr>\n",
       "    <tr>\n",
       "      <th>3</th>\n",
       "      <td>device_protection</td>\n",
       "      <td>0.000000</td>\n",
       "    </tr>\n",
       "    <tr>\n",
       "      <th>4</th>\n",
       "      <td>tech_support</td>\n",
       "      <td>0.000000</td>\n",
       "    </tr>\n",
       "    <tr>\n",
       "      <th>5</th>\n",
       "      <td>contract_type_id</td>\n",
       "      <td>0.000000</td>\n",
       "    </tr>\n",
       "    <tr>\n",
       "      <th>6</th>\n",
       "      <td>paperless_billing</td>\n",
       "      <td>0.000000</td>\n",
       "    </tr>\n",
       "    <tr>\n",
       "      <th>7</th>\n",
       "      <td>payment_type_id</td>\n",
       "      <td>0.000000</td>\n",
       "    </tr>\n",
       "    <tr>\n",
       "      <th>8</th>\n",
       "      <td>phone_id</td>\n",
       "      <td>0.006650</td>\n",
       "    </tr>\n",
       "    <tr>\n",
       "      <th>9</th>\n",
       "      <td>household_type</td>\n",
       "      <td>0.000000</td>\n",
       "    </tr>\n",
       "    <tr>\n",
       "      <th>10</th>\n",
       "      <td>streaming_services</td>\n",
       "      <td>0.000000</td>\n",
       "    </tr>\n",
       "    <tr>\n",
       "      <th>11</th>\n",
       "      <td>cloud_services</td>\n",
       "      <td>0.000000</td>\n",
       "    </tr>\n",
       "  </tbody>\n",
       "</table>\n",
       "</div>"
      ],
      "text/plain": [
       "                    Category  P_Value\n",
       "1             senior_citizen 0.000000\n",
       "2   internet_service_type_id 0.000000\n",
       "3          device_protection 0.000000\n",
       "4               tech_support 0.000000\n",
       "5           contract_type_id 0.000000\n",
       "6          paperless_billing 0.000000\n",
       "7            payment_type_id 0.000000\n",
       "8                   phone_id 0.006650\n",
       "9             household_type 0.000000\n",
       "10        streaming_services 0.000000\n",
       "11            cloud_services 0.000000"
      ]
     },
     "execution_count": 378,
     "metadata": {},
     "output_type": "execute_result"
    }
   ],
   "source": [
    "all_cats[all_cats['P_Value']<=.05]"
   ]
  },
  {
   "cell_type": "code",
   "execution_count": 380,
   "metadata": {},
   "outputs": [
    {
     "data": {
      "text/html": [
       "<div>\n",
       "<style scoped>\n",
       "    .dataframe tbody tr th:only-of-type {\n",
       "        vertical-align: middle;\n",
       "    }\n",
       "\n",
       "    .dataframe tbody tr th {\n",
       "        vertical-align: top;\n",
       "    }\n",
       "\n",
       "    .dataframe thead th {\n",
       "        text-align: right;\n",
       "    }\n",
       "</style>\n",
       "<table border=\"1\" class=\"dataframe\">\n",
       "  <thead>\n",
       "    <tr style=\"text-align: right;\">\n",
       "      <th></th>\n",
       "      <th>tech_support</th>\n",
       "      <th>no_churn</th>\n",
       "      <th>yes_churn</th>\n",
       "    </tr>\n",
       "  </thead>\n",
       "  <tbody>\n",
       "    <tr>\n",
       "      <th>0</th>\n",
       "      <td>No</td>\n",
       "      <td>1399</td>\n",
       "      <td>1011</td>\n",
       "    </tr>\n",
       "    <tr>\n",
       "      <th>1</th>\n",
       "      <td>No internet service</td>\n",
       "      <td>984</td>\n",
       "      <td>79</td>\n",
       "    </tr>\n",
       "    <tr>\n",
       "      <th>2</th>\n",
       "      <td>Yes</td>\n",
       "      <td>1226</td>\n",
       "      <td>223</td>\n",
       "    </tr>\n",
       "  </tbody>\n",
       "</table>\n",
       "</div>"
      ],
      "text/plain": [
       "          tech_support  no_churn  yes_churn\n",
       "0                   No      1399       1011\n",
       "1  No internet service       984         79\n",
       "2                  Yes      1226        223"
      ]
     },
     "execution_count": 380,
     "metadata": {},
     "output_type": "execute_result"
    }
   ],
   "source": [
    "col = 'tech_support'\n",
    "col_churn = pd.crosstab(train[col],train['churn'], margins=False).reset_index()\n",
    "col_churn.columns = [col, 'no_churn', 'yes_churn']\n",
    "col_churn\n"
   ]
  },
  {
   "cell_type": "code",
   "execution_count": 381,
   "metadata": {},
   "outputs": [
    {
     "name": "stdout",
     "output_type": "stream",
     "text": [
      "Probability that the difference in churn proportion \n",
      "for all customers with vs. without tech support \n",
      "is due to chance: 0.000000 \n"
     ]
    },
    {
     "data": {
      "text/plain": [
       "583.0753923461807"
      ]
     },
     "execution_count": 381,
     "metadata": {},
     "output_type": "execute_result"
    }
   ],
   "source": [
    "chi2, p, dof, expected = chi2_contingency(col_churn.drop(columns=[col]))\n",
    "print(\"Probability that the difference in churn proportion \\nfor all customers with vs. without tech support \\nis due to chance: %f \" %p)\n",
    "chi2"
   ]
  },
  {
   "cell_type": "code",
   "execution_count": 363,
   "metadata": {},
   "outputs": [
    {
     "data": {
      "text/html": [
       "<div>\n",
       "<style scoped>\n",
       "    .dataframe tbody tr th:only-of-type {\n",
       "        vertical-align: middle;\n",
       "    }\n",
       "\n",
       "    .dataframe tbody tr th {\n",
       "        vertical-align: top;\n",
       "    }\n",
       "\n",
       "    .dataframe thead th {\n",
       "        text-align: right;\n",
       "    }\n",
       "</style>\n",
       "<table border=\"1\" class=\"dataframe\">\n",
       "  <thead>\n",
       "    <tr style=\"text-align: right;\">\n",
       "      <th></th>\n",
       "      <th>tech_support</th>\n",
       "      <th>no_churn</th>\n",
       "      <th>yes_churn</th>\n",
       "    </tr>\n",
       "  </thead>\n",
       "  <tbody>\n",
       "    <tr>\n",
       "      <th>0</th>\n",
       "      <td>No</td>\n",
       "      <td>779</td>\n",
       "      <td>763</td>\n",
       "    </tr>\n",
       "    <tr>\n",
       "      <th>1</th>\n",
       "      <td>Yes</td>\n",
       "      <td>473</td>\n",
       "      <td>144</td>\n",
       "    </tr>\n",
       "  </tbody>\n",
       "</table>\n",
       "</div>"
      ],
      "text/plain": [
       "  tech_support  no_churn  yes_churn\n",
       "0           No       779        763\n",
       "1          Yes       473        144"
      ]
     },
     "execution_count": 363,
     "metadata": {},
     "output_type": "execute_result"
    }
   ],
   "source": [
    "col = 'tech_support'\n",
    "fiber = train[train['internet_service_type_id']==2]\n",
    "col_churn = pd.crosstab(fiber[col],fiber['churn'], margins=False).reset_index()\n",
    "col_churn.columns = [col, 'no_churn', 'yes_churn']\n",
    "col_churn"
   ]
  },
  {
   "cell_type": "code",
   "execution_count": 364,
   "metadata": {},
   "outputs": [
    {
     "name": "stdout",
     "output_type": "stream",
     "text": [
      "Probability that the difference in churn proportion \n",
      "for fiber customers with vs. without tech support \n",
      "is due to chance: 0.000000 \n"
     ]
    }
   ],
   "source": [
    "chi2, p, dof, expected = chi2_contingency(col_churn.drop(columns=[col]))\n",
    "print(\"Probability that the difference in churn proportion \\nfor fiber customers with vs. without tech support \\nis due to chance: %f \" %p)"
   ]
  },
  {
   "cell_type": "code",
   "execution_count": 365,
   "metadata": {},
   "outputs": [
    {
     "data": {
      "text/html": [
       "<div>\n",
       "<style scoped>\n",
       "    .dataframe tbody tr th:only-of-type {\n",
       "        vertical-align: middle;\n",
       "    }\n",
       "\n",
       "    .dataframe tbody tr th {\n",
       "        vertical-align: top;\n",
       "    }\n",
       "\n",
       "    .dataframe thead th {\n",
       "        text-align: right;\n",
       "    }\n",
       "</style>\n",
       "<table border=\"1\" class=\"dataframe\">\n",
       "  <thead>\n",
       "    <tr style=\"text-align: right;\">\n",
       "      <th></th>\n",
       "      <th>tech_support</th>\n",
       "      <th>no_churn</th>\n",
       "      <th>yes_churn</th>\n",
       "    </tr>\n",
       "  </thead>\n",
       "  <tbody>\n",
       "    <tr>\n",
       "      <th>0</th>\n",
       "      <td>No</td>\n",
       "      <td>201</td>\n",
       "      <td>252</td>\n",
       "    </tr>\n",
       "    <tr>\n",
       "      <th>1</th>\n",
       "      <td>Yes</td>\n",
       "      <td>97</td>\n",
       "      <td>31</td>\n",
       "    </tr>\n",
       "  </tbody>\n",
       "</table>\n",
       "</div>"
      ],
      "text/plain": [
       "  tech_support  no_churn  yes_churn\n",
       "0           No       201        252\n",
       "1          Yes        97         31"
      ]
     },
     "execution_count": 365,
     "metadata": {},
     "output_type": "execute_result"
    }
   ],
   "source": [
    "col = 'tech_support'\n",
    "fiber_senior = train[(train['internet_service_type_id'] == 2) &\n",
    "            (train['senior_citizen'] == 1)]\n",
    "col_churn = pd.crosstab(fiber_senior[col],fiber_senior['churn'], margins=False).reset_index()\n",
    "col_churn.columns = [col, 'no_churn', 'yes_churn']\n",
    "col_churn"
   ]
  },
  {
   "cell_type": "code",
   "execution_count": 366,
   "metadata": {},
   "outputs": [
    {
     "name": "stdout",
     "output_type": "stream",
     "text": [
      "Probability that the difference in churn proportion for \n",
      "senior citizen fiber customers for those with vs. without \n",
      "tech support is due to chance: 0.000000 \n"
     ]
    }
   ],
   "source": [
    "chi2, p, dof, expected = chi2_contingency(col_churn.drop(columns=[col]))\n",
    "print(\"Probability that the difference in churn proportion for \\nsenior citizen fiber customers for those with vs. without \\ntech support is due to chance: %f \" %p)"
   ]
  },
  {
   "cell_type": "code",
   "execution_count": 367,
   "metadata": {},
   "outputs": [
    {
     "data": {
      "text/html": [
       "<div>\n",
       "<style scoped>\n",
       "    .dataframe tbody tr th:only-of-type {\n",
       "        vertical-align: middle;\n",
       "    }\n",
       "\n",
       "    .dataframe tbody tr th {\n",
       "        vertical-align: top;\n",
       "    }\n",
       "\n",
       "    .dataframe thead th {\n",
       "        text-align: right;\n",
       "    }\n",
       "</style>\n",
       "<table border=\"1\" class=\"dataframe\">\n",
       "  <thead>\n",
       "    <tr style=\"text-align: right;\">\n",
       "      <th></th>\n",
       "      <th>tech_support</th>\n",
       "      <th>no_churn</th>\n",
       "      <th>yes_churn</th>\n",
       "    </tr>\n",
       "  </thead>\n",
       "  <tbody>\n",
       "    <tr>\n",
       "      <th>0</th>\n",
       "      <td>No</td>\n",
       "      <td>153</td>\n",
       "      <td>244</td>\n",
       "    </tr>\n",
       "    <tr>\n",
       "      <th>1</th>\n",
       "      <td>Yes</td>\n",
       "      <td>27</td>\n",
       "      <td>21</td>\n",
       "    </tr>\n",
       "  </tbody>\n",
       "</table>\n",
       "</div>"
      ],
      "text/plain": [
       "  tech_support  no_churn  yes_churn\n",
       "0           No       153        244\n",
       "1          Yes        27         21"
      ]
     },
     "execution_count": 367,
     "metadata": {},
     "output_type": "execute_result"
    }
   ],
   "source": [
    "col = 'tech_support'\n",
    "fiber_sr_m2m = train[(train['internet_service_type_id'] == 2) &\n",
    "                     (train['senior_citizen'] == 1) &\n",
    "                     (train['contract_type_id'] == 1)]\n",
    "col_churn = pd.crosstab(fiber_sr_m2m[col],fiber_sr_m2m['churn'], margins=False).reset_index()\n",
    "col_churn.columns = [col, 'no_churn', 'yes_churn']\n",
    "col_churn"
   ]
  },
  {
   "cell_type": "code",
   "execution_count": 368,
   "metadata": {},
   "outputs": [
    {
     "name": "stdout",
     "output_type": "stream",
     "text": [
      "Probability that the difference in churn proportion for \n",
      "senior citizen fiber customers on a m2m contract \n",
      "for those with vs. without tech support is due to chance: 0.027400 \n"
     ]
    }
   ],
   "source": [
    "chi2, p, dof, expected = chi2_contingency(col_churn.drop(columns=[col]))\n",
    "print(\"Probability that the difference in churn proportion for \\nsenior citizen fiber customers on a m2m contract \\nfor those with vs. without tech support is due to chance: %f \" %p)"
   ]
  },
  {
   "cell_type": "code",
   "execution_count": 369,
   "metadata": {},
   "outputs": [
    {
     "data": {
      "text/html": [
       "<div>\n",
       "<style scoped>\n",
       "    .dataframe tbody tr th:only-of-type {\n",
       "        vertical-align: middle;\n",
       "    }\n",
       "\n",
       "    .dataframe tbody tr th {\n",
       "        vertical-align: top;\n",
       "    }\n",
       "\n",
       "    .dataframe thead th {\n",
       "        text-align: right;\n",
       "    }\n",
       "</style>\n",
       "<table border=\"1\" class=\"dataframe\">\n",
       "  <thead>\n",
       "    <tr style=\"text-align: right;\">\n",
       "      <th></th>\n",
       "      <th>tech_support</th>\n",
       "      <th>no_churn</th>\n",
       "      <th>yes_churn</th>\n",
       "    </tr>\n",
       "  </thead>\n",
       "  <tbody>\n",
       "    <tr>\n",
       "      <th>0</th>\n",
       "      <td>No</td>\n",
       "      <td>526</td>\n",
       "      <td>715</td>\n",
       "    </tr>\n",
       "    <tr>\n",
       "      <th>1</th>\n",
       "      <td>Yes</td>\n",
       "      <td>146</td>\n",
       "      <td>97</td>\n",
       "    </tr>\n",
       "  </tbody>\n",
       "</table>\n",
       "</div>"
      ],
      "text/plain": [
       "  tech_support  no_churn  yes_churn\n",
       "0           No       526        715\n",
       "1          Yes       146         97"
      ]
     },
     "execution_count": 369,
     "metadata": {},
     "output_type": "execute_result"
    }
   ],
   "source": [
    "col = 'tech_support'\n",
    "fiber_m2m = train[(train['internet_service_type_id'] == 2) &\n",
    "                  (train['contract_type_id'] == 1)]\n",
    "col_churn = pd.crosstab(fiber_m2m[col],fiber_m2m['churn'], margins=False).reset_index()\n",
    "col_churn.columns = [col, 'no_churn', 'yes_churn']\n",
    "col_churn"
   ]
  },
  {
   "cell_type": "code",
   "execution_count": 371,
   "metadata": {},
   "outputs": [
    {
     "name": "stdout",
     "output_type": "stream",
     "text": [
      "Probability that the difference in churn proportion for \n",
      "fiber customers on a m2m contract \n",
      "for those with vs. without tech support is due to chance: 0.000001 \n"
     ]
    }
   ],
   "source": [
    "chi2, p, dof, expected = chi2_contingency(col_churn.drop(columns=[col]))\n",
    "print(\"Probability that the difference in churn proportion for \\nfiber customers on a m2m contract \\nfor those with vs. without tech support is due to chance: %f \" %p)"
   ]
  },
  {
   "cell_type": "code",
   "execution_count": 78,
   "metadata": {},
   "outputs": [
    {
     "data": {
      "text/plain": [
       "Ttest_indResult(statistic=-3.6742346141747673, pvalue=0.021311641128756727)"
      ]
     },
     "execution_count": 78,
     "metadata": {},
     "output_type": "execute_result"
    }
   ],
   "source": [
    "import scipy as sp \n",
    "import numpy as np\n",
    "\n",
    "churn = [1,2,3]\n",
    "not_churn = [4,5,6]\n",
    "sp.stats.ttest_ind(\n",
    "    stage_right,\n",
    "    stage_left)"
   ]
  },
  {
   "cell_type": "markdown",
   "metadata": {},
   "source": [
    "Is there a price threshold where churn increases past a certain point?"
   ]
  }
 ],
 "metadata": {
  "kernelspec": {
   "display_name": "Python 3",
   "language": "python",
   "name": "python3"
  },
  "language_info": {
   "codemirror_mode": {
    "name": "ipython",
    "version": 3
   },
   "file_extension": ".py",
   "mimetype": "text/x-python",
   "name": "python",
   "nbconvert_exporter": "python",
   "pygments_lexer": "ipython3",
   "version": "3.6.8"
  }
 },
 "nbformat": 4,
 "nbformat_minor": 2
}
