{
 "cells": [
  {
   "cell_type": "code",
   "execution_count": 33,
   "metadata": {},
   "outputs": [],
   "source": [
    "from warnings import filterwarnings\n",
    "filterwarnings('ignore')\n",
    "%matplotlib inline\n",
    "from matplotlib import pyplot as plt\n",
    "import pydataset\n",
    "import pandas as pd\n",
    "\n",
    "from sklearn.model_selection import train_test_split\n",
    "from sklearn.neighbors import KNeighborsClassifier\n",
    "from sklearn.linear_model import LogisticRegression\n",
    "from sklearn.tree import DecisionTreeClassifier\n",
    "from sklearn.metrics import classification_report, accuracy_score"
   ]
  },
  {
   "cell_type": "code",
   "execution_count": 5,
   "metadata": {},
   "outputs": [],
   "source": [
    "swiss = pydataset.data('swiss')"
   ]
  },
  {
   "cell_type": "code",
   "execution_count": 6,
   "metadata": {},
   "outputs": [
    {
     "data": {
      "text/plain": [
       "<matplotlib.axes._subplots.AxesSubplot at 0x1a234dfc18>"
      ]
     },
     "execution_count": 6,
     "metadata": {},
     "output_type": "execute_result"
    },
    {
     "data": {
      "image/png": "[encoded data removed]",
      "text/plain": [
       "<Figure size 432x288 with 1 Axes>"
      ]
     },
     "metadata": {
      "needs_background": "light"
     },
     "output_type": "display_data"
    }
   ],
   "source": [
    "swiss.Catholic.plot.hist()"
   ]
  },
  {
   "cell_type": "code",
   "execution_count": 8,
   "metadata": {},
   "outputs": [],
   "source": [
    "swiss['is_catholic'] = swiss.Catholic.apply(lambda c: 'Catholic' if c > 70 else 'Not Catholic')"
   ]
  },
  {
   "cell_type": "code",
   "execution_count": 13,
   "metadata": {},
   "outputs": [],
   "source": [
    "swiss.drop('Catholic', axis=1, inplace=True)"
   ]
  },
  {
   "cell_type": "code",
   "execution_count": 60,
   "metadata": {},
   "outputs": [
    {
     "data": {
      "text/html": [
       "<div>\n",
       "<style scoped>\n",
       "    .dataframe tbody tr th:only-of-type {\n",
       "        vertical-align: middle;\n",
       "    }\n",
       "\n",
       "    .dataframe tbody tr th {\n",
       "        vertical-align: top;\n",
       "    }\n",
       "\n",
       "    .dataframe thead th {\n",
       "        text-align: right;\n",
       "    }\n",
       "</style>\n",
       "<table border=\"1\" class=\"dataframe\">\n",
       "  <thead>\n",
       "    <tr style=\"text-align: right;\">\n",
       "      <th></th>\n",
       "      <th>Fertility</th>\n",
       "      <th>Agriculture</th>\n",
       "      <th>Examination</th>\n",
       "      <th>Education</th>\n",
       "      <th>Infant.Mortality</th>\n",
       "      <th>is_catholic</th>\n",
       "    </tr>\n",
       "  </thead>\n",
       "  <tbody>\n",
       "    <tr>\n",
       "      <th>Courtelary</th>\n",
       "      <td>80.2</td>\n",
       "      <td>17.0</td>\n",
       "      <td>15</td>\n",
       "      <td>12</td>\n",
       "      <td>22.2</td>\n",
       "      <td>Not Catholic</td>\n",
       "    </tr>\n",
       "    <tr>\n",
       "      <th>Delemont</th>\n",
       "      <td>83.1</td>\n",
       "      <td>45.1</td>\n",
       "      <td>6</td>\n",
       "      <td>9</td>\n",
       "      <td>22.2</td>\n",
       "      <td>Catholic</td>\n",
       "    </tr>\n",
       "    <tr>\n",
       "      <th>Franches-Mnt</th>\n",
       "      <td>92.5</td>\n",
       "      <td>39.7</td>\n",
       "      <td>5</td>\n",
       "      <td>5</td>\n",
       "      <td>20.2</td>\n",
       "      <td>Catholic</td>\n",
       "    </tr>\n",
       "    <tr>\n",
       "      <th>Moutier</th>\n",
       "      <td>85.8</td>\n",
       "      <td>36.5</td>\n",
       "      <td>12</td>\n",
       "      <td>7</td>\n",
       "      <td>20.3</td>\n",
       "      <td>Not Catholic</td>\n",
       "    </tr>\n",
       "    <tr>\n",
       "      <th>Neuveville</th>\n",
       "      <td>76.9</td>\n",
       "      <td>43.5</td>\n",
       "      <td>17</td>\n",
       "      <td>15</td>\n",
       "      <td>20.6</td>\n",
       "      <td>Not Catholic</td>\n",
       "    </tr>\n",
       "  </tbody>\n",
       "</table>\n",
       "</div>"
      ],
      "text/plain": [
       "              Fertility  Agriculture  Examination  Education  \\\n",
       "Courtelary         80.2         17.0           15         12   \n",
       "Delemont           83.1         45.1            6          9   \n",
       "Franches-Mnt       92.5         39.7            5          5   \n",
       "Moutier            85.8         36.5           12          7   \n",
       "Neuveville         76.9         43.5           17         15   \n",
       "\n",
       "              Infant.Mortality   is_catholic  \n",
       "Courtelary                22.2  Not Catholic  \n",
       "Delemont                  22.2      Catholic  \n",
       "Franches-Mnt              20.2      Catholic  \n",
       "Moutier                   20.3  Not Catholic  \n",
       "Neuveville                20.6  Not Catholic  "
      ]
     },
     "execution_count": 60,
     "metadata": {},
     "output_type": "execute_result"
    }
   ],
   "source": [
    "swiss.head()"
   ]
  },
  {
   "cell_type": "code",
   "execution_count": 70,
   "metadata": {},
   "outputs": [
    {
     "data": {
      "text/plain": [
       "((35, 5), (12, 5), (35,), (12,))"
      ]
     },
     "execution_count": 70,
     "metadata": {},
     "output_type": "execute_result"
    }
   ],
   "source": [
    "X = swiss.drop('is_catholic', axis=1)\n",
    "y = swiss.is_catholic\n",
    "\n",
    "X_train, X_test, y_train, y_test = train_test_split(\n",
    "    X, y, random_state=666, stratify=y)\n",
    "X_train.shape, X_test.shape, y_train.shape, y_test.shape"
   ]
  },
  {
   "cell_type": "code",
   "execution_count": 71,
   "metadata": {},
   "outputs": [
    {
     "data": {
      "text/plain": [
       "Not Catholic    23\n",
       "Catholic        12\n",
       "Name: is_catholic, dtype: int64"
      ]
     },
     "execution_count": 71,
     "metadata": {},
     "output_type": "execute_result"
    }
   ],
   "source": [
    "y_train.value_counts()"
   ]
  },
  {
   "cell_type": "code",
   "execution_count": 72,
   "metadata": {},
   "outputs": [
    {
     "data": {
      "text/plain": [
       "Not Catholic    8\n",
       "Catholic        4\n",
       "Name: is_catholic, dtype: int64"
      ]
     },
     "execution_count": 72,
     "metadata": {},
     "output_type": "execute_result"
    }
   ],
   "source": [
    "y_test.value_counts()"
   ]
  },
  {
   "cell_type": "code",
   "execution_count": 28,
   "metadata": {},
   "outputs": [],
   "source": [
    "results = pd.DataFrame(dict(actual=y_train))"
   ]
  },
  {
   "cell_type": "markdown",
   "metadata": {},
   "source": [
    "## Logistic Regression"
   ]
  },
  {
   "cell_type": "code",
   "execution_count": 59,
   "metadata": {},
   "outputs": [
    {
     "name": "stdout",
     "output_type": "stream",
     "text": [
      "coefficients {'Agriculture': -0.0542428057647482, 'Examination': 0.2976948854599162} \n",
      "\n",
      "accuracy 0.86\n",
      "              precision    recall  f1-score   support\n",
      "\n",
      "    Catholic       0.89      0.67      0.76        12\n",
      "Not Catholic       0.85      0.96      0.90        23\n",
      "\n",
      "   micro avg       0.86      0.86      0.86        35\n",
      "   macro avg       0.87      0.81      0.83        35\n",
      "weighted avg       0.86      0.86      0.85        35\n",
      "\n"
     ]
    }
   ],
   "source": [
    "training_dataset = X_train[['Agriculture', 'Examination']]\n",
    "\n",
    "logit = LogisticRegression().fit(training_dataset, y_train)\n",
    "\n",
    "results['logistic_regression'] = logit.predict(training_dataset)\n",
    "\n",
    "print('coefficients', dict(zip(training_dataset.columns, logit.coef_[0])), '\\n')\n",
    "\n",
    "print('accuracy %.2f' % accuracy_score(results.actual, results.logistic_regression))\n",
    "\n",
    "print(classification_report(results.actual, results.logistic_regression))"
   ]
  },
  {
   "cell_type": "markdown",
   "metadata": {},
   "source": [
    "## Decision Tree"
   ]
  },
  {
   "cell_type": "code",
   "execution_count": 64,
   "metadata": {},
   "outputs": [
    {
     "name": "stdout",
     "output_type": "stream",
     "text": [
      "0.9142857142857143\n",
      "              precision    recall  f1-score   support\n",
      "\n",
      "    Catholic       1.00      0.75      0.86        12\n",
      "Not Catholic       0.88      1.00      0.94        23\n",
      "\n",
      "   micro avg       0.91      0.91      0.91        35\n",
      "   macro avg       0.94      0.88      0.90        35\n",
      "weighted avg       0.92      0.91      0.91        35\n",
      "\n"
     ]
    }
   ],
   "source": [
    "training_dataset = X_train[['Education', 'Fertility']]\n",
    "\n",
    "dtree = DecisionTreeClassifier(max_depth=2).fit(training_dataset, y_train)\n",
    "\n",
    "results['decision_tree'] = dtree.predict(training_dataset)\n",
    "\n",
    "print(accuracy_score(results.actual, results.decision_tree))\n",
    "print(classification_report(results.actual, results.decision_tree))"
   ]
  },
  {
   "cell_type": "markdown",
   "metadata": {},
   "source": [
    "## K Nearest Neighbors"
   ]
  },
  {
   "cell_type": "code",
   "execution_count": 65,
   "metadata": {},
   "outputs": [
    {
     "name": "stdout",
     "output_type": "stream",
     "text": [
      "0.8571428571428571\n",
      "              precision    recall  f1-score   support\n",
      "\n",
      "    Catholic       0.89      0.67      0.76        12\n",
      "Not Catholic       0.85      0.96      0.90        23\n",
      "\n",
      "   micro avg       0.86      0.86      0.86        35\n",
      "   macro avg       0.87      0.81      0.83        35\n",
      "weighted avg       0.86      0.86      0.85        35\n",
      "\n"
     ]
    }
   ],
   "source": [
    "training_dataset = X_train[['Infant.Mortality', 'Agriculture']]\n",
    "\n",
    "knn = KNeighborsClassifier(n_neighbors=3).fit(training_dataset, y_train)\n",
    "\n",
    "results['knn'] = knn.predict(training_dataset)\n",
    "\n",
    "print(accuracy_score(results.actual, results.knn))\n",
    "print(classification_report(results.actual, results.knn))"
   ]
  },
  {
   "cell_type": "markdown",
   "metadata": {},
   "source": [
    "## Evaluation"
   ]
  },
  {
   "cell_type": "code",
   "execution_count": 66,
   "metadata": {},
   "outputs": [
    {
     "name": "stdout",
     "output_type": "stream",
     "text": [
      "0.75\n",
      "              precision    recall  f1-score   support\n",
      "\n",
      "    Catholic       0.57      1.00      0.73         4\n",
      "Not Catholic       1.00      0.62      0.77         8\n",
      "\n",
      "   micro avg       0.75      0.75      0.75        12\n",
      "   macro avg       0.79      0.81      0.75        12\n",
      "weighted avg       0.86      0.75      0.76        12\n",
      "\n"
     ]
    }
   ],
   "source": [
    "actual = y_test\n",
    "yhat = dtree.predict(X_test[['Education', 'Fertility']])\n",
    "\n",
    "print(accuracy_score(actual, yhat))\n",
    "print(classification_report(actual, yhat))"
   ]
  },
  {
   "cell_type": "code",
   "execution_count": 67,
   "metadata": {},
   "outputs": [
    {
     "data": {
      "text/plain": [
       "Not Catholic    23\n",
       "Catholic        12\n",
       "Name: is_catholic, dtype: int64"
      ]
     },
     "execution_count": 67,
     "metadata": {},
     "output_type": "execute_result"
    }
   ],
   "source": [
    "y_train.value_counts()"
   ]
  },
  {
   "cell_type": "code",
   "execution_count": 68,
   "metadata": {},
   "outputs": [
    {
     "data": {
      "text/plain": [
       "Not Catholic    8\n",
       "Catholic        4\n",
       "Name: is_catholic, dtype: int64"
      ]
     },
     "execution_count": 68,
     "metadata": {},
     "output_type": "execute_result"
    }
   ],
   "source": [
    "y_test.value_counts()"
   ]
  },
  {
   "cell_type": "code",
   "execution_count": 69,
   "metadata": {},
   "outputs": [
    {
     "data": {
      "text/plain": [
       "Not Catholic    31\n",
       "Catholic        16\n",
       "Name: is_catholic, dtype: int64"
      ]
     },
     "execution_count": 69,
     "metadata": {},
     "output_type": "execute_result"
    }
   ],
   "source": [
    "swiss.is_catholic.value_counts()"
   ]
  }
 ],
 "metadata": {
  "kernelspec": {
   "display_name": "Python 3",
   "language": "python",
   "name": "python3"
  },
  "language_info": {
   "codemirror_mode": {
    "name": "ipython",
    "version": 3
   },
   "file_extension": ".py",
   "mimetype": "text/x-python",
   "name": "python",
   "nbconvert_exporter": "python",
   "pygments_lexer": "ipython3",
   "version": "3.7.1"
  }
 },
 "nbformat": 4,
 "nbformat_minor": 2
}
