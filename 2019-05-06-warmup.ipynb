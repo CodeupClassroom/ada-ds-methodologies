{
 "cells": [
  {
   "cell_type": "markdown",
   "metadata": {},
   "source": [
    "# Warmup\n",
    "\n",
    "> Take the word EASY: Its first three letters — E, A and S — are the fifth,\n",
    "> first, and nineteenth letters, respectively, in the alphabet. If you add 5, 1,\n",
    "> and 19, you get 25, which is the value of the alphabetical position of Y, the\n",
    "> last letter of EASY.\n",
    "\n",
    "> Can you think of a common five-letter word that works in the opposite way — in\n",
    "> which the value of the alphabetical positions of its last four letters add up\n",
    "> to the value of the alphabetical position of its first letter?\n",
    "\n",
    "[NPR Sunday Puzzle for 2016-04-03](http://www.npr.org/2016/04/03/472825113/got-2-words-in-the-same-category-its-rhymin-time)\n",
    "\n",
    "You can find a list of words on your mac at `/usr/share/dict/words`."
   ]
  },
  {
   "cell_type": "code",
   "execution_count": 1,
   "metadata": {},
   "outputs": [
    {
     "data": {
      "text/plain": [
       "['A', 'a', 'aa', 'aal', 'aalii']"
      ]
     },
     "execution_count": 1,
     "metadata": {},
     "output_type": "execute_result"
    }
   ],
   "source": [
    "with open('/usr/share/dict/words') as f:\n",
    "    words = f.read().split('\\n')\n",
    "    \n",
    "words[:5]"
   ]
  },
  {
   "cell_type": "code",
   "execution_count": 29,
   "metadata": {},
   "outputs": [
    {
     "name": "stdout",
     "output_type": "stream",
     "text": [
      "raffe\n",
      "Sadie\n",
      "sifac\n",
      "table\n",
      "Uchee\n",
      "vakia\n",
      "Vicia\n",
      "wanga\n",
      "whack\n",
      "Xicak\n",
      "yeara\n",
      "zebra\n"
     ]
    }
   ],
   "source": [
    "def alpha_position(c):\n",
    "    return 'abcdefghijklmnopqrstuvwxyz'.index(c) + 1\n",
    "    # return ord(c) - ord('a') + 1\n",
    "\n",
    "for word in words:\n",
    "    if len(word) != 5:\n",
    "        continue\n",
    "    first_letter, *rest = word.lower()\n",
    "    if alpha_position(first_letter) == sum([alpha_position(c) for c in rest]):\n",
    "        print(word)"
   ]
  },
  {
   "cell_type": "code",
   "execution_count": 33,
   "metadata": {},
   "outputs": [
    {
     "data": {
      "text/plain": [
       "['raffe',\n",
       " 'sadie',\n",
       " 'sifac',\n",
       " 'table',\n",
       " 'uchee',\n",
       " 'vakia',\n",
       " 'vicia',\n",
       " 'wanga',\n",
       " 'whack',\n",
       " 'xicak',\n",
       " 'yeara',\n",
       " 'zebra']"
      ]
     },
     "execution_count": 33,
     "metadata": {},
     "output_type": "execute_result"
    }
   ],
   "source": [
    "# Just for fun, a functional take\n",
    "\n",
    "def alpha_position(c):\n",
    "    # return 'abcdefghijklmnopqrstuvwxyz'.index(c) + 1\n",
    "    return ord(c) - ord('a') + 1\n",
    "\n",
    "def alpha_score(word):\n",
    "    return sum(alpha_position(c) for c in word)\n",
    "\n",
    "def compose(*fns):\n",
    "    return partial(reduce, lambda x, f: f(x), reversed(fns))\n",
    "\n",
    "from functools import reduce, partial\n",
    "\n",
    "compose(\n",
    "    list,\n",
    "    partial(map, lambda d: d['word']),\n",
    "    partial(filter, lambda word: word['scores'][0] == word['scores'][1]),\n",
    "    partial(map, lambda parts: dict(scores=list(map(alpha_score, parts)),\n",
    "                                    word=parts[0] + parts[1])),\n",
    "    partial(map, lambda word: [word[0], word[1:]]),\n",
    "    partial(map, lambda word: word.lower()),\n",
    "    partial(filter, lambda word: len(word) == 5)\n",
    ")(words)"
   ]
  }
 ],
 "metadata": {
  "kernelspec": {
   "display_name": "Python 3",
   "language": "python",
   "name": "python3"
  },
  "language_info": {
   "codemirror_mode": {
    "name": "ipython",
    "version": 3
   },
   "file_extension": ".py",
   "mimetype": "text/x-python",
   "name": "python",
   "nbconvert_exporter": "python",
   "pygments_lexer": "ipython3",
   "version": "3.7.1"
  }
 },
 "nbformat": 4,
 "nbformat_minor": 2
}
