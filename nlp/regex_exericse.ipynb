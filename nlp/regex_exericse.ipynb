{
 "cells": [
  {
   "cell_type": "markdown",
   "metadata": {},
   "source": [
    "## Exercises"
   ]
  },
  {
   "cell_type": "code",
   "execution_count": 1,
   "metadata": {},
   "outputs": [],
   "source": [
    "import re\n",
    "from pprint import pprint"
   ]
  },
  {
   "cell_type": "markdown",
   "metadata": {},
   "source": [
    "Write a function named `is_vowel`. It should accept a string as input and use a regular expression to determine if the passed string is a vowel. While not explicity mentioned in the lesson, you can treat the result of `re.search` as a boolean value that indicates whether or not the regular expression matches the given string."
   ]
  },
  {
   "cell_type": "code",
   "execution_count": 2,
   "metadata": {},
   "outputs": [],
   "source": [
    "def is_vowel(c):\n",
    "    return re.search(r'[aeiou]', c)"
   ]
  },
  {
   "cell_type": "markdown",
   "metadata": {},
   "source": [
    "Write a function named `is_valid_username` that accepts a string as input. A valid username starts with a lowercase letter, and only consists of lowercase letters, numbers, or the `_` character. It should also be no longer than 32 characters. The function should return either `True` or `False` depending on whether the passed string is a valid username.\n",
    "\n",
    "        >>> is_valid_username('aaaaaaaaaaaaaaaaaaaaaaaaaaaaaaaaa')\n",
    "        False\n",
    "        >>> is_valid_username('codeup')\n",
    "        True\n",
    "        >>> is_valid_username('Codeup')\n",
    "        False\n",
    "        >>> is_valid_username('codeup123')\n",
    "        True\n",
    "        >>> is_valid_username('1codeup')\n",
    "        False"
   ]
  },
  {
   "cell_type": "code",
   "execution_count": 3,
   "metadata": {},
   "outputs": [],
   "source": [
    "def is_valid_username(username):\n",
    "    return re.search(r'^[a-z][a-z0-9_]{0,31}$', username) is not None\n",
    "\n",
    "usernames = [\n",
    "    'aaaaaaaaaaaaaaaaaaaaaaaaaaaaaaaaa',\n",
    "    'codeup',\n",
    "    'Codeup',\n",
    "    'codeup123',\n",
    "    '1codeup',\n",
    "]\n",
    "\n",
    "for username in usernames:\n",
    "    print('username: {} -- is_valid: {}'.format(username, is_valid_username(username)))\n"
   ]
  },
  {
   "cell_type": "markdown",
   "metadata": {},
   "source": [
    "Write a regular expression to capture phone numbers. It should match all of the following:\n",
    "\n",
    "        (210) 867 5309\n",
    "        +1 210.867.5309\n",
    "        867-5309\n",
    "        210-867-5309"
   ]
  },
  {
   "cell_type": "code",
   "execution_count": 4,
   "metadata": {},
   "outputs": [],
   "source": [
    "phone_numbers = [\n",
    "    '(210) 867 5309',\n",
    "    '+1 210.867.5309',\n",
    "    '867-5309',\n",
    "    '210-867-5309',\n",
    "]\n",
    "\n",
    "regexp = re.compile(r'''\n",
    "^\n",
    "(?P<calling_code>\\+\\d+)?\n",
    "[^\\d]*?\n",
    "(?P<area_code>\\d{3})?\n",
    "[^\\d]*?\n",
    "(?P<first_three>\\d{3})\n",
    "[^\\d]*?\n",
    "(?P<last_four>\\d{4})\n",
    "$\n",
    "''', re.VERBOSE)\n",
    "\n",
    "for number in phone_numbers:\n",
    "    print(number)\n",
    "    pprint(regexp.match(number).groupdict())\n",
    "    print('---')\n"
   ]
  },
  {
   "cell_type": "markdown",
   "metadata": {},
   "source": [
    "Use regular expressions to convert the dates below to the standardized year-month-day format.\n",
    "\n",
    "        02/04/19\n",
    "        02/05/19\n",
    "        02/06/19\n",
    "        02/07/19\n",
    "        02/08/19\n",
    "        02/09/19\n",
    "        02/10/19"
   ]
  },
  {
   "cell_type": "code",
   "execution_count": 5,
   "metadata": {},
   "outputs": [
    {
     "name": "stdout",
     "output_type": "stream",
     "text": [
      "02/04/19 -> 2019-02-04\n",
      "02/05/19 -> 2019-02-05\n",
      "02/06/19 -> 2019-02-06\n",
      "02/07/19 -> 2019-02-07\n",
      "02/08/19 -> 2019-02-08\n",
      "02/09/19 -> 2019-02-09\n",
      "02/10/19 -> 2019-02-10\n"
     ]
    }
   ],
   "source": [
    "dates = '''\n",
    "02/04/19\n",
    "02/05/19\n",
    "02/06/19\n",
    "02/07/19\n",
    "02/08/19\n",
    "02/09/19\n",
    "02/10/19\n",
    "'''.strip().split('\\n')\n",
    "\n",
    "for date in dates:\n",
    "    # for simplicity, we'll assume all the dates are are in the 21st century\n",
    "    standardized = re.sub(r'(\\d+)/(\\d+)/(\\d+)', r'20\\3-\\1-\\2', date)\n",
    "    print('{} -> {}'.format(date, standardized))"
   ]
  },
  {
   "cell_type": "markdown",
   "metadata": {},
   "source": [
    "Write a regex to extract the various parts of these logfile lines:\n",
    "\n",
    "        GET /api/v1/sales?page=86 [16/Apr/2019:193452+0000] HTTP/1.1 {200} 510348 \"python-requests/2.21.0\" 97.105.19.58 \n",
    "        POST /users_accounts/file-upload [16/Apr/2019:193452+0000] HTTP/1.1 {201} 42 \"User-Agent: Mozilla/5.0 (X11; Fedora; Fedora; Linux x86_64) AppleWebKit/537.36 (KHTML, like Gecko) Chrome/73.0.3683.86 Safari/537.36\" 97.105.19.58 \n",
    "        GET /api/v1/items?page=3 [16/Apr/2019:193453+0000] HTTP/1.1 {429} 3561 \"python-requests/2.21.0\" 97.105.19.58"
   ]
  },
  {
   "cell_type": "code",
   "execution_count": 6,
   "metadata": {},
   "outputs": [
    {
     "name": "stdout",
     "output_type": "stream",
     "text": [
      "{'bytes_sent': '510348',\n",
      " 'day': '16',\n",
      " 'hour': '19',\n",
      " 'ip': '97.105.19.58',\n",
      " 'method': 'GET',\n",
      " 'minute': '34',\n",
      " 'month': 'Apr',\n",
      " 'path': '/api/v1/sales',\n",
      " 'protocol': 'HTTP/1.1',\n",
      " 'query_string': 'page=86',\n",
      " 'second': '52',\n",
      " 'status': '200',\n",
      " 'timezone': '+0000',\n",
      " 'user_agent': 'python-requests/2.21.0',\n",
      " 'year': '2019'}\n",
      "{'bytes_sent': '42',\n",
      " 'day': '16',\n",
      " 'hour': '19',\n",
      " 'ip': '97.105.19.58',\n",
      " 'method': 'POST',\n",
      " 'minute': '34',\n",
      " 'month': 'Apr',\n",
      " 'path': '/users_accounts/file-upload',\n",
      " 'protocol': 'HTTP/1.1',\n",
      " 'query_string': None,\n",
      " 'second': '52',\n",
      " 'status': '201',\n",
      " 'timezone': '+0000',\n",
      " 'user_agent': 'User-Agent: Mozilla/5.0 (X11; Fedora; Fedora; Linux x86_64) '\n",
      "               'AppleWebKit/537.36 (KHTML, like Gecko) Chrome/73.0.3683.86 '\n",
      "               'Safari/537.36',\n",
      " 'year': '2019'}\n",
      "{'bytes_sent': '3561',\n",
      " 'day': '16',\n",
      " 'hour': '19',\n",
      " 'ip': '97.105.19.58',\n",
      " 'method': 'GET',\n",
      " 'minute': '34',\n",
      " 'month': 'Apr',\n",
      " 'path': '/api/v1/items',\n",
      " 'protocol': 'HTTP/1.1',\n",
      " 'query_string': 'page=3',\n",
      " 'second': '53',\n",
      " 'status': '429',\n",
      " 'timezone': '+0000',\n",
      " 'user_agent': 'python-requests/2.21.0',\n",
      " 'year': '2019'}\n"
     ]
    }
   ],
   "source": [
    "log_lines = '''\n",
    "GET /api/v1/sales?page=86 [16/Apr/2019:193452+0000] HTTP/1.1 {200} 510348 \"python-requests/2.21.0\" 97.105.19.58 \n",
    "POST /users_accounts/file-upload [16/Apr/2019:193452+0000] HTTP/1.1 {201} 42 \"User-Agent: Mozilla/5.0 (X11; Fedora; Fedora; Linux x86_64) AppleWebKit/537.36 (KHTML, like Gecko) Chrome/73.0.3683.86 Safari/537.36\" 97.105.19.58 \n",
    "GET /api/v1/items?page=3 [16/Apr/2019:193453+0000] HTTP/1.1 {429} 3561 \"python-requests/2.21.0\" 97.105.19.58\n",
    "'''.strip().split('\\n')\n",
    "\n",
    "regex = re.compile(r'''\n",
    "(?P<method>POST|GET)\n",
    "\\s*\n",
    "(?P<path>(?:[/\\w-]+))\n",
    "(?:\\?(?P<query_string>.*?)\\s)?\n",
    "\\s*\\[\n",
    "(?P<day>\\d+)/(?P<month>\\w+)/(?P<year>\\d+):\n",
    "(?P<hour>\\d{2})(?P<minute>\\d{2})(?P<second>\\d{2})\n",
    "(?P<timezone>\\+\\d{4})\n",
    "\\]\\s+\n",
    "(?P<protocol>HTTPS?/\\d\\.\\d)\n",
    "\\s+\n",
    "\\{(?P<status>\\d+)\\}\n",
    "\\s+\n",
    "(?P<bytes_sent>\\d+)\n",
    "\\s+\n",
    "\"(?P<user_agent>.*)\"\n",
    "\\s+\n",
    "(?P<ip>\\d{1,3}\\.\\d{1,3}\\.\\d{1,3}\\.\\d{1,3})\n",
    "''', re.VERBOSE)\n",
    "\n",
    "for line in log_lines:\n",
    "    pprint(regex.match(line).groupdict())"
   ]
  },
  {
   "cell_type": "markdown",
   "metadata": {},
   "source": [
    "You can find a list of words on your mac at `/usr/share/dict/words`. Use this file to answer the following questions:"
   ]
  },
  {
   "cell_type": "code",
   "execution_count": 7,
   "metadata": {},
   "outputs": [
    {
     "data": {
      "text/plain": [
       "55184"
      ]
     },
     "execution_count": 7,
     "metadata": {},
     "output_type": "execute_result"
    }
   ],
   "source": [
    "with open('/usr/share/dict/words') as f:\n",
    "    words = f.read()\n",
    "\n",
    "# How many words have at least 3 vowels?\n",
    "len(re.findall(r'^.*[aeiou].*[aeiou].*[aeiou]$', words, re.MULTILINE))"
   ]
  },
  {
   "cell_type": "code",
   "execution_count": 8,
   "metadata": {},
   "outputs": [
    {
     "data": {
      "text/plain": [
       "6156"
      ]
     },
     "execution_count": 8,
     "metadata": {},
     "output_type": "execute_result"
    }
   ],
   "source": [
    "# How many words have at least 3 vowels in a row?\n",
    "len(re.findall(r'^.*[aeiou]{3,}.*$', words, re.MULTILINE))"
   ]
  },
  {
   "cell_type": "code",
   "execution_count": 9,
   "metadata": {},
   "outputs": [
    {
     "data": {
      "text/plain": [
       "62922"
      ]
     },
     "execution_count": 9,
     "metadata": {},
     "output_type": "execute_result"
    }
   ],
   "source": [
    "# How many words have at least 4 consonants in a row?\n",
    "len(re.findall(r'^.*[^aeiou]{4,}.*$', words, re.MULTILINE))"
   ]
  },
  {
   "cell_type": "code",
   "execution_count": 10,
   "metadata": {},
   "outputs": [
    {
     "data": {
      "text/plain": [
       "9917"
      ]
     },
     "execution_count": 10,
     "metadata": {},
     "output_type": "execute_result"
    }
   ],
   "source": [
    "# How many words start and end with the same letter?\n",
    "len(re.findall(r'(^(.).*\\2$)', words, re.MULTILINE))"
   ]
  },
  {
   "cell_type": "code",
   "execution_count": 11,
   "metadata": {},
   "outputs": [
    {
     "data": {
      "text/plain": [
       "12351"
      ]
     },
     "execution_count": 11,
     "metadata": {},
     "output_type": "execute_result"
    }
   ],
   "source": [
    "# How many words start and end with a vowel?\n",
    "len(re.findall(r'(^[aeiou].*[aeiou]$)', words, re.MULTILINE))"
   ]
  },
  {
   "cell_type": "code",
   "execution_count": 12,
   "metadata": {},
   "outputs": [
    {
     "data": {
      "text/plain": [
       "7"
      ]
     },
     "execution_count": 12,
     "metadata": {},
     "output_type": "execute_result"
    }
   ],
   "source": [
    "# How many words contain the same letter 3 times in a row?\n",
    "len(re.findall(r'(^.*(.)\\2{2}.*$)', words, re.MULTILINE))"
   ]
  }
 ],
 "metadata": {
  "kernelspec": {
   "display_name": "Python 3",
   "language": "python",
   "name": "python3"
  },
  "language_info": {
   "codemirror_mode": {
    "name": "ipython",
    "version": 3
   },
   "file_extension": ".py",
   "mimetype": "text/x-python",
   "name": "python",
   "nbconvert_exporter": "python",
   "pygments_lexer": "ipython3",
   "version": "3.7.1"
  }
 },
 "nbformat": 4,
 "nbformat_minor": 2
}
