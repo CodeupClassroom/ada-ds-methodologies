{
 "cells": [
  {
   "cell_type": "code",
   "execution_count": 10,
   "metadata": {},
   "outputs": [
    {
     "name": "stdout",
     "output_type": "stream",
     "text": [
      "The rumors are true! The time has arrived. Codeup has officially opened applications to our new Data Science career accelerator, with only 25 seats available! This immersive program is one of a kind in San Antonio, and will help you land a job in Glassdoor’s #1 Best Job in America.\n",
      "Data Science is a method of providing actionable intelligence from data. The data revolution has hit San Antonio, resulting in an explosion in Data Scientist positions across companies like USAA, Accenture, Booz Allen Hamilton, and HEB. We’ve even seen UTSA invest $70 M for a Cybersecurity Center and School of Data Science. We built a program to specifically meet the growing demands of this industry.\n",
      "Our program will be 18 weeks long, full-time, hands-on, and project-based. Our curriculum development and instruction is led by Senior Data Scientist, Maggie Giust, who has worked at HEB, Capital Group, and Rackspace, along with input from dozens of practitioners and hiring partners. Students will work with real data sets, realistic problems, and the entire data science pipeline from collection to deployment. They will receive professional development training in resume writing, interviewing, and continuing education to prepare for a smooth transition to the workforce.\n",
      "We focus on applied data science for immediate impact and ROI in a business, which is how we can back it all up with a 6 month tuition refund guarantee – just like our existing Web Dev program. We’re focusing on Data Science with Python, SQL, and ML, covered in 14 modules: 1) Fundamentals; 2) Applied statistics; 3) SQL; 4) Python; 5) Supervised machine learning – regression; 6) Supervised machine learning – classification; 7) Unsupervised machine learning – clustering; 8) Time series analysis; 9) Anomaly detection; 10) Natural language processing; 11) Distributed machine learning; 12) Advanced topics (deep learning, NoSQL, cloud deployment, etc.); 13) Storytelling with data; and 14) Domain expertise development.\n",
      "Applications are now open for Codeup’s first Data Science cohort, which will start class on February 4, 2019. Hurry – there are only 25 seats available! To further our mission of cultivating inclusive growth, scholarships will be available to women, minorities, LGBTQIA+ individuals, veterans, first responders, and people relocating to San Antonio.\n",
      "If you want to learn about joining our program or hiring our graduates, email datascience@codeup.com!\n"
     ]
    }
   ],
   "source": [
    "import acquire_codeup_blog\n",
    "\n",
    "articles = acquire_codeup_blog.get_blog_articles()\n",
    "\n",
    "article = articles[0]['content']\n",
    "print(article)"
   ]
  },
  {
   "cell_type": "code",
   "execution_count": 11,
   "metadata": {},
   "outputs": [],
   "source": [
    "original = article\n",
    "article = article.lower()"
   ]
  },
  {
   "cell_type": "code",
   "execution_count": 20,
   "metadata": {},
   "outputs": [],
   "source": [
    "article = re.sub(r'\\s', ' ', original)"
   ]
  },
  {
   "cell_type": "code",
   "execution_count": 21,
   "metadata": {},
   "outputs": [
    {
     "name": "stdout",
     "output_type": "stream",
     "text": [
      "The rumors are true! The time has arrived. Codeup has officially opened applications to our new Data Science career accelerator, with only 25 seats available! This immersive program is one of a kind in San Antonio, and will help you land a job in Glassdoor’s #1 Best Job in America. Data Science is a method of providing actionable intelligence from data. The data revolution has hit San Antonio, resulting in an explosion in Data Scientist positions across companies like USAA, Accenture, Booz Allen Hamilton, and HEB. We’ve even seen UTSA invest $70 M for a Cybersecurity Center and School of Data Science. We built a program to specifically meet the growing demands of this industry. Our program will be 18 weeks long, full-time, hands-on, and project-based. Our curriculum development and instruction is led by Senior Data Scientist, Maggie Giust, who has worked at HEB, Capital Group, and Rackspace, along with input from dozens of practitioners and hiring partners. Students will work with real data sets, realistic problems, and the entire data science pipeline from collection to deployment. They will receive professional development training in resume writing, interviewing, and continuing education to prepare for a smooth transition to the workforce. We focus on applied data science for immediate impact and ROI in a business, which is how we can back it all up with a 6 month tuition refund guarantee – just like our existing Web Dev program. We’re focusing on Data Science with Python, SQL, and ML, covered in 14 modules: 1) Fundamentals; 2) Applied statistics; 3) SQL; 4) Python; 5) Supervised machine learning – regression; 6) Supervised machine learning – classification; 7) Unsupervised machine learning – clustering; 8) Time series analysis; 9) Anomaly detection; 10) Natural language processing; 11) Distributed machine learning; 12) Advanced topics (deep learning, NoSQL, cloud deployment, etc.); 13) Storytelling with data; and 14) Domain expertise development. Applications are now open for Codeup’s first Data Science cohort, which will start class on February 4, 2019. Hurry – there are only 25 seats available! To further our mission of cultivating inclusive growth, scholarships will be available to women, minorities, LGBTQIA+ individuals, veterans, first responders, and people relocating to San Antonio. If you want to learn about joining our program or hiring our graduates, email datascience@codeup.com!\n"
     ]
    }
   ],
   "source": [
    "import unicodedata\n",
    "\n",
    "normalized = unicodedata.normalize('NFKD', article)\n",
    "print(normalized)"
   ]
  },
  {
   "cell_type": "code",
   "execution_count": 14,
   "metadata": {},
   "outputs": [
    {
     "data": {
      "text/plain": [
       "'the rumors are true! the time has arrived. codeup has officially opened applications to our new data science career accelerator, with only 25 seats available! this immersive program is one of a kind in san antonio, and will help you land a job inglassdoors #1 best job in america.\\ndata science is a method of providing actionable intelligence from data.the data revolution has hit san antonio,resulting in an explosion in data scientist positionsacross companies like usaa, accenture, booz allen hamilton, and heb. weve even seenutsa invest $70 m for a cybersecurity center and school of data science.we built a program to specifically meet the growing demands of this industry.\\nour program will be 18 weeks long, full-time, hands-on, and project-based. our curriculum development and instruction is led by senior data scientist, maggie giust, who has worked at heb, capital group, and rackspace, along with input from dozens of practitioners and hiring partners. students will work with real data sets, realistic problems, and the entire data science pipeline from collection to deployment. they will receive professional development training in resume writing, interviewing, and continuing education to prepare for a smooth transition to the workforce.\\nwe focus on applied data science for immediate impact and roi in a business, which is how we can back it all up with a 6 month tuition refund guarantee  just like our existing web dev program. were focusing on data science with python, sql, and ml, covered in14 modules: 1) fundamentals; 2) applied statistics; 3) sql; 4) python; 5) supervised machine learning  regression; 6) supervised machine learning  classification; 7) unsupervised machine learning  clustering; 8) time series analysis; 9) anomaly detection; 10) natural language processing; 11) distributed machine learning; 12) advanced topics (deep learning, nosql, cloud deployment, etc.); 13) storytelling with data; and 14) domain expertise development.\\napplications are now openfor codeups first data science cohort, which will start class on february 4, 2019. hurry  there are only 25 seats available! to further our mission of cultivating inclusive growth, scholarships will be available to women, minorities, lgbtqia+ individuals, veterans, first responders, and people relocating to san antonio.\\nif you want to learn about joining our program or hiring our graduates, email datascience@codeup.com!'"
      ]
     },
     "execution_count": 14,
     "metadata": {},
     "output_type": "execute_result"
    }
   ],
   "source": [
    "just_ascii = article.encode('ascii', 'ignore')\n",
    "article = just_ascii.decode('utf-8')\n",
    "article"
   ]
  },
  {
   "cell_type": "code",
   "execution_count": 22,
   "metadata": {},
   "outputs": [
    {
     "data": {
      "text/plain": [
       "'The rumors are true The time has arrived Codeup has officially opened applications to our new Data Science career accelerator with only 25 seats available This immersive program is one of a kind in San Antonio and will help you land a job in Glassdoor s 1 Best Job in America Data Science is a method of providing actionable intelligence from data The data revolution has hit San Antonio resulting in an explosion in Data Scientist positions across companies like USAA Accenture Booz Allen Hamilton and HEB We ve even seen UTSA invest 70 M for a Cybersecurity Center and School of Data Science We built a program to specifically meet the growing demands of this industry Our program will be 18 weeks long full time hands on and project based Our curriculum development and instruction is led by Senior Data Scientist Maggie Giust who has worked at HEB Capital Group and Rackspace along with input from dozens of practitioners and hiring partners Students will work with real data sets realistic problems and the entire data science pipeline from collection to deployment They will receive professional development training in resume writing interviewing and continuing education to prepare for a smooth transition to the workforce We focus on applied data science for immediate impact and ROI in a business which is how we can back it all up with a 6 month tuition refund guarantee just like our existing Web Dev program We re focusing on Data Science with Python SQL and ML covered in 14 modules 1 Fundamentals 2 Applied statistics 3 SQL 4 Python 5 Supervised machine learning regression 6 Supervised machine learning classification 7 Unsupervised machine learning clustering 8 Time series analysis 9 Anomaly detection 10 Natural language processing 11 Distributed machine learning 12 Advanced topics deep learning NoSQL cloud deployment etc 13 Storytelling with data and 14 Domain expertise development Applications are now open for Codeup s first Data Science cohort which will start class on February 4 2019 Hurry there are only 25 seats available To further our mission of cultivating inclusive growth scholarships will be available to women minorities LGBTQIA individuals veterans first responders and people relocating to San Antonio If you want to learn about joining our program or hiring our graduates email datascience codeup com'"
      ]
     },
     "execution_count": 22,
     "metadata": {},
     "output_type": "execute_result"
    }
   ],
   "source": [
    "import re\n",
    "\n",
    "without_special_chars = re.sub(r'[^\\w\\s]', ' ', article)\n",
    "word_list = without_special_chars.split()\n",
    "' '.join(word_list)"
   ]
  },
  {
   "cell_type": "code",
   "execution_count": 23,
   "metadata": {},
   "outputs": [
    {
     "data": {
      "text/plain": [
       "['The',\n",
       " 'rumors',\n",
       " 'are',\n",
       " 'true',\n",
       " '!',\n",
       " 'The',\n",
       " 'time',\n",
       " 'has',\n",
       " 'arrived.',\n",
       " 'Codeup']"
      ]
     },
     "execution_count": 23,
     "metadata": {},
     "output_type": "execute_result"
    }
   ],
   "source": [
    "import nltk\n",
    "\n",
    "tokenizer = nltk.tokenize.ToktokTokenizer()\n",
    "\n",
    "tokenizer.tokenize(article)[:10]"
   ]
  },
  {
   "cell_type": "code",
   "execution_count": 25,
   "metadata": {},
   "outputs": [
    {
     "data": {
      "text/plain": [
       "'The rumors are true ! The time has arrived. Codeup has officially opened applications to our new Data Science career accelerator , with only 25 seats available ! This immersive program is one of a kind in San Antonio , and will help you land a job in Glassdoor ’ s #1 Best Job in America. Data Science is a method of providing actionable intelligence from data. The data revolution has hit San Antonio , resulting in an explosion in Data Scientist positions across companies like USAA , Accenture , Booz Allen Hamilton , and HEB. We ’ ve even seen UTSA invest $ 70 M for a Cybersecurity Center and School of Data Science. We built a program to specifically meet the growing demands of this industry. Our program will be 18 weeks long , full-time , hands-on , and project-based. Our curriculum development and instruction is led by Senior Data Scientist , Maggie Giust , who has worked at HEB , Capital Group , and Rackspace , along with input from dozens of practitioners and hiring partners. Students will work with real data sets , realistic problems , and the entire data science pipeline from collection to deployment. They will receive professional development training in resume writing , interviewing , and continuing education to prepare for a smooth transition to the workforce. We focus on applied data science for immediate impact and ROI in a business , which is how we can back it all up with a 6 month tuition refund guarantee – just like our existing Web Dev program. We ’ re focusing on Data Science with Python , SQL , and ML , covered in 14 modules : 1 ) Fundamentals ; 2 ) Applied statistics ; 3 ) SQL ; 4 ) Python ; 5 ) Supervised machine learning – regression ; 6 ) Supervised machine learning – classification ; 7 ) Unsupervised machine learning – clustering ; 8 ) Time series analysis ; 9 ) Anomaly detection ; 10 ) Natural language processing ; 11 ) Distributed machine learning ; 12 ) Advanced topics ( deep learning , NoSQL , cloud deployment , etc. ) ; 13 ) Storytelling with data ; and 14 ) Domain expertise development. Applications are now open for Codeup ’ s first Data Science cohort , which will start class on February 4 , 2019. Hurry – there are only 25 seats available ! To further our mission of cultivating inclusive growth , scholarships will be available to women , minorities , LGBTQIA+ individuals , veterans , first responders , and people relocating to San Antonio. If you want to learn about joining our program or hiring our graduates , email datascience@codeup.com !'"
      ]
     },
     "execution_count": 25,
     "metadata": {},
     "output_type": "execute_result"
    }
   ],
   "source": [
    "tokenizer.tokenize(article, return_str=True)"
   ]
  },
  {
   "cell_type": "code",
   "execution_count": 29,
   "metadata": {},
   "outputs": [
    {
     "data": {
      "text/plain": [
       "['call', 'call']"
      ]
     },
     "execution_count": 29,
     "metadata": {},
     "output_type": "execute_result"
    }
   ],
   "source": [
    "ps = nltk.stem.PorterStemmer()\n",
    "\n",
    "[ps.stem(word) for word in ['called', 'calling']]"
   ]
  },
  {
   "cell_type": "code",
   "execution_count": 31,
   "metadata": {},
   "outputs": [
    {
     "name": "stdout",
     "output_type": "stream",
     "text": [
      "the rumor are true the time ha arriv codeup ha offici open applic to our new data scienc career acceler with onli 25 seat avail thi immers program is one of a kind in san antonio and will help you land a job in glassdoor s 1 best job in america data scienc is a method of provid action intellig from data the data revolut ha hit san antonio result in an explos in data scientist posit across compani like usaa accentur booz allen hamilton and heb We ve even seen utsa invest 70 M for a cybersecur center and school of data scienc We built a program to specif meet the grow demand of thi industri our program will be 18 week long full time hand on and project base our curriculum develop and instruct is led by senior data scientist maggi giust who ha work at heb capit group and rackspac along with input from dozen of practition and hire partner student will work with real data set realist problem and the entir data scienc pipelin from collect to deploy they will receiv profession develop train in resum write interview and continu educ to prepar for a smooth transit to the workforc We focu on appli data scienc for immedi impact and roi in a busi which is how we can back it all up with a 6 month tuition refund guarante just like our exist web dev program We re focus on data scienc with python sql and ML cover in 14 modul 1 fundament 2 appli statist 3 sql 4 python 5 supervis machin learn regress 6 supervis machin learn classif 7 unsupervis machin learn cluster 8 time seri analysi 9 anomali detect 10 natur languag process 11 distribut machin learn 12 advanc topic deep learn nosql cloud deploy etc 13 storytel with data and 14 domain expertis develop applic are now open for codeup s first data scienc cohort which will start class on februari 4 2019 hurri there are onli 25 seat avail To further our mission of cultiv inclus growth scholarship will be avail to women minor lgbtqia individu veteran first respond and peopl reloc to san antonio If you want to learn about join our program or hire our graduat email datasci codeup com\n"
     ]
    }
   ],
   "source": [
    "print(' '.join([ps.stem(word) for word in word_list]))"
   ]
  },
  {
   "cell_type": "code",
   "execution_count": 33,
   "metadata": {},
   "outputs": [
    {
     "name": "stdout",
     "output_type": "stream",
     "text": [
      "stem: studi -- lemma: study\n",
      "stem: studi -- lemma: study\n"
     ]
    }
   ],
   "source": [
    "wnl = nltk.stem.WordNetLemmatizer()\n",
    "\n",
    "for word in 'study studies'.split():\n",
    "    print('stem:', ps.stem(word), '-- lemma:', wnl.lemmatize(word))"
   ]
  },
  {
   "cell_type": "code",
   "execution_count": 40,
   "metadata": {},
   "outputs": [
    {
     "name": "stdout",
     "output_type": "stream",
     "text": [
      "the rumor are true the time ha arrived codeup ha officially opened application to our new data science career accelerator with only 25 seat available this immersive program is one of a kind in san antonio and will help you land a job in glassdoor s 1 best job in america data science is a method of providing actionable intelligence from data the data revolution ha hit san antonio resulting in an explosion in data scientist position across company like usaa accenture booz allen hamilton and heb we ve even seen utsa invest 70 m for a cybersecurity center and school of data science we built a program to specifically meet the growing demand of this industry our program will be 18 week long full time hand on and project based our curriculum development and instruction is led by senior data scientist maggie giust who ha worked at heb capital group and rackspace along with input from dozen of practitioner and hiring partner student will work with real data set realistic problem and the entire data science pipeline from collection to deployment they will receive professional development training in resume writing interviewing and continuing education to prepare for a smooth transition to the workforce we focus on applied data science for immediate impact and roi in a business which is how we can back it all up with a 6 month tuition refund guarantee just like our existing web dev program we re focusing on data science with python sql and ml covered in 14 module 1 fundamental 2 applied statistic 3 sql 4 python 5 supervised machine learning regression 6 supervised machine learning classification 7 unsupervised machine learning clustering 8 time series analysis 9 anomaly detection 10 natural language processing 11 distributed machine learning 12 advanced topic deep learning nosql cloud deployment etc 13 storytelling with data and 14 domain expertise development application are now open for codeup s first data science cohort which will start class on february 4 2019 hurry there are only 25 seat available to further our mission of cultivating inclusive growth scholarship will be available to woman minority lgbtqia individual veteran first responder and people relocating to san antonio if you want to learn about joining our program or hiring our graduate email datascience codeup com\n"
     ]
    }
   ],
   "source": [
    "lemmatized_words = [wnl.lemmatize(word.lower()) for word in word_list]\n",
    "\n",
    "print(' '.join(lemmatized_words))"
   ]
  },
  {
   "cell_type": "code",
   "execution_count": 41,
   "metadata": {},
   "outputs": [
    {
     "data": {
      "text/plain": [
       "data              13\n",
       "and               13\n",
       "to                 9\n",
       "a                  8\n",
       "in                 8\n",
       "science            7\n",
       "our                7\n",
       "the                6\n",
       "will               6\n",
       "with               6\n",
       "of                 6\n",
       "program            5\n",
       "we                 5\n",
       "learning           5\n",
       "machine            4\n",
       "on                 4\n",
       "for                4\n",
       "is                 4\n",
       "ha                 4\n",
       "available          3\n",
       "from               3\n",
       "antonio            3\n",
       "san                3\n",
       "time               3\n",
       "are                3\n",
       "development        3\n",
       "codeup             3\n",
       "6                  2\n",
       "1                  2\n",
       "which              2\n",
       "                  ..\n",
       "classification     1\n",
       "true               1\n",
       "nosql              1\n",
       "graduate           1\n",
       "built              1\n",
       "how                1\n",
       "people             1\n",
       "start              1\n",
       "project            1\n",
       "focus              1\n",
       "interviewing       1\n",
       "detection          1\n",
       "2019               1\n",
       "glassdoor          1\n",
       "collection         1\n",
       "land               1\n",
       "by                 1\n",
       "module             1\n",
       "7                  1\n",
       "accelerator        1\n",
       "realistic          1\n",
       "12                 1\n",
       "resume             1\n",
       "joining            1\n",
       "invest             1\n",
       "existing           1\n",
       "who                1\n",
       "just               1\n",
       "clustering         1\n",
       "writing            1\n",
       "Length: 237, dtype: int64"
      ]
     },
     "execution_count": 41,
     "metadata": {},
     "output_type": "execute_result"
    }
   ],
   "source": [
    "import pandas as pd\n",
    "\n",
    "pd.Series(lemmatized_words).value_counts()"
   ]
  },
  {
   "cell_type": "code",
   "execution_count": null,
   "metadata": {},
   "outputs": [],
   "source": [
    "import nltk\n",
    "\n",
    "stopword_list = nltk.corpus.stopwords.words('english')\n",
    "\n",
    "# --- OR ---\n",
    "\n",
    "from nltk.corpus import stopwords\n",
    "\n",
    "stopword_list = stopwords.words('english')"
   ]
  },
  {
   "cell_type": "code",
   "execution_count": 48,
   "metadata": {},
   "outputs": [
    {
     "name": "stdout",
     "output_type": "stream",
     "text": [
      "rumor true time ha arrived codeup ha officially opened application new data science career accelerator 25 seat available immersive program one kind san antonio help land job glassdoor 1 best job america data science method providing actionable intelligence data data revolution ha hit san antonio resulting explosion data scientist position across company like usaa accenture booz allen hamilton heb even seen utsa invest 70 cybersecurity center school data science built program specifically meet growing demand industry program 18 week long full time hand project based curriculum development instruction led senior data scientist maggie giust ha worked heb capital group rackspace along input dozen practitioner hiring partner student work real data set realistic problem entire data science pipeline collection deployment receive professional development training resume writing interviewing continuing education prepare smooth transition workforce focus applied data science immediate impact roi business back 6 month tuition refund guarantee like existing web dev program focusing data science python sql ml covered 14 module 1 fundamental 2 applied statistic 3 sql 4 python 5 supervised machine learning regression 6 supervised machine learning classification 7 unsupervised machine learning clustering 8 time series analysis 9 anomaly detection 10 natural language processing 11 distributed machine learning 12 advanced topic deep learning nosql cloud deployment etc 13 storytelling data 14 domain expertise development application open codeup first data science cohort start class february 4 2019 hurry 25 seat available mission cultivating inclusive growth scholarship available woman minority lgbtqia individual veteran first responder people relocating san antonio want learn joining program hiring graduate email datascience codeup com\n"
     ]
    }
   ],
   "source": [
    "stopwords = nltk.corpus.stopwords.words('english')\n",
    "\n",
    "without_stopwords = [word for word in lemmatized_words if word not in stopwords]\n",
    "\n",
    "print(' '.join(without_stopwords))"
   ]
  },
  {
   "cell_type": "code",
   "execution_count": 49,
   "metadata": {},
   "outputs": [
    {
     "data": {
      "text/plain": [
       "['i',\n",
       " 'me',\n",
       " 'my',\n",
       " 'myself',\n",
       " 'we',\n",
       " 'our',\n",
       " 'ours',\n",
       " 'ourselves',\n",
       " 'you',\n",
       " \"you're\",\n",
       " \"you've\",\n",
       " \"you'll\",\n",
       " \"you'd\",\n",
       " 'your',\n",
       " 'yours',\n",
       " 'yourself',\n",
       " 'yourselves',\n",
       " 'he',\n",
       " 'him',\n",
       " 'his',\n",
       " 'himself',\n",
       " 'she',\n",
       " \"she's\",\n",
       " 'her',\n",
       " 'hers',\n",
       " 'herself',\n",
       " 'it',\n",
       " \"it's\",\n",
       " 'its',\n",
       " 'itself',\n",
       " 'they',\n",
       " 'them',\n",
       " 'their',\n",
       " 'theirs',\n",
       " 'themselves',\n",
       " 'what',\n",
       " 'which',\n",
       " 'who',\n",
       " 'whom',\n",
       " 'this',\n",
       " 'that',\n",
       " \"that'll\",\n",
       " 'these',\n",
       " 'those',\n",
       " 'am',\n",
       " 'is',\n",
       " 'are',\n",
       " 'was',\n",
       " 'were',\n",
       " 'be',\n",
       " 'been',\n",
       " 'being',\n",
       " 'have',\n",
       " 'has',\n",
       " 'had',\n",
       " 'having',\n",
       " 'do',\n",
       " 'does',\n",
       " 'did',\n",
       " 'doing',\n",
       " 'a',\n",
       " 'an',\n",
       " 'the',\n",
       " 'and',\n",
       " 'but',\n",
       " 'if',\n",
       " 'or',\n",
       " 'because',\n",
       " 'as',\n",
       " 'until',\n",
       " 'while',\n",
       " 'of',\n",
       " 'at',\n",
       " 'by',\n",
       " 'for',\n",
       " 'with',\n",
       " 'about',\n",
       " 'against',\n",
       " 'between',\n",
       " 'into',\n",
       " 'through',\n",
       " 'during',\n",
       " 'before',\n",
       " 'after',\n",
       " 'above',\n",
       " 'below',\n",
       " 'to',\n",
       " 'from',\n",
       " 'up',\n",
       " 'down',\n",
       " 'in',\n",
       " 'out',\n",
       " 'on',\n",
       " 'off',\n",
       " 'over',\n",
       " 'under',\n",
       " 'again',\n",
       " 'further',\n",
       " 'then',\n",
       " 'once',\n",
       " 'here',\n",
       " 'there',\n",
       " 'when',\n",
       " 'where',\n",
       " 'why',\n",
       " 'how',\n",
       " 'all',\n",
       " 'any',\n",
       " 'both',\n",
       " 'each',\n",
       " 'few',\n",
       " 'more',\n",
       " 'most',\n",
       " 'other',\n",
       " 'some',\n",
       " 'such',\n",
       " 'no',\n",
       " 'nor',\n",
       " 'not',\n",
       " 'only',\n",
       " 'own',\n",
       " 'same',\n",
       " 'so',\n",
       " 'than',\n",
       " 'too',\n",
       " 'very',\n",
       " 's',\n",
       " 't',\n",
       " 'can',\n",
       " 'will',\n",
       " 'just',\n",
       " 'don',\n",
       " \"don't\",\n",
       " 'should',\n",
       " \"should've\",\n",
       " 'now',\n",
       " 'd',\n",
       " 'll',\n",
       " 'm',\n",
       " 'o',\n",
       " 're',\n",
       " 've',\n",
       " 'y',\n",
       " 'ain',\n",
       " 'aren',\n",
       " \"aren't\",\n",
       " 'couldn',\n",
       " \"couldn't\",\n",
       " 'didn',\n",
       " \"didn't\",\n",
       " 'doesn',\n",
       " \"doesn't\",\n",
       " 'hadn',\n",
       " \"hadn't\",\n",
       " 'hasn',\n",
       " \"hasn't\",\n",
       " 'haven',\n",
       " \"haven't\",\n",
       " 'isn',\n",
       " \"isn't\",\n",
       " 'ma',\n",
       " 'mightn',\n",
       " \"mightn't\",\n",
       " 'mustn',\n",
       " \"mustn't\",\n",
       " 'needn',\n",
       " \"needn't\",\n",
       " 'shan',\n",
       " \"shan't\",\n",
       " 'shouldn',\n",
       " \"shouldn't\",\n",
       " 'wasn',\n",
       " \"wasn't\",\n",
       " 'weren',\n",
       " \"weren't\",\n",
       " 'won',\n",
       " \"won't\",\n",
       " 'wouldn',\n",
       " \"wouldn't\"]"
      ]
     },
     "execution_count": 49,
     "metadata": {},
     "output_type": "execute_result"
    }
   ],
   "source": [
    "stopwords"
   ]
  }
 ],
 "metadata": {
  "kernelspec": {
   "display_name": "Python 3",
   "language": "python",
   "name": "python3"
  },
  "language_info": {
   "codemirror_mode": {
    "name": "ipython",
    "version": 3
   },
   "file_extension": ".py",
   "mimetype": "text/x-python",
   "name": "python",
   "nbconvert_exporter": "python",
   "pygments_lexer": "ipython3",
   "version": "3.7.1"
  }
 },
 "nbformat": 4,
 "nbformat_minor": 2
}
