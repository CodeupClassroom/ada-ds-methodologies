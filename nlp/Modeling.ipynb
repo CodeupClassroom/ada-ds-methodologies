{
 "cells": [
  {
   "cell_type": "code",
   "execution_count": 19,
   "metadata": {},
   "outputs": [],
   "source": [
    "documents = {\n",
    "    'news': 'Codeup announced last thursday that they just launched a new data science program. It is 18 weeks long.',\n",
    "    'description': 'Codeup\\'s data science program teaches hands on skills using Python and pandas.',\n",
    "    'context': 'Codeup\\'s data science program was created in response to a percieved lack of data science talent, and growing demand.'\n",
    "}"
   ]
  },
  {
   "cell_type": "code",
   "execution_count": 16,
   "metadata": {},
   "outputs": [
    {
     "data": {
      "text/plain": [
       "data         0.105263\n",
       "science      0.105263\n",
       "in           0.052632\n",
       "and          0.052632\n",
       "was          0.052632\n",
       "to           0.052632\n",
       "talent,      0.052632\n",
       "a            0.052632\n",
       "created      0.052632\n",
       "percieved    0.052632\n",
       "growing      0.052632\n",
       "Codeup's     0.052632\n",
       "of           0.052632\n",
       "program      0.052632\n",
       "response     0.052632\n",
       "demand.      0.052632\n",
       "lack         0.052632\n",
       "dtype: float64"
      ]
     },
     "execution_count": 16,
     "metadata": {},
     "output_type": "execute_result"
    }
   ],
   "source": [
    "import pandas as pd\n",
    "\n",
    "\n",
    "tf = pd.Series(documents['context'].split()).value_counts(normalize=True)\n",
    "tf"
   ]
  },
  {
   "cell_type": "code",
   "execution_count": 45,
   "metadata": {},
   "outputs": [
    {
     "name": "stdout",
     "output_type": "stream",
     "text": [
      "hands 1.0033021088637848\n",
      "lack 1.0033021088637848\n",
      "that 1.0033021088637848\n",
      "data -0.032789822822990956\n",
      "new 1.0033021088637848\n",
      "was 1.0033021088637848\n",
      "announced 1.0033021088637848\n",
      "long 1.0033021088637848\n",
      "just 1.0033021088637848\n",
      "and 0.3566749439387324\n",
      "is 1.0033021088637848\n",
      "last 1.0033021088637848\n",
      "on -0.032789822822990956\n",
      "percieved 1.0033021088637848\n",
      "growing 1.0033021088637848\n",
      "talent 1.0033021088637848\n",
      "18 1.0033021088637848\n",
      "to 1.0033021088637848\n",
      "it 1.0033021088637848\n",
      "a -0.032789822822990956\n",
      "demand 1.0033021088637848\n",
      "teaches 1.0033021088637848\n",
      "of 1.0033021088637848\n",
      "skills 1.0033021088637848\n",
      "response 1.0033021088637848\n",
      "codeups 3.4011973816621555\n",
      "they 1.0033021088637848\n",
      "weeks 1.0033021088637848\n",
      "codeup -0.032789822822990956\n",
      "python 1.0033021088637848\n",
      "launched 1.0033021088637848\n",
      "thursday 1.0033021088637848\n",
      "created 1.0033021088637848\n",
      "science -0.032789822822990956\n",
      "pandas 1.0033021088637848\n",
      "using 1.0033021088637848\n",
      "program -0.032789822822990956\n",
      "in 0.3566749439387324\n"
     ]
    }
   ],
   "source": [
    "from math import log\n",
    "import re\n",
    "\n",
    "entire_text = ' '.join(list(documents.values()))\n",
    "\n",
    "words = re.sub(r'[^\\w\\s]', '', entire_text.lower()).split()\n",
    "\n",
    "unique_words = list(set(words))\n",
    "\n",
    "for word in unique_words:\n",
    "    n_documents_this_word_appears_in = 0\n",
    "    for doc in documents.values():\n",
    "        if word in doc.lower():\n",
    "            n_documents_this_word_appears_in += 1\n",
    "    document_frequency = n_documents_this_word_appears_in\n",
    "    idf = log(len(documents) / (document_frequency + .1))\n",
    "    print(word, idf)"
   ]
  },
  {
   "cell_type": "code",
   "execution_count": 86,
   "metadata": {},
   "outputs": [
    {
     "data": {
      "text/plain": [
       "<3x36 sparse matrix of type '<class 'numpy.float64'>'\n",
       "\twith 45 stored elements in Compressed Sparse Row format>"
      ]
     },
     "execution_count": 86,
     "metadata": {},
     "output_type": "execute_result"
    }
   ],
   "source": [
    "from sklearn.feature_extraction.text import TfidfVectorizer\n",
    "\n",
    "tfidf = TfidfVectorizer()\n",
    "tfidf.fit(documents.values())\n",
    "sparse_matrix = tfidf.transform(documents.values())\n",
    "tfidf_values = sparse_matrix.todense()\n",
    "sparse_matrix"
   ]
  },
  {
   "cell_type": "code",
   "execution_count": 88,
   "metadata": {},
   "outputs": [
    {
     "data": {
      "text/plain": [
       "matrix([[0.26356607, 0.        , 0.26356607, 0.15566636, 0.        ,\n",
       "         0.15566636, 0.        , 0.        , 0.        , 0.        ,\n",
       "         0.26356607, 0.26356607, 0.26356607, 0.        , 0.26356607,\n",
       "         0.26356607, 0.26356607, 0.26356607, 0.        , 0.        ,\n",
       "         0.        , 0.        , 0.15566636, 0.        , 0.        ,\n",
       "         0.15566636, 0.        , 0.        , 0.        , 0.26356607,\n",
       "         0.26356607, 0.26356607, 0.        , 0.        , 0.        ,\n",
       "         0.26356607],\n",
       "        [0.        , 0.25387968, 0.        , 0.19716022, 0.        ,\n",
       "         0.19716022, 0.        , 0.        , 0.33382127, 0.        ,\n",
       "         0.        , 0.        , 0.        , 0.        , 0.        ,\n",
       "         0.        , 0.        , 0.        , 0.        , 0.33382127,\n",
       "         0.33382127, 0.        , 0.19716022, 0.33382127, 0.        ,\n",
       "         0.19716022, 0.33382127, 0.        , 0.33382127, 0.        ,\n",
       "         0.        , 0.        , 0.        , 0.33382127, 0.        ,\n",
       "         0.        ],\n",
       "        [0.        , 0.19593195, 0.        , 0.15215863, 0.25762696,\n",
       "         0.30431727, 0.25762696, 0.25762696, 0.        , 0.25762696,\n",
       "         0.        , 0.        , 0.        , 0.25762696, 0.        ,\n",
       "         0.        , 0.        , 0.        , 0.25762696, 0.        ,\n",
       "         0.        , 0.25762696, 0.15215863, 0.        , 0.25762696,\n",
       "         0.30431727, 0.        , 0.25762696, 0.        , 0.        ,\n",
       "         0.        , 0.        , 0.25762696, 0.        , 0.25762696,\n",
       "         0.        ]])"
      ]
     },
     "execution_count": 88,
     "metadata": {},
     "output_type": "execute_result"
    }
   ],
   "source": [
    "sparse_matrix.todense()"
   ]
  },
  {
   "cell_type": "code",
   "execution_count": 59,
   "metadata": {},
   "outputs": [
    {
     "data": {
      "text/html": [
       "<div>\n",
       "<style scoped>\n",
       "    .dataframe tbody tr th:only-of-type {\n",
       "        vertical-align: middle;\n",
       "    }\n",
       "\n",
       "    .dataframe tbody tr th {\n",
       "        vertical-align: top;\n",
       "    }\n",
       "\n",
       "    .dataframe thead th {\n",
       "        text-align: right;\n",
       "    }\n",
       "</style>\n",
       "<table border=\"1\" class=\"dataframe\">\n",
       "  <thead>\n",
       "    <tr style=\"text-align: right;\">\n",
       "      <th></th>\n",
       "      <th>18</th>\n",
       "      <th>and</th>\n",
       "      <th>announced</th>\n",
       "      <th>codeup</th>\n",
       "      <th>created</th>\n",
       "      <th>data</th>\n",
       "      <th>demand</th>\n",
       "      <th>growing</th>\n",
       "      <th>hands</th>\n",
       "      <th>in</th>\n",
       "      <th>...</th>\n",
       "      <th>skills</th>\n",
       "      <th>talent</th>\n",
       "      <th>teaches</th>\n",
       "      <th>that</th>\n",
       "      <th>they</th>\n",
       "      <th>thursday</th>\n",
       "      <th>to</th>\n",
       "      <th>using</th>\n",
       "      <th>was</th>\n",
       "      <th>weeks</th>\n",
       "    </tr>\n",
       "  </thead>\n",
       "  <tbody>\n",
       "    <tr>\n",
       "      <th>0</th>\n",
       "      <td>0.263566</td>\n",
       "      <td>0.000000</td>\n",
       "      <td>0.263566</td>\n",
       "      <td>0.155666</td>\n",
       "      <td>0.000000</td>\n",
       "      <td>0.155666</td>\n",
       "      <td>0.000000</td>\n",
       "      <td>0.000000</td>\n",
       "      <td>0.000000</td>\n",
       "      <td>0.000000</td>\n",
       "      <td>...</td>\n",
       "      <td>0.000000</td>\n",
       "      <td>0.000000</td>\n",
       "      <td>0.000000</td>\n",
       "      <td>0.263566</td>\n",
       "      <td>0.263566</td>\n",
       "      <td>0.263566</td>\n",
       "      <td>0.000000</td>\n",
       "      <td>0.000000</td>\n",
       "      <td>0.000000</td>\n",
       "      <td>0.263566</td>\n",
       "    </tr>\n",
       "    <tr>\n",
       "      <th>1</th>\n",
       "      <td>0.000000</td>\n",
       "      <td>0.253880</td>\n",
       "      <td>0.000000</td>\n",
       "      <td>0.197160</td>\n",
       "      <td>0.000000</td>\n",
       "      <td>0.197160</td>\n",
       "      <td>0.000000</td>\n",
       "      <td>0.000000</td>\n",
       "      <td>0.333821</td>\n",
       "      <td>0.000000</td>\n",
       "      <td>...</td>\n",
       "      <td>0.333821</td>\n",
       "      <td>0.000000</td>\n",
       "      <td>0.333821</td>\n",
       "      <td>0.000000</td>\n",
       "      <td>0.000000</td>\n",
       "      <td>0.000000</td>\n",
       "      <td>0.000000</td>\n",
       "      <td>0.333821</td>\n",
       "      <td>0.000000</td>\n",
       "      <td>0.000000</td>\n",
       "    </tr>\n",
       "    <tr>\n",
       "      <th>2</th>\n",
       "      <td>0.000000</td>\n",
       "      <td>0.195932</td>\n",
       "      <td>0.000000</td>\n",
       "      <td>0.152159</td>\n",
       "      <td>0.257627</td>\n",
       "      <td>0.304317</td>\n",
       "      <td>0.257627</td>\n",
       "      <td>0.257627</td>\n",
       "      <td>0.000000</td>\n",
       "      <td>0.257627</td>\n",
       "      <td>...</td>\n",
       "      <td>0.000000</td>\n",
       "      <td>0.257627</td>\n",
       "      <td>0.000000</td>\n",
       "      <td>0.000000</td>\n",
       "      <td>0.000000</td>\n",
       "      <td>0.000000</td>\n",
       "      <td>0.257627</td>\n",
       "      <td>0.000000</td>\n",
       "      <td>0.257627</td>\n",
       "      <td>0.000000</td>\n",
       "    </tr>\n",
       "  </tbody>\n",
       "</table>\n",
       "<p>3 rows × 36 columns</p>\n",
       "</div>"
      ],
      "text/plain": [
       "         18       and  announced    codeup   created      data    demand  \\\n",
       "0  0.263566  0.000000   0.263566  0.155666  0.000000  0.155666  0.000000   \n",
       "1  0.000000  0.253880   0.000000  0.197160  0.000000  0.197160  0.000000   \n",
       "2  0.000000  0.195932   0.000000  0.152159  0.257627  0.304317  0.257627   \n",
       "\n",
       "    growing     hands        in    ...       skills    talent   teaches  \\\n",
       "0  0.000000  0.000000  0.000000    ...     0.000000  0.000000  0.000000   \n",
       "1  0.000000  0.333821  0.000000    ...     0.333821  0.000000  0.333821   \n",
       "2  0.257627  0.000000  0.257627    ...     0.000000  0.257627  0.000000   \n",
       "\n",
       "       that      they  thursday        to     using       was     weeks  \n",
       "0  0.263566  0.263566  0.263566  0.000000  0.000000  0.000000  0.263566  \n",
       "1  0.000000  0.000000  0.000000  0.000000  0.333821  0.000000  0.000000  \n",
       "2  0.000000  0.000000  0.000000  0.257627  0.000000  0.257627  0.000000  \n",
       "\n",
       "[3 rows x 36 columns]"
      ]
     },
     "execution_count": 59,
     "metadata": {},
     "output_type": "execute_result"
    }
   ],
   "source": [
    "pd.DataFrame(tfidf_values, columns=tfidf.get_feature_names())"
   ]
  },
  {
   "cell_type": "code",
   "execution_count": 67,
   "metadata": {},
   "outputs": [],
   "source": [
    "from sklearn.model_selection import train_test_split\n",
    "\n",
    "spam = pd.read_csv('./spam_clean.csv')\n",
    "spam\n",
    "\n",
    "X_train, X_test, y_train, y_test = train_test_split(spam.text, spam.label, stratify=spam.label, random_state=123)\n",
    "\n"
   ]
  },
  {
   "cell_type": "code",
   "execution_count": 96,
   "metadata": {},
   "outputs": [
    {
     "name": "stderr",
     "output_type": "stream",
     "text": [
      "/Users/zach/anaconda3/lib/python3.7/site-packages/sklearn/linear_model/logistic.py:433: FutureWarning: Default solver will be changed to 'lbfgs' in 0.22. Specify a solver to silence this warning.\n",
      "  FutureWarning)\n"
     ]
    }
   ],
   "source": [
    "from sklearn.linear_model import LogisticRegression\n",
    "\n",
    "tfidf = TfidfVectorizer()\n",
    "tfidf.fit(X_train)\n",
    "train_tfidf_values = tfidf.transform(X_train)\n",
    "\n",
    "model = LogisticRegression()\n",
    "model.fit(train_tfidf_values, y_train)\n",
    "\n",
    "predictions = model.predict(train_tfidf_values)"
   ]
  },
  {
   "cell_type": "code",
   "execution_count": 97,
   "metadata": {},
   "outputs": [
    {
     "data": {
      "text/html": [
       "<div>\n",
       "<style scoped>\n",
       "    .dataframe tbody tr th:only-of-type {\n",
       "        vertical-align: middle;\n",
       "    }\n",
       "\n",
       "    .dataframe tbody tr th {\n",
       "        vertical-align: top;\n",
       "    }\n",
       "\n",
       "    .dataframe thead th {\n",
       "        text-align: right;\n",
       "    }\n",
       "</style>\n",
       "<table border=\"1\" class=\"dataframe\">\n",
       "  <thead>\n",
       "    <tr style=\"text-align: right;\">\n",
       "      <th>actual</th>\n",
       "      <th>ham</th>\n",
       "      <th>spam</th>\n",
       "    </tr>\n",
       "    <tr>\n",
       "      <th>predicted</th>\n",
       "      <th></th>\n",
       "      <th></th>\n",
       "    </tr>\n",
       "  </thead>\n",
       "  <tbody>\n",
       "    <tr>\n",
       "      <th>ham</th>\n",
       "      <td>3618</td>\n",
       "      <td>110</td>\n",
       "    </tr>\n",
       "    <tr>\n",
       "      <th>spam</th>\n",
       "      <td>1</td>\n",
       "      <td>450</td>\n",
       "    </tr>\n",
       "  </tbody>\n",
       "</table>\n",
       "</div>"
      ],
      "text/plain": [
       "actual      ham  spam\n",
       "predicted            \n",
       "ham        3618   110\n",
       "spam          1   450"
      ]
     },
     "execution_count": 97,
     "metadata": {},
     "output_type": "execute_result"
    }
   ],
   "source": [
    "df = pd.DataFrame(dict(actual=y_train, predicted=predictions))\n",
    "\n",
    "pd.crosstab(df.predicted, df.actual)"
   ]
  },
  {
   "cell_type": "code",
   "execution_count": 83,
   "metadata": {},
   "outputs": [
    {
     "name": "stdout",
     "output_type": "stream",
     "text": [
      "              precision    recall  f1-score   support\n",
      "\n",
      "         ham       0.97      1.00      0.98      3619\n",
      "        spam       1.00      0.80      0.89       560\n",
      "\n",
      "   micro avg       0.97      0.97      0.97      4179\n",
      "   macro avg       0.98      0.90      0.94      4179\n",
      "weighted avg       0.97      0.97      0.97      4179\n",
      "\n"
     ]
    }
   ],
   "source": [
    "from sklearn.metrics import classification_report\n",
    "\n",
    "print(classification_report(df.actual, df.predicted))"
   ]
  },
  {
   "cell_type": "code",
   "execution_count": 101,
   "metadata": {},
   "outputs": [
    {
     "name": "stdout",
     "output_type": "stream",
     "text": [
      "              precision    recall  f1-score   support\n",
      "\n",
      "         ham       0.98      1.00      0.99      1206\n",
      "        spam       0.98      0.85      0.91       187\n",
      "\n",
      "   micro avg       0.98      0.98      0.98      1393\n",
      "   macro avg       0.98      0.92      0.95      1393\n",
      "weighted avg       0.98      0.98      0.98      1393\n",
      "\n"
     ]
    }
   ],
   "source": [
    "test_tfidf_values = tfidf.transform(X_test)\n",
    "test_predictions = model.predict(test_tfidf_values)\n",
    "\n",
    "print(classification_report(y_test, test_predictions))"
   ]
  },
  {
   "cell_type": "code",
   "execution_count": 105,
   "metadata": {},
   "outputs": [],
   "source": [
    "def predict(unknown_text):\n",
    "    return model.predict(tfidf.transform([unknown_text]))[0]"
   ]
  },
  {
   "cell_type": "code",
   "execution_count": 109,
   "metadata": {},
   "outputs": [
    {
     "data": {
      "text/plain": [
       "'spam'"
      ]
     },
     "execution_count": 109,
     "metadata": {},
     "output_type": "execute_result"
    }
   ],
   "source": [
    "predict('free cash prize')"
   ]
  }
 ],
 "metadata": {
  "kernelspec": {
   "display_name": "Python 3",
   "language": "python",
   "name": "python3"
  },
  "language_info": {
   "codemirror_mode": {
    "name": "ipython",
    "version": 3
   },
   "file_extension": ".py",
   "mimetype": "text/x-python",
   "name": "python",
   "nbconvert_exporter": "python",
   "pygments_lexer": "ipython3",
   "version": "3.7.1"
  }
 },
 "nbformat": 4,
 "nbformat_minor": 2
}
